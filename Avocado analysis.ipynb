{
 "cells": [
  {
   "cell_type": "markdown",
   "id": "e73270ed",
   "metadata": {},
   "source": [
    "# Avocado analysis"
   ]
  },
  {
   "cell_type": "markdown",
   "id": "21227443",
   "metadata": {},
   "source": [
    "Avocado is a fruit consumed by people heavily in the United States. Most of the Americans Love to have Avocado Toast.Clearly, they aren't buying home because if they are buying, they have to spend much Avocado Toast.But if they could find cheap avocados, they could live out the Millenial American Dream."
   ]
  },
  {
   "cell_type": "markdown",
   "id": "07e488d7",
   "metadata": {},
   "source": [
    "# Content"
   ]
  },
  {
   "cell_type": "markdown",
   "id": "dfcee9d9",
   "metadata": {},
   "source": [
    "The data represents weekly 2018 retail scan data for National retail volume (units) and price. Retail scan data comes directly from retailers’ cash registers based on actual retail sales of Hass avocados. Starting in 2013, the data reflects an expanded, multi-outlet retail data set. Multi-outlet reporting includes an aggregation of the following channels: grocery, mass, club, drug, dollar and military. The Average Price (of avocados) in the data reflects a per unit (per avocado) cost, even when multiple units (avocados) are sold in bags. The Product Lookup codes (PLU’s) in the table are only for Hass avocados. Other varieties of avocados (e.g. greenskins) are not included in this data"
   ]
  },
  {
   "cell_type": "markdown",
   "id": "f6e61474",
   "metadata": {},
   "source": [
    "# Columns in our dataset"
   ]
  },
  {
   "cell_type": "markdown",
   "id": "a5d2ace5",
   "metadata": {},
   "source": [
    "index\n",
    "\n",
    "Date: The date of the observation\n",
    "\n",
    "AveragePrice: The average price of a single avocado\n",
    "\n",
    "Total Volume: Total number of avocados sold\n",
    "\n",
    "4046: Total number of avocados with PLU 4046 sold\n",
    "\n",
    "4225: Total number of avocados with PLU 4225 sold\n",
    "\n",
    "4770: Total number of avocados with PLU 4770 sold\n",
    "\n",
    "Total Bags\n",
    "\n",
    "Small Bags\n",
    "\n",
    "Large Bags\n",
    "\n",
    "XLarge Bags\n",
    "\n",
    "type: conventional or organic\n",
    "\n",
    "year: The year\n",
    "\n",
    "region: The city or region of the observation"
   ]
  },
  {
   "cell_type": "markdown",
   "id": "02ce5a33",
   "metadata": {},
   "source": [
    "# Task"
   ]
  },
  {
   "cell_type": "markdown",
   "id": "8c5a75d6",
   "metadata": {},
   "source": [
    "The goal is to predict the average price which is continuous in nature for the different type of avocados.\n",
    "\n",
    "Using the region that in which region avocados are grown more."
   ]
  },
  {
   "cell_type": "markdown",
   "id": "0a62144a",
   "metadata": {},
   "source": [
    "# Target Variable"
   ]
  },
  {
   "cell_type": "code",
   "execution_count": null,
   "id": "49d9a8aa",
   "metadata": {},
   "outputs": [],
   "source": [
    "1. Average Price\n",
    "\n",
    "2. Region"
   ]
  },
  {
   "cell_type": "markdown",
   "id": "28992ada",
   "metadata": {},
   "source": [
    "# Import Libraries"
   ]
  },
  {
   "cell_type": "code",
   "execution_count": 1,
   "id": "286a91c3",
   "metadata": {},
   "outputs": [],
   "source": [
    "import numpy as np\n",
    "import pandas as pd\n",
    "import matplotlib.pyplot as plt\n",
    "import seaborn as sns\n",
    "import sklearn\n",
    "\n",
    "from sklearn.preprocessing import LabelEncoder\n",
    "from sklearn.preprocessing import StandardScaler\n",
    "\n",
    "import warnings\n",
    "warnings.filterwarnings('ignore')"
   ]
  },
  {
   "cell_type": "markdown",
   "id": "ed7fa8d6",
   "metadata": {},
   "source": [
    "# Load DataSet"
   ]
  },
  {
   "cell_type": "code",
   "execution_count": 2,
   "id": "7c97a6d8",
   "metadata": {},
   "outputs": [],
   "source": [
    "df= pd.read_excel(r'C:\\python\\Avocado.xlsx')"
   ]
  },
  {
   "cell_type": "code",
   "execution_count": 3,
   "id": "72a6a175",
   "metadata": {},
   "outputs": [
    {
     "data": {
      "text/html": [
       "<div>\n",
       "<style scoped>\n",
       "    .dataframe tbody tr th:only-of-type {\n",
       "        vertical-align: middle;\n",
       "    }\n",
       "\n",
       "    .dataframe tbody tr th {\n",
       "        vertical-align: top;\n",
       "    }\n",
       "\n",
       "    .dataframe thead th {\n",
       "        text-align: right;\n",
       "    }\n",
       "</style>\n",
       "<table border=\"1\" class=\"dataframe\">\n",
       "  <thead>\n",
       "    <tr style=\"text-align: right;\">\n",
       "      <th></th>\n",
       "      <th>Unnamed: 0</th>\n",
       "      <th>Date</th>\n",
       "      <th>AveragePrice</th>\n",
       "      <th>Total Volume</th>\n",
       "      <th>4046</th>\n",
       "      <th>4225</th>\n",
       "      <th>4770</th>\n",
       "      <th>Total Bags</th>\n",
       "      <th>Small Bags</th>\n",
       "      <th>Large Bags</th>\n",
       "      <th>XLarge Bags</th>\n",
       "      <th>type</th>\n",
       "      <th>year</th>\n",
       "      <th>region</th>\n",
       "    </tr>\n",
       "  </thead>\n",
       "  <tbody>\n",
       "    <tr>\n",
       "      <th>0</th>\n",
       "      <td>0</td>\n",
       "      <td>2015-12-27</td>\n",
       "      <td>1.33</td>\n",
       "      <td>64236.62</td>\n",
       "      <td>1036.74</td>\n",
       "      <td>54454.85</td>\n",
       "      <td>48.16</td>\n",
       "      <td>8696.87</td>\n",
       "      <td>8603.62</td>\n",
       "      <td>93.25</td>\n",
       "      <td>0.0</td>\n",
       "      <td>conventional</td>\n",
       "      <td>2015</td>\n",
       "      <td>Albany</td>\n",
       "    </tr>\n",
       "    <tr>\n",
       "      <th>1</th>\n",
       "      <td>1</td>\n",
       "      <td>2015-12-20</td>\n",
       "      <td>1.35</td>\n",
       "      <td>54876.98</td>\n",
       "      <td>674.28</td>\n",
       "      <td>44638.81</td>\n",
       "      <td>58.33</td>\n",
       "      <td>9505.56</td>\n",
       "      <td>9408.07</td>\n",
       "      <td>97.49</td>\n",
       "      <td>0.0</td>\n",
       "      <td>conventional</td>\n",
       "      <td>2015</td>\n",
       "      <td>Albany</td>\n",
       "    </tr>\n",
       "    <tr>\n",
       "      <th>2</th>\n",
       "      <td>2</td>\n",
       "      <td>2015-12-13</td>\n",
       "      <td>0.93</td>\n",
       "      <td>118220.22</td>\n",
       "      <td>794.70</td>\n",
       "      <td>109149.67</td>\n",
       "      <td>130.50</td>\n",
       "      <td>8145.35</td>\n",
       "      <td>8042.21</td>\n",
       "      <td>103.14</td>\n",
       "      <td>0.0</td>\n",
       "      <td>conventional</td>\n",
       "      <td>2015</td>\n",
       "      <td>Albany</td>\n",
       "    </tr>\n",
       "    <tr>\n",
       "      <th>3</th>\n",
       "      <td>3</td>\n",
       "      <td>2015-12-06</td>\n",
       "      <td>1.08</td>\n",
       "      <td>78992.15</td>\n",
       "      <td>1132.00</td>\n",
       "      <td>71976.41</td>\n",
       "      <td>72.58</td>\n",
       "      <td>5811.16</td>\n",
       "      <td>5677.40</td>\n",
       "      <td>133.76</td>\n",
       "      <td>0.0</td>\n",
       "      <td>conventional</td>\n",
       "      <td>2015</td>\n",
       "      <td>Albany</td>\n",
       "    </tr>\n",
       "    <tr>\n",
       "      <th>4</th>\n",
       "      <td>4</td>\n",
       "      <td>2015-11-29</td>\n",
       "      <td>1.28</td>\n",
       "      <td>51039.60</td>\n",
       "      <td>941.48</td>\n",
       "      <td>43838.39</td>\n",
       "      <td>75.78</td>\n",
       "      <td>6183.95</td>\n",
       "      <td>5986.26</td>\n",
       "      <td>197.69</td>\n",
       "      <td>0.0</td>\n",
       "      <td>conventional</td>\n",
       "      <td>2015</td>\n",
       "      <td>Albany</td>\n",
       "    </tr>\n",
       "    <tr>\n",
       "      <th>...</th>\n",
       "      <td>...</td>\n",
       "      <td>...</td>\n",
       "      <td>...</td>\n",
       "      <td>...</td>\n",
       "      <td>...</td>\n",
       "      <td>...</td>\n",
       "      <td>...</td>\n",
       "      <td>...</td>\n",
       "      <td>...</td>\n",
       "      <td>...</td>\n",
       "      <td>...</td>\n",
       "      <td>...</td>\n",
       "      <td>...</td>\n",
       "      <td>...</td>\n",
       "    </tr>\n",
       "    <tr>\n",
       "      <th>18244</th>\n",
       "      <td>7</td>\n",
       "      <td>2018-02-04</td>\n",
       "      <td>1.63</td>\n",
       "      <td>17074.83</td>\n",
       "      <td>2046.96</td>\n",
       "      <td>1529.20</td>\n",
       "      <td>0.00</td>\n",
       "      <td>13498.67</td>\n",
       "      <td>13066.82</td>\n",
       "      <td>431.85</td>\n",
       "      <td>0.0</td>\n",
       "      <td>organic</td>\n",
       "      <td>2018</td>\n",
       "      <td>WestTexNewMexico</td>\n",
       "    </tr>\n",
       "    <tr>\n",
       "      <th>18245</th>\n",
       "      <td>8</td>\n",
       "      <td>2018-01-28</td>\n",
       "      <td>1.71</td>\n",
       "      <td>13888.04</td>\n",
       "      <td>1191.70</td>\n",
       "      <td>3431.50</td>\n",
       "      <td>0.00</td>\n",
       "      <td>9264.84</td>\n",
       "      <td>8940.04</td>\n",
       "      <td>324.80</td>\n",
       "      <td>0.0</td>\n",
       "      <td>organic</td>\n",
       "      <td>2018</td>\n",
       "      <td>WestTexNewMexico</td>\n",
       "    </tr>\n",
       "    <tr>\n",
       "      <th>18246</th>\n",
       "      <td>9</td>\n",
       "      <td>2018-01-21</td>\n",
       "      <td>1.87</td>\n",
       "      <td>13766.76</td>\n",
       "      <td>1191.92</td>\n",
       "      <td>2452.79</td>\n",
       "      <td>727.94</td>\n",
       "      <td>9394.11</td>\n",
       "      <td>9351.80</td>\n",
       "      <td>42.31</td>\n",
       "      <td>0.0</td>\n",
       "      <td>organic</td>\n",
       "      <td>2018</td>\n",
       "      <td>WestTexNewMexico</td>\n",
       "    </tr>\n",
       "    <tr>\n",
       "      <th>18247</th>\n",
       "      <td>10</td>\n",
       "      <td>2018-01-14</td>\n",
       "      <td>1.93</td>\n",
       "      <td>16205.22</td>\n",
       "      <td>1527.63</td>\n",
       "      <td>2981.04</td>\n",
       "      <td>727.01</td>\n",
       "      <td>10969.54</td>\n",
       "      <td>10919.54</td>\n",
       "      <td>50.00</td>\n",
       "      <td>0.0</td>\n",
       "      <td>organic</td>\n",
       "      <td>2018</td>\n",
       "      <td>WestTexNewMexico</td>\n",
       "    </tr>\n",
       "    <tr>\n",
       "      <th>18248</th>\n",
       "      <td>11</td>\n",
       "      <td>2018-01-07</td>\n",
       "      <td>1.62</td>\n",
       "      <td>17489.58</td>\n",
       "      <td>2894.77</td>\n",
       "      <td>2356.13</td>\n",
       "      <td>224.53</td>\n",
       "      <td>12014.15</td>\n",
       "      <td>11988.14</td>\n",
       "      <td>26.01</td>\n",
       "      <td>0.0</td>\n",
       "      <td>organic</td>\n",
       "      <td>2018</td>\n",
       "      <td>WestTexNewMexico</td>\n",
       "    </tr>\n",
       "  </tbody>\n",
       "</table>\n",
       "<p>18249 rows × 14 columns</p>\n",
       "</div>"
      ],
      "text/plain": [
       "       Unnamed: 0       Date  AveragePrice  Total Volume     4046       4225  \\\n",
       "0               0 2015-12-27          1.33      64236.62  1036.74   54454.85   \n",
       "1               1 2015-12-20          1.35      54876.98   674.28   44638.81   \n",
       "2               2 2015-12-13          0.93     118220.22   794.70  109149.67   \n",
       "3               3 2015-12-06          1.08      78992.15  1132.00   71976.41   \n",
       "4               4 2015-11-29          1.28      51039.60   941.48   43838.39   \n",
       "...           ...        ...           ...           ...      ...        ...   \n",
       "18244           7 2018-02-04          1.63      17074.83  2046.96    1529.20   \n",
       "18245           8 2018-01-28          1.71      13888.04  1191.70    3431.50   \n",
       "18246           9 2018-01-21          1.87      13766.76  1191.92    2452.79   \n",
       "18247          10 2018-01-14          1.93      16205.22  1527.63    2981.04   \n",
       "18248          11 2018-01-07          1.62      17489.58  2894.77    2356.13   \n",
       "\n",
       "         4770  Total Bags  Small Bags  Large Bags  XLarge Bags          type  \\\n",
       "0       48.16     8696.87     8603.62       93.25          0.0  conventional   \n",
       "1       58.33     9505.56     9408.07       97.49          0.0  conventional   \n",
       "2      130.50     8145.35     8042.21      103.14          0.0  conventional   \n",
       "3       72.58     5811.16     5677.40      133.76          0.0  conventional   \n",
       "4       75.78     6183.95     5986.26      197.69          0.0  conventional   \n",
       "...       ...         ...         ...         ...          ...           ...   \n",
       "18244    0.00    13498.67    13066.82      431.85          0.0       organic   \n",
       "18245    0.00     9264.84     8940.04      324.80          0.0       organic   \n",
       "18246  727.94     9394.11     9351.80       42.31          0.0       organic   \n",
       "18247  727.01    10969.54    10919.54       50.00          0.0       organic   \n",
       "18248  224.53    12014.15    11988.14       26.01          0.0       organic   \n",
       "\n",
       "       year            region  \n",
       "0      2015            Albany  \n",
       "1      2015            Albany  \n",
       "2      2015            Albany  \n",
       "3      2015            Albany  \n",
       "4      2015            Albany  \n",
       "...     ...               ...  \n",
       "18244  2018  WestTexNewMexico  \n",
       "18245  2018  WestTexNewMexico  \n",
       "18246  2018  WestTexNewMexico  \n",
       "18247  2018  WestTexNewMexico  \n",
       "18248  2018  WestTexNewMexico  \n",
       "\n",
       "[18249 rows x 14 columns]"
      ]
     },
     "execution_count": 3,
     "metadata": {},
     "output_type": "execute_result"
    }
   ],
   "source": [
    "df"
   ]
  },
  {
   "cell_type": "markdown",
   "id": "bc4c2142",
   "metadata": {},
   "source": [
    "# To find shape and type of the dataset"
   ]
  },
  {
   "cell_type": "code",
   "execution_count": 4,
   "id": "40211644",
   "metadata": {},
   "outputs": [
    {
     "data": {
      "text/plain": [
       "(18249, 14)"
      ]
     },
     "execution_count": 4,
     "metadata": {},
     "output_type": "execute_result"
    }
   ],
   "source": [
    "df.shape"
   ]
  },
  {
   "cell_type": "code",
   "execution_count": 5,
   "id": "54562e41",
   "metadata": {},
   "outputs": [
    {
     "data": {
      "text/plain": [
       "Unnamed: 0               int64\n",
       "Date            datetime64[ns]\n",
       "AveragePrice           float64\n",
       "Total Volume           float64\n",
       "4046                   float64\n",
       "4225                   float64\n",
       "4770                   float64\n",
       "Total Bags             float64\n",
       "Small Bags             float64\n",
       "Large Bags             float64\n",
       "XLarge Bags            float64\n",
       "type                    object\n",
       "year                     int64\n",
       "region                  object\n",
       "dtype: object"
      ]
     },
     "execution_count": 5,
     "metadata": {},
     "output_type": "execute_result"
    }
   ],
   "source": [
    "df.dtypes"
   ]
  },
  {
   "cell_type": "markdown",
   "id": "23f3b594",
   "metadata": {},
   "source": [
    "Removing unnamed column, since it is just a serial number"
   ]
  },
  {
   "cell_type": "code",
   "execution_count": 6,
   "id": "52e076c2",
   "metadata": {},
   "outputs": [],
   "source": [
    "df.drop('Unnamed: 0', inplace=True, axis=1)"
   ]
  },
  {
   "cell_type": "code",
   "execution_count": 7,
   "id": "7d18ae3f",
   "metadata": {},
   "outputs": [
    {
     "data": {
      "text/plain": [
       "(18249, 13)"
      ]
     },
     "execution_count": 7,
     "metadata": {},
     "output_type": "execute_result"
    }
   ],
   "source": [
    "df.shape"
   ]
  },
  {
   "cell_type": "markdown",
   "id": "c18969cd",
   "metadata": {},
   "source": [
    "# Check For null Values"
   ]
  },
  {
   "cell_type": "code",
   "execution_count": 8,
   "id": "072c0429",
   "metadata": {},
   "outputs": [
    {
     "data": {
      "text/plain": [
       "Date            0\n",
       "AveragePrice    0\n",
       "Total Volume    0\n",
       "4046            0\n",
       "4225            0\n",
       "4770            0\n",
       "Total Bags      0\n",
       "Small Bags      0\n",
       "Large Bags      0\n",
       "XLarge Bags     0\n",
       "type            0\n",
       "year            0\n",
       "region          0\n",
       "dtype: int64"
      ]
     },
     "execution_count": 8,
     "metadata": {},
     "output_type": "execute_result"
    }
   ],
   "source": [
    "df.isnull().sum()"
   ]
  },
  {
   "cell_type": "code",
   "execution_count": 9,
   "id": "43cc7c66",
   "metadata": {},
   "outputs": [
    {
     "data": {
      "text/plain": [
       "<AxesSubplot:>"
      ]
     },
     "execution_count": 9,
     "metadata": {},
     "output_type": "execute_result"
    },
    {
     "data": {
      "image/png": "[encoded data removed]",
      "text/plain": [
       "<Figure size 432x288 with 2 Axes>"
      ]
     },
     "metadata": {
      "needs_background": "light"
     },
     "output_type": "display_data"
    }
   ],
   "source": [
    "sns.heatmap(df.isnull())"
   ]
  },
  {
   "cell_type": "markdown",
   "id": "b2793c76",
   "metadata": {},
   "source": [
    "There are no null values in this dataset, so we shall proceed with further analysis."
   ]
  },
  {
   "cell_type": "markdown",
   "id": "d0e0ccda",
   "metadata": {},
   "source": [
    "Date is in DateTime function. We may handle it and convert it to integer for further analysis. Year column is already present in the dataset, so we may remove date column."
   ]
  },
  {
   "cell_type": "code",
   "execution_count": 10,
   "id": "48197892",
   "metadata": {},
   "outputs": [],
   "source": [
    "df['Date']=pd.to_datetime(df['Date'])\n",
    "df['Month']=df['Date'].apply(lambda x:x.month)\n",
    "df['Day']=df['Date'].apply(lambda x:x.day)"
   ]
  },
  {
   "cell_type": "code",
   "execution_count": 11,
   "id": "737fed0d",
   "metadata": {},
   "outputs": [],
   "source": [
    "df.drop('Date', inplace=True, axis=1)"
   ]
  },
  {
   "cell_type": "code",
   "execution_count": 12,
   "id": "3b5304b5",
   "metadata": {},
   "outputs": [
    {
     "data": {
      "text/html": [
       "<div>\n",
       "<style scoped>\n",
       "    .dataframe tbody tr th:only-of-type {\n",
       "        vertical-align: middle;\n",
       "    }\n",
       "\n",
       "    .dataframe tbody tr th {\n",
       "        vertical-align: top;\n",
       "    }\n",
       "\n",
       "    .dataframe thead th {\n",
       "        text-align: right;\n",
       "    }\n",
       "</style>\n",
       "<table border=\"1\" class=\"dataframe\">\n",
       "  <thead>\n",
       "    <tr style=\"text-align: right;\">\n",
       "      <th></th>\n",
       "      <th>AveragePrice</th>\n",
       "      <th>Total Volume</th>\n",
       "      <th>4046</th>\n",
       "      <th>4225</th>\n",
       "      <th>4770</th>\n",
       "      <th>Total Bags</th>\n",
       "      <th>Small Bags</th>\n",
       "      <th>Large Bags</th>\n",
       "      <th>XLarge Bags</th>\n",
       "      <th>type</th>\n",
       "      <th>year</th>\n",
       "      <th>region</th>\n",
       "      <th>Month</th>\n",
       "      <th>Day</th>\n",
       "    </tr>\n",
       "  </thead>\n",
       "  <tbody>\n",
       "    <tr>\n",
       "      <th>0</th>\n",
       "      <td>1.33</td>\n",
       "      <td>64236.62</td>\n",
       "      <td>1036.74</td>\n",
       "      <td>54454.85</td>\n",
       "      <td>48.16</td>\n",
       "      <td>8696.87</td>\n",
       "      <td>8603.62</td>\n",
       "      <td>93.25</td>\n",
       "      <td>0.0</td>\n",
       "      <td>conventional</td>\n",
       "      <td>2015</td>\n",
       "      <td>Albany</td>\n",
       "      <td>12</td>\n",
       "      <td>27</td>\n",
       "    </tr>\n",
       "    <tr>\n",
       "      <th>1</th>\n",
       "      <td>1.35</td>\n",
       "      <td>54876.98</td>\n",
       "      <td>674.28</td>\n",
       "      <td>44638.81</td>\n",
       "      <td>58.33</td>\n",
       "      <td>9505.56</td>\n",
       "      <td>9408.07</td>\n",
       "      <td>97.49</td>\n",
       "      <td>0.0</td>\n",
       "      <td>conventional</td>\n",
       "      <td>2015</td>\n",
       "      <td>Albany</td>\n",
       "      <td>12</td>\n",
       "      <td>20</td>\n",
       "    </tr>\n",
       "    <tr>\n",
       "      <th>2</th>\n",
       "      <td>0.93</td>\n",
       "      <td>118220.22</td>\n",
       "      <td>794.70</td>\n",
       "      <td>109149.67</td>\n",
       "      <td>130.50</td>\n",
       "      <td>8145.35</td>\n",
       "      <td>8042.21</td>\n",
       "      <td>103.14</td>\n",
       "      <td>0.0</td>\n",
       "      <td>conventional</td>\n",
       "      <td>2015</td>\n",
       "      <td>Albany</td>\n",
       "      <td>12</td>\n",
       "      <td>13</td>\n",
       "    </tr>\n",
       "    <tr>\n",
       "      <th>3</th>\n",
       "      <td>1.08</td>\n",
       "      <td>78992.15</td>\n",
       "      <td>1132.00</td>\n",
       "      <td>71976.41</td>\n",
       "      <td>72.58</td>\n",
       "      <td>5811.16</td>\n",
       "      <td>5677.40</td>\n",
       "      <td>133.76</td>\n",
       "      <td>0.0</td>\n",
       "      <td>conventional</td>\n",
       "      <td>2015</td>\n",
       "      <td>Albany</td>\n",
       "      <td>12</td>\n",
       "      <td>6</td>\n",
       "    </tr>\n",
       "    <tr>\n",
       "      <th>4</th>\n",
       "      <td>1.28</td>\n",
       "      <td>51039.60</td>\n",
       "      <td>941.48</td>\n",
       "      <td>43838.39</td>\n",
       "      <td>75.78</td>\n",
       "      <td>6183.95</td>\n",
       "      <td>5986.26</td>\n",
       "      <td>197.69</td>\n",
       "      <td>0.0</td>\n",
       "      <td>conventional</td>\n",
       "      <td>2015</td>\n",
       "      <td>Albany</td>\n",
       "      <td>11</td>\n",
       "      <td>29</td>\n",
       "    </tr>\n",
       "    <tr>\n",
       "      <th>...</th>\n",
       "      <td>...</td>\n",
       "      <td>...</td>\n",
       "      <td>...</td>\n",
       "      <td>...</td>\n",
       "      <td>...</td>\n",
       "      <td>...</td>\n",
       "      <td>...</td>\n",
       "      <td>...</td>\n",
       "      <td>...</td>\n",
       "      <td>...</td>\n",
       "      <td>...</td>\n",
       "      <td>...</td>\n",
       "      <td>...</td>\n",
       "      <td>...</td>\n",
       "    </tr>\n",
       "    <tr>\n",
       "      <th>18244</th>\n",
       "      <td>1.63</td>\n",
       "      <td>17074.83</td>\n",
       "      <td>2046.96</td>\n",
       "      <td>1529.20</td>\n",
       "      <td>0.00</td>\n",
       "      <td>13498.67</td>\n",
       "      <td>13066.82</td>\n",
       "      <td>431.85</td>\n",
       "      <td>0.0</td>\n",
       "      <td>organic</td>\n",
       "      <td>2018</td>\n",
       "      <td>WestTexNewMexico</td>\n",
       "      <td>2</td>\n",
       "      <td>4</td>\n",
       "    </tr>\n",
       "    <tr>\n",
       "      <th>18245</th>\n",
       "      <td>1.71</td>\n",
       "      <td>13888.04</td>\n",
       "      <td>1191.70</td>\n",
       "      <td>3431.50</td>\n",
       "      <td>0.00</td>\n",
       "      <td>9264.84</td>\n",
       "      <td>8940.04</td>\n",
       "      <td>324.80</td>\n",
       "      <td>0.0</td>\n",
       "      <td>organic</td>\n",
       "      <td>2018</td>\n",
       "      <td>WestTexNewMexico</td>\n",
       "      <td>1</td>\n",
       "      <td>28</td>\n",
       "    </tr>\n",
       "    <tr>\n",
       "      <th>18246</th>\n",
       "      <td>1.87</td>\n",
       "      <td>13766.76</td>\n",
       "      <td>1191.92</td>\n",
       "      <td>2452.79</td>\n",
       "      <td>727.94</td>\n",
       "      <td>9394.11</td>\n",
       "      <td>9351.80</td>\n",
       "      <td>42.31</td>\n",
       "      <td>0.0</td>\n",
       "      <td>organic</td>\n",
       "      <td>2018</td>\n",
       "      <td>WestTexNewMexico</td>\n",
       "      <td>1</td>\n",
       "      <td>21</td>\n",
       "    </tr>\n",
       "    <tr>\n",
       "      <th>18247</th>\n",
       "      <td>1.93</td>\n",
       "      <td>16205.22</td>\n",
       "      <td>1527.63</td>\n",
       "      <td>2981.04</td>\n",
       "      <td>727.01</td>\n",
       "      <td>10969.54</td>\n",
       "      <td>10919.54</td>\n",
       "      <td>50.00</td>\n",
       "      <td>0.0</td>\n",
       "      <td>organic</td>\n",
       "      <td>2018</td>\n",
       "      <td>WestTexNewMexico</td>\n",
       "      <td>1</td>\n",
       "      <td>14</td>\n",
       "    </tr>\n",
       "    <tr>\n",
       "      <th>18248</th>\n",
       "      <td>1.62</td>\n",
       "      <td>17489.58</td>\n",
       "      <td>2894.77</td>\n",
       "      <td>2356.13</td>\n",
       "      <td>224.53</td>\n",
       "      <td>12014.15</td>\n",
       "      <td>11988.14</td>\n",
       "      <td>26.01</td>\n",
       "      <td>0.0</td>\n",
       "      <td>organic</td>\n",
       "      <td>2018</td>\n",
       "      <td>WestTexNewMexico</td>\n",
       "      <td>1</td>\n",
       "      <td>7</td>\n",
       "    </tr>\n",
       "  </tbody>\n",
       "</table>\n",
       "<p>18249 rows × 14 columns</p>\n",
       "</div>"
      ],
      "text/plain": [
       "       AveragePrice  Total Volume     4046       4225    4770  Total Bags  \\\n",
       "0              1.33      64236.62  1036.74   54454.85   48.16     8696.87   \n",
       "1              1.35      54876.98   674.28   44638.81   58.33     9505.56   \n",
       "2              0.93     118220.22   794.70  109149.67  130.50     8145.35   \n",
       "3              1.08      78992.15  1132.00   71976.41   72.58     5811.16   \n",
       "4              1.28      51039.60   941.48   43838.39   75.78     6183.95   \n",
       "...             ...           ...      ...        ...     ...         ...   \n",
       "18244          1.63      17074.83  2046.96    1529.20    0.00    13498.67   \n",
       "18245          1.71      13888.04  1191.70    3431.50    0.00     9264.84   \n",
       "18246          1.87      13766.76  1191.92    2452.79  727.94     9394.11   \n",
       "18247          1.93      16205.22  1527.63    2981.04  727.01    10969.54   \n",
       "18248          1.62      17489.58  2894.77    2356.13  224.53    12014.15   \n",
       "\n",
       "       Small Bags  Large Bags  XLarge Bags          type  year  \\\n",
       "0         8603.62       93.25          0.0  conventional  2015   \n",
       "1         9408.07       97.49          0.0  conventional  2015   \n",
       "2         8042.21      103.14          0.0  conventional  2015   \n",
       "3         5677.40      133.76          0.0  conventional  2015   \n",
       "4         5986.26      197.69          0.0  conventional  2015   \n",
       "...           ...         ...          ...           ...   ...   \n",
       "18244    13066.82      431.85          0.0       organic  2018   \n",
       "18245     8940.04      324.80          0.0       organic  2018   \n",
       "18246     9351.80       42.31          0.0       organic  2018   \n",
       "18247    10919.54       50.00          0.0       organic  2018   \n",
       "18248    11988.14       26.01          0.0       organic  2018   \n",
       "\n",
       "                 region  Month  Day  \n",
       "0                Albany     12   27  \n",
       "1                Albany     12   20  \n",
       "2                Albany     12   13  \n",
       "3                Albany     12    6  \n",
       "4                Albany     11   29  \n",
       "...                 ...    ...  ...  \n",
       "18244  WestTexNewMexico      2    4  \n",
       "18245  WestTexNewMexico      1   28  \n",
       "18246  WestTexNewMexico      1   21  \n",
       "18247  WestTexNewMexico      1   14  \n",
       "18248  WestTexNewMexico      1    7  \n",
       "\n",
       "[18249 rows x 14 columns]"
      ]
     },
     "execution_count": 12,
     "metadata": {},
     "output_type": "execute_result"
    }
   ],
   "source": [
    "df"
   ]
  },
  {
   "cell_type": "code",
   "execution_count": 13,
   "id": "90fe3369",
   "metadata": {},
   "outputs": [
    {
     "data": {
      "text/plain": [
       "Index(['AveragePrice', 'Total Volume',           4046,           4225,\n",
       "                 4770,   'Total Bags',   'Small Bags',   'Large Bags',\n",
       "        'XLarge Bags',         'type',         'year',       'region',\n",
       "              'Month',          'Day'],\n",
       "      dtype='object')"
      ]
     },
     "execution_count": 13,
     "metadata": {},
     "output_type": "execute_result"
    }
   ],
   "source": [
    "df.columns"
   ]
  },
  {
   "cell_type": "code",
   "execution_count": 14,
   "id": "80af0443",
   "metadata": {},
   "outputs": [
    {
     "data": {
      "text/plain": [
       "AveragePrice    float64\n",
       "Total Volume    float64\n",
       "4046            float64\n",
       "4225            float64\n",
       "4770            float64\n",
       "Total Bags      float64\n",
       "Small Bags      float64\n",
       "Large Bags      float64\n",
       "XLarge Bags     float64\n",
       "type             object\n",
       "year              int64\n",
       "region           object\n",
       "Month             int64\n",
       "Day               int64\n",
       "dtype: object"
      ]
     },
     "execution_count": 14,
     "metadata": {},
     "output_type": "execute_result"
    }
   ],
   "source": [
    "df.dtypes"
   ]
  },
  {
   "cell_type": "code",
   "execution_count": 15,
   "id": "2e1a790e",
   "metadata": {},
   "outputs": [
    {
     "data": {
      "text/plain": [
       "['type', 'region']"
      ]
     },
     "execution_count": 15,
     "metadata": {},
     "output_type": "execute_result"
    }
   ],
   "source": [
    "cat_columns=[x for x in df.dtypes.index if df.dtypes[x] =='object']\n",
    "cat_columns"
   ]
  },
  {
   "cell_type": "code",
   "execution_count": 16,
   "id": "3e0de04a",
   "metadata": {},
   "outputs": [
    {
     "data": {
      "text/plain": [
       "Index(['AveragePrice', 'Total Volume',           4046,           4225,\n",
       "                 4770,   'Total Bags',   'Small Bags',   'Large Bags',\n",
       "        'XLarge Bags',         'year',        'Month',          'Day'],\n",
       "      dtype='object')"
      ]
     },
     "execution_count": 16,
     "metadata": {},
     "output_type": "execute_result"
    }
   ],
   "source": [
    "num_columns=df.drop(['type', 'region'], axis=1)\n",
    "num_columns.columns"
   ]
  },
  {
   "cell_type": "markdown",
   "id": "9ac329c4",
   "metadata": {},
   "source": [
    "# Target Variable"
   ]
  },
  {
   "cell_type": "markdown",
   "id": "528a36d4",
   "metadata": {},
   "source": [
    "Region - Categorical type\n",
    "\n",
    "Average Price- Continous variable."
   ]
  },
  {
   "cell_type": "code",
   "execution_count": 17,
   "id": "058a136d",
   "metadata": {},
   "outputs": [
    {
     "data": {
      "text/plain": [
       "CincinnatiDayton       338\n",
       "SouthCentral           338\n",
       "Boston                 338\n",
       "Houston                338\n",
       "Orlando                338\n",
       "Plains                 338\n",
       "NewYork                338\n",
       "Detroit                338\n",
       "West                   338\n",
       "HartfordSpringfield    338\n",
       "Tampa                  338\n",
       "NorthernNewEngland     338\n",
       "GrandRapids            338\n",
       "Northeast              338\n",
       "SouthCarolina          338\n",
       "DallasFtWorth          338\n",
       "Charlotte              338\n",
       "Nashville              338\n",
       "Jacksonville           338\n",
       "Denver                 338\n",
       "BuffaloRochester       338\n",
       "NewOrleansMobile       338\n",
       "Pittsburgh             338\n",
       "StLouis                338\n",
       "RichmondNorfolk        338\n",
       "SanFrancisco           338\n",
       "California             338\n",
       "Indianapolis           338\n",
       "RaleighGreensboro      338\n",
       "Louisville             338\n",
       "Seattle                338\n",
       "Philadelphia           338\n",
       "BaltimoreWashington    338\n",
       "Albany                 338\n",
       "Columbus               338\n",
       "Boise                  338\n",
       "PhoenixTucson          338\n",
       "GreatLakes             338\n",
       "HarrisburgScranton     338\n",
       "Sacramento             338\n",
       "TotalUS                338\n",
       "Midsouth               338\n",
       "MiamiFtLauderdale      338\n",
       "SanDiego               338\n",
       "Southeast              338\n",
       "Syracuse               338\n",
       "Atlanta                338\n",
       "Roanoke                338\n",
       "Chicago                338\n",
       "Spokane                338\n",
       "Portland               338\n",
       "LasVegas               338\n",
       "LosAngeles             338\n",
       "WestTexNewMexico       335\n",
       "Name: region, dtype: int64"
      ]
     },
     "execution_count": 17,
     "metadata": {},
     "output_type": "execute_result"
    }
   ],
   "source": [
    "df['region'].value_counts()"
   ]
  },
  {
   "cell_type": "code",
   "execution_count": 18,
   "id": "674c365c",
   "metadata": {},
   "outputs": [
    {
     "data": {
      "text/plain": [
       "<AxesSubplot:xlabel='region', ylabel='count'>"
      ]
     },
     "execution_count": 18,
     "metadata": {},
     "output_type": "execute_result"
    },
    {
     "data": {
      "image/png": "[encoded data removed]",
      "text/plain": [
       "<Figure size 2160x720 with 1 Axes>"
      ]
     },
     "metadata": {
      "needs_background": "light"
     },
     "output_type": "display_data"
    }
   ],
   "source": [
    "plt.figure(figsize=(30,10))\n",
    "sns.countplot(df['region'],palette='rocket')"
   ]
  },
  {
   "cell_type": "markdown",
   "id": "090e2569",
   "metadata": {},
   "source": [
    "The distribution in region is same for all the region. The data seems to be balanced."
   ]
  },
  {
   "cell_type": "markdown",
   "id": "d0272f11",
   "metadata": {},
   "source": [
    "# Analyse Average Price"
   ]
  },
  {
   "cell_type": "code",
   "execution_count": 19,
   "id": "7aa58ce7",
   "metadata": {},
   "outputs": [
    {
     "data": {
      "text/plain": [
       "<AxesSubplot:xlabel='AveragePrice', ylabel='Density'>"
      ]
     },
     "execution_count": 19,
     "metadata": {},
     "output_type": "execute_result"
    },
    {
     "data": {
      "image/png": "[encoded data removed]",
      "text/plain": [
       "<Figure size 432x288 with 1 Axes>"
      ]
     },
     "metadata": {
      "needs_background": "light"
     },
     "output_type": "display_data"
    }
   ],
   "source": [
    "sns.distplot(df['AveragePrice'])"
   ]
  },
  {
   "cell_type": "markdown",
   "id": "a6823778",
   "metadata": {},
   "source": [
    "AveragePrice is distributed from 1.0 to 1.5"
   ]
  },
  {
   "cell_type": "code",
   "execution_count": 20,
   "id": "e962dc22",
   "metadata": {},
   "outputs": [
    {
     "data": {
      "text/plain": [
       "Text(0.5, 1.0, 'Average Price')"
      ]
     },
     "execution_count": 20,
     "metadata": {},
     "output_type": "execute_result"
    },
    {
     "data": {
      "image/png": "[encoded data removed]",
      "text/plain": [
       "<Figure size 1080x576 with 1 Axes>"
      ]
     },
     "metadata": {
      "needs_background": "light"
     },
     "output_type": "display_data"
    }
   ],
   "source": [
    "year=df.groupby('year').mean()\n",
    "plt.figure(figsize=(15,8))\n",
    "year['AveragePrice'].plot()\n",
    "plt.title('Average Price')"
   ]
  },
  {
   "cell_type": "markdown",
   "id": "072199c2",
   "metadata": {},
   "source": [
    "This shows the average price of avocado at different years. Around 2017 the price was high."
   ]
  },
  {
   "cell_type": "code",
   "execution_count": 21,
   "id": "266be8de",
   "metadata": {},
   "outputs": [
    {
     "data": {
      "text/plain": [
       "Text(0.5, 1.0, 'Average Price')"
      ]
     },
     "execution_count": 21,
     "metadata": {},
     "output_type": "execute_result"
    },
    {
     "data": {
      "image/png": "[encoded data removed]",
      "text/plain": [
       "<Figure size 1080x576 with 1 Axes>"
      ]
     },
     "metadata": {
      "needs_background": "light"
     },
     "output_type": "display_data"
    }
   ],
   "source": [
    "month=df.groupby('Month').mean()\n",
    "plt.figure(figsize=(15,8))\n",
    "month['AveragePrice'].plot()\n",
    "plt.title('Average Price')"
   ]
  },
  {
   "cell_type": "markdown",
   "id": "1d634646",
   "metadata": {},
   "source": [
    "This shows the distribution of price in various months of the year. High price is recorded during September(9) to October(10). Febrary month records very low price."
   ]
  },
  {
   "cell_type": "code",
   "execution_count": 22,
   "id": "0b49318b",
   "metadata": {},
   "outputs": [
    {
     "data": {
      "text/plain": [
       "Text(0.5, 1.0, 'Average Price')"
      ]
     },
     "execution_count": 22,
     "metadata": {},
     "output_type": "execute_result"
    },
    {
     "data": {
      "image/png": "[encoded data removed]",
      "text/plain": [
       "<Figure size 1080x576 with 1 Axes>"
      ]
     },
     "metadata": {
      "needs_background": "light"
     },
     "output_type": "display_data"
    }
   ],
   "source": [
    "day=df.groupby('Day').mean()\n",
    "plt.figure(figsize=(15,8))\n",
    "day['AveragePrice'].plot()\n",
    "plt.title('Average Price')"
   ]
  },
  {
   "cell_type": "markdown",
   "id": "16ca7e97",
   "metadata": {},
   "source": [
    "The price is high with the end of the month days."
   ]
  },
  {
   "cell_type": "code",
   "execution_count": 23,
   "id": "cf90cae7",
   "metadata": {},
   "outputs": [
    {
     "data": {
      "text/plain": [
       "<AxesSubplot:xlabel='region', ylabel='AveragePrice'>"
      ]
     },
     "execution_count": 23,
     "metadata": {},
     "output_type": "execute_result"
    },
    {
     "data": {
      "image/png": "[encoded data removed]",
      "text/plain": [
       "<Figure size 2160x1440 with 1 Axes>"
      ]
     },
     "metadata": {
      "needs_background": "light"
     },
     "output_type": "display_data"
    }
   ],
   "source": [
    "plt.figure(figsize=(30,20))\n",
    "sns.barplot(x= df['region'], y=df['AveragePrice'])"
   ]
  },
  {
   "cell_type": "markdown",
   "id": "1b5d0971",
   "metadata": {},
   "source": [
    "The average price of avocado is high in Philadelpia and Nashville regions. Lowest price is registered with Columbus"
   ]
  },
  {
   "cell_type": "code",
   "execution_count": 24,
   "id": "20fb9f22",
   "metadata": {},
   "outputs": [
    {
     "data": {
      "text/plain": [
       "<AxesSubplot:xlabel='region', ylabel='Total Bags'>"
      ]
     },
     "execution_count": 24,
     "metadata": {},
     "output_type": "execute_result"
    },
    {
     "data": {
      "image/png": "[encoded data removed]",
      "text/plain": [
       "<Figure size 2160x1440 with 1 Axes>"
      ]
     },
     "metadata": {
      "needs_background": "light"
     },
     "output_type": "display_data"
    }
   ],
   "source": [
    "plt.figure(figsize=(30,20))\n",
    "sns.barplot(x= df['region'], y=df['Total Bags'])"
   ]
  },
  {
   "cell_type": "markdown",
   "id": "71f9982c",
   "metadata": {},
   "source": [
    "The total bags sold are high with SouthEast and SouthCaroline."
   ]
  },
  {
   "cell_type": "code",
   "execution_count": 25,
   "id": "f95396ea",
   "metadata": {},
   "outputs": [
    {
     "data": {
      "text/plain": [
       "<AxesSubplot:xlabel='type', ylabel='count'>"
      ]
     },
     "execution_count": 25,
     "metadata": {},
     "output_type": "execute_result"
    },
    {
     "data": {
      "image/png": "[encoded data removed]",
      "text/plain": [
       "<Figure size 432x288 with 1 Axes>"
      ]
     },
     "metadata": {
      "needs_background": "light"
     },
     "output_type": "display_data"
    }
   ],
   "source": [
    "sns.countplot(df['type'])"
   ]
  },
  {
   "cell_type": "markdown",
   "id": "94bf41c5",
   "metadata": {},
   "source": [
    "Organic and Conventional fruits are distributed equally."
   ]
  },
  {
   "cell_type": "code",
   "execution_count": 26,
   "id": "28845f9a",
   "metadata": {},
   "outputs": [
    {
     "data": {
      "text/plain": [
       "<AxesSubplot:xlabel='Month', ylabel='AveragePrice'>"
      ]
     },
     "execution_count": 26,
     "metadata": {},
     "output_type": "execute_result"
    },
    {
     "data": {
      "image/png": "[encoded data removed]",
      "text/plain": [
       "<Figure size 1440x720 with 1 Axes>"
      ]
     },
     "metadata": {
      "needs_background": "light"
     },
     "output_type": "display_data"
    }
   ],
   "source": [
    "plt.figure(figsize=(20,10))\n",
    "sns.lineplot(x= df['Month'], y=df['AveragePrice'], hue= df['type'])"
   ]
  },
  {
   "cell_type": "markdown",
   "id": "c28d31c4",
   "metadata": {},
   "source": [
    "There is a price hike between month 8–10 of both type of avocado both for type of avocado.\n",
    "For the conventional type of avocado, in starting the price is high but then it get decreases and varies"
   ]
  },
  {
   "cell_type": "code",
   "execution_count": 27,
   "id": "45d5ebb1",
   "metadata": {},
   "outputs": [
    {
     "data": {
      "text/plain": [
       "array([[<AxesSubplot:title={'center':'AveragePrice'}>,\n",
       "        <AxesSubplot:title={'center':'Total Volume'}>,\n",
       "        <AxesSubplot:title={'center':'4046'}>,\n",
       "        <AxesSubplot:title={'center':'4225'}>],\n",
       "       [<AxesSubplot:title={'center':'4770'}>,\n",
       "        <AxesSubplot:title={'center':'Total Bags'}>,\n",
       "        <AxesSubplot:title={'center':'Small Bags'}>,\n",
       "        <AxesSubplot:title={'center':'Large Bags'}>],\n",
       "       [<AxesSubplot:title={'center':'XLarge Bags'}>,\n",
       "        <AxesSubplot:title={'center':'year'}>,\n",
       "        <AxesSubplot:title={'center':'Month'}>,\n",
       "        <AxesSubplot:title={'center':'Day'}>],\n",
       "       [<AxesSubplot:>, <AxesSubplot:>, <AxesSubplot:>, <AxesSubplot:>]],\n",
       "      dtype=object)"
      ]
     },
     "execution_count": 27,
     "metadata": {},
     "output_type": "execute_result"
    },
    {
     "data": {
      "image/png": "[encoded data removed]",
      "text/plain": [
       "<Figure size 1440x1440 with 16 Axes>"
      ]
     },
     "metadata": {
      "needs_background": "light"
     },
     "output_type": "display_data"
    }
   ],
   "source": [
    "num_columns.hist(figsize=(20,20), grid=True, layout=(4,4), bins=25)"
   ]
  },
  {
   "cell_type": "markdown",
   "id": "ab194715",
   "metadata": {},
   "source": [
    "This plot shows the distribution of each columns. Most columns have right skewness in the dataset."
   ]
  },
  {
   "cell_type": "markdown",
   "id": "6c9d988f",
   "metadata": {},
   "source": [
    "# Encode The Categorical variables"
   ]
  },
  {
   "cell_type": "code",
   "execution_count": 28,
   "id": "4218ec33",
   "metadata": {},
   "outputs": [],
   "source": [
    "LE= LabelEncoder()"
   ]
  },
  {
   "cell_type": "code",
   "execution_count": 29,
   "id": "cc12c845",
   "metadata": {},
   "outputs": [],
   "source": [
    "df['region']= LE.fit_transform(df['region'])"
   ]
  },
  {
   "cell_type": "code",
   "execution_count": 30,
   "id": "27b2fda2",
   "metadata": {},
   "outputs": [],
   "source": [
    "df['type']= LE.fit_transform(df['type'])"
   ]
  },
  {
   "cell_type": "code",
   "execution_count": 31,
   "id": "ac9f945f",
   "metadata": {},
   "outputs": [
    {
     "data": {
      "text/html": [
       "<div>\n",
       "<style scoped>\n",
       "    .dataframe tbody tr th:only-of-type {\n",
       "        vertical-align: middle;\n",
       "    }\n",
       "\n",
       "    .dataframe tbody tr th {\n",
       "        vertical-align: top;\n",
       "    }\n",
       "\n",
       "    .dataframe thead th {\n",
       "        text-align: right;\n",
       "    }\n",
       "</style>\n",
       "<table border=\"1\" class=\"dataframe\">\n",
       "  <thead>\n",
       "    <tr style=\"text-align: right;\">\n",
       "      <th></th>\n",
       "      <th>AveragePrice</th>\n",
       "      <th>Total Volume</th>\n",
       "      <th>4046</th>\n",
       "      <th>4225</th>\n",
       "      <th>4770</th>\n",
       "      <th>Total Bags</th>\n",
       "      <th>Small Bags</th>\n",
       "      <th>Large Bags</th>\n",
       "      <th>XLarge Bags</th>\n",
       "      <th>type</th>\n",
       "      <th>year</th>\n",
       "      <th>region</th>\n",
       "      <th>Month</th>\n",
       "      <th>Day</th>\n",
       "    </tr>\n",
       "  </thead>\n",
       "  <tbody>\n",
       "    <tr>\n",
       "      <th>0</th>\n",
       "      <td>1.33</td>\n",
       "      <td>64236.62</td>\n",
       "      <td>1036.74</td>\n",
       "      <td>54454.85</td>\n",
       "      <td>48.16</td>\n",
       "      <td>8696.87</td>\n",
       "      <td>8603.62</td>\n",
       "      <td>93.25</td>\n",
       "      <td>0.0</td>\n",
       "      <td>0</td>\n",
       "      <td>2015</td>\n",
       "      <td>0</td>\n",
       "      <td>12</td>\n",
       "      <td>27</td>\n",
       "    </tr>\n",
       "    <tr>\n",
       "      <th>1</th>\n",
       "      <td>1.35</td>\n",
       "      <td>54876.98</td>\n",
       "      <td>674.28</td>\n",
       "      <td>44638.81</td>\n",
       "      <td>58.33</td>\n",
       "      <td>9505.56</td>\n",
       "      <td>9408.07</td>\n",
       "      <td>97.49</td>\n",
       "      <td>0.0</td>\n",
       "      <td>0</td>\n",
       "      <td>2015</td>\n",
       "      <td>0</td>\n",
       "      <td>12</td>\n",
       "      <td>20</td>\n",
       "    </tr>\n",
       "    <tr>\n",
       "      <th>2</th>\n",
       "      <td>0.93</td>\n",
       "      <td>118220.22</td>\n",
       "      <td>794.70</td>\n",
       "      <td>109149.67</td>\n",
       "      <td>130.50</td>\n",
       "      <td>8145.35</td>\n",
       "      <td>8042.21</td>\n",
       "      <td>103.14</td>\n",
       "      <td>0.0</td>\n",
       "      <td>0</td>\n",
       "      <td>2015</td>\n",
       "      <td>0</td>\n",
       "      <td>12</td>\n",
       "      <td>13</td>\n",
       "    </tr>\n",
       "    <tr>\n",
       "      <th>3</th>\n",
       "      <td>1.08</td>\n",
       "      <td>78992.15</td>\n",
       "      <td>1132.00</td>\n",
       "      <td>71976.41</td>\n",
       "      <td>72.58</td>\n",
       "      <td>5811.16</td>\n",
       "      <td>5677.40</td>\n",
       "      <td>133.76</td>\n",
       "      <td>0.0</td>\n",
       "      <td>0</td>\n",
       "      <td>2015</td>\n",
       "      <td>0</td>\n",
       "      <td>12</td>\n",
       "      <td>6</td>\n",
       "    </tr>\n",
       "    <tr>\n",
       "      <th>4</th>\n",
       "      <td>1.28</td>\n",
       "      <td>51039.60</td>\n",
       "      <td>941.48</td>\n",
       "      <td>43838.39</td>\n",
       "      <td>75.78</td>\n",
       "      <td>6183.95</td>\n",
       "      <td>5986.26</td>\n",
       "      <td>197.69</td>\n",
       "      <td>0.0</td>\n",
       "      <td>0</td>\n",
       "      <td>2015</td>\n",
       "      <td>0</td>\n",
       "      <td>11</td>\n",
       "      <td>29</td>\n",
       "    </tr>\n",
       "    <tr>\n",
       "      <th>...</th>\n",
       "      <td>...</td>\n",
       "      <td>...</td>\n",
       "      <td>...</td>\n",
       "      <td>...</td>\n",
       "      <td>...</td>\n",
       "      <td>...</td>\n",
       "      <td>...</td>\n",
       "      <td>...</td>\n",
       "      <td>...</td>\n",
       "      <td>...</td>\n",
       "      <td>...</td>\n",
       "      <td>...</td>\n",
       "      <td>...</td>\n",
       "      <td>...</td>\n",
       "    </tr>\n",
       "    <tr>\n",
       "      <th>18244</th>\n",
       "      <td>1.63</td>\n",
       "      <td>17074.83</td>\n",
       "      <td>2046.96</td>\n",
       "      <td>1529.20</td>\n",
       "      <td>0.00</td>\n",
       "      <td>13498.67</td>\n",
       "      <td>13066.82</td>\n",
       "      <td>431.85</td>\n",
       "      <td>0.0</td>\n",
       "      <td>1</td>\n",
       "      <td>2018</td>\n",
       "      <td>53</td>\n",
       "      <td>2</td>\n",
       "      <td>4</td>\n",
       "    </tr>\n",
       "    <tr>\n",
       "      <th>18245</th>\n",
       "      <td>1.71</td>\n",
       "      <td>13888.04</td>\n",
       "      <td>1191.70</td>\n",
       "      <td>3431.50</td>\n",
       "      <td>0.00</td>\n",
       "      <td>9264.84</td>\n",
       "      <td>8940.04</td>\n",
       "      <td>324.80</td>\n",
       "      <td>0.0</td>\n",
       "      <td>1</td>\n",
       "      <td>2018</td>\n",
       "      <td>53</td>\n",
       "      <td>1</td>\n",
       "      <td>28</td>\n",
       "    </tr>\n",
       "    <tr>\n",
       "      <th>18246</th>\n",
       "      <td>1.87</td>\n",
       "      <td>13766.76</td>\n",
       "      <td>1191.92</td>\n",
       "      <td>2452.79</td>\n",
       "      <td>727.94</td>\n",
       "      <td>9394.11</td>\n",
       "      <td>9351.80</td>\n",
       "      <td>42.31</td>\n",
       "      <td>0.0</td>\n",
       "      <td>1</td>\n",
       "      <td>2018</td>\n",
       "      <td>53</td>\n",
       "      <td>1</td>\n",
       "      <td>21</td>\n",
       "    </tr>\n",
       "    <tr>\n",
       "      <th>18247</th>\n",
       "      <td>1.93</td>\n",
       "      <td>16205.22</td>\n",
       "      <td>1527.63</td>\n",
       "      <td>2981.04</td>\n",
       "      <td>727.01</td>\n",
       "      <td>10969.54</td>\n",
       "      <td>10919.54</td>\n",
       "      <td>50.00</td>\n",
       "      <td>0.0</td>\n",
       "      <td>1</td>\n",
       "      <td>2018</td>\n",
       "      <td>53</td>\n",
       "      <td>1</td>\n",
       "      <td>14</td>\n",
       "    </tr>\n",
       "    <tr>\n",
       "      <th>18248</th>\n",
       "      <td>1.62</td>\n",
       "      <td>17489.58</td>\n",
       "      <td>2894.77</td>\n",
       "      <td>2356.13</td>\n",
       "      <td>224.53</td>\n",
       "      <td>12014.15</td>\n",
       "      <td>11988.14</td>\n",
       "      <td>26.01</td>\n",
       "      <td>0.0</td>\n",
       "      <td>1</td>\n",
       "      <td>2018</td>\n",
       "      <td>53</td>\n",
       "      <td>1</td>\n",
       "      <td>7</td>\n",
       "    </tr>\n",
       "  </tbody>\n",
       "</table>\n",
       "<p>18249 rows × 14 columns</p>\n",
       "</div>"
      ],
      "text/plain": [
       "       AveragePrice  Total Volume     4046       4225    4770  Total Bags  \\\n",
       "0              1.33      64236.62  1036.74   54454.85   48.16     8696.87   \n",
       "1              1.35      54876.98   674.28   44638.81   58.33     9505.56   \n",
       "2              0.93     118220.22   794.70  109149.67  130.50     8145.35   \n",
       "3              1.08      78992.15  1132.00   71976.41   72.58     5811.16   \n",
       "4              1.28      51039.60   941.48   43838.39   75.78     6183.95   \n",
       "...             ...           ...      ...        ...     ...         ...   \n",
       "18244          1.63      17074.83  2046.96    1529.20    0.00    13498.67   \n",
       "18245          1.71      13888.04  1191.70    3431.50    0.00     9264.84   \n",
       "18246          1.87      13766.76  1191.92    2452.79  727.94     9394.11   \n",
       "18247          1.93      16205.22  1527.63    2981.04  727.01    10969.54   \n",
       "18248          1.62      17489.58  2894.77    2356.13  224.53    12014.15   \n",
       "\n",
       "       Small Bags  Large Bags  XLarge Bags  type  year  region  Month  Day  \n",
       "0         8603.62       93.25          0.0     0  2015       0     12   27  \n",
       "1         9408.07       97.49          0.0     0  2015       0     12   20  \n",
       "2         8042.21      103.14          0.0     0  2015       0     12   13  \n",
       "3         5677.40      133.76          0.0     0  2015       0     12    6  \n",
       "4         5986.26      197.69          0.0     0  2015       0     11   29  \n",
       "...           ...         ...          ...   ...   ...     ...    ...  ...  \n",
       "18244    13066.82      431.85          0.0     1  2018      53      2    4  \n",
       "18245     8940.04      324.80          0.0     1  2018      53      1   28  \n",
       "18246     9351.80       42.31          0.0     1  2018      53      1   21  \n",
       "18247    10919.54       50.00          0.0     1  2018      53      1   14  \n",
       "18248    11988.14       26.01          0.0     1  2018      53      1    7  \n",
       "\n",
       "[18249 rows x 14 columns]"
      ]
     },
     "execution_count": 31,
     "metadata": {},
     "output_type": "execute_result"
    }
   ],
   "source": [
    "df"
   ]
  },
  {
   "cell_type": "code",
   "execution_count": 32,
   "id": "ed83d40e",
   "metadata": {},
   "outputs": [
    {
     "data": {
      "text/plain": [
       "0.00        12048\n",
       "3.33           29\n",
       "6.67           16\n",
       "1.11           15\n",
       "5.00           12\n",
       "            ...  \n",
       "9.95            1\n",
       "3.47            1\n",
       "59.32           1\n",
       "16090.51        1\n",
       "4920.17         1\n",
       "Name: XLarge Bags, Length: 5588, dtype: int64"
      ]
     },
     "execution_count": 32,
     "metadata": {},
     "output_type": "execute_result"
    }
   ],
   "source": [
    "df['XLarge Bags'].value_counts()"
   ]
  },
  {
   "cell_type": "markdown",
   "id": "bbe9f552",
   "metadata": {},
   "source": [
    "# Data Description"
   ]
  },
  {
   "cell_type": "code",
   "execution_count": 33,
   "id": "b357d972",
   "metadata": {},
   "outputs": [
    {
     "data": {
      "text/html": [
       "<div>\n",
       "<style scoped>\n",
       "    .dataframe tbody tr th:only-of-type {\n",
       "        vertical-align: middle;\n",
       "    }\n",
       "\n",
       "    .dataframe tbody tr th {\n",
       "        vertical-align: top;\n",
       "    }\n",
       "\n",
       "    .dataframe thead th {\n",
       "        text-align: right;\n",
       "    }\n",
       "</style>\n",
       "<table border=\"1\" class=\"dataframe\">\n",
       "  <thead>\n",
       "    <tr style=\"text-align: right;\">\n",
       "      <th></th>\n",
       "      <th>AveragePrice</th>\n",
       "      <th>Total Volume</th>\n",
       "      <th>4046</th>\n",
       "      <th>4225</th>\n",
       "      <th>4770</th>\n",
       "      <th>Total Bags</th>\n",
       "      <th>Small Bags</th>\n",
       "      <th>Large Bags</th>\n",
       "      <th>XLarge Bags</th>\n",
       "      <th>type</th>\n",
       "      <th>year</th>\n",
       "      <th>region</th>\n",
       "      <th>Month</th>\n",
       "      <th>Day</th>\n",
       "    </tr>\n",
       "  </thead>\n",
       "  <tbody>\n",
       "    <tr>\n",
       "      <th>count</th>\n",
       "      <td>18249.000000</td>\n",
       "      <td>1.824900e+04</td>\n",
       "      <td>1.824900e+04</td>\n",
       "      <td>1.824900e+04</td>\n",
       "      <td>1.824900e+04</td>\n",
       "      <td>1.824900e+04</td>\n",
       "      <td>1.824900e+04</td>\n",
       "      <td>1.824900e+04</td>\n",
       "      <td>18249.000000</td>\n",
       "      <td>18249.000000</td>\n",
       "      <td>18249.000000</td>\n",
       "      <td>18249.000000</td>\n",
       "      <td>18249.000000</td>\n",
       "      <td>18249.000000</td>\n",
       "    </tr>\n",
       "    <tr>\n",
       "      <th>mean</th>\n",
       "      <td>1.405978</td>\n",
       "      <td>8.506440e+05</td>\n",
       "      <td>2.930084e+05</td>\n",
       "      <td>2.951546e+05</td>\n",
       "      <td>2.283974e+04</td>\n",
       "      <td>2.396392e+05</td>\n",
       "      <td>1.821947e+05</td>\n",
       "      <td>5.433809e+04</td>\n",
       "      <td>3106.426507</td>\n",
       "      <td>0.499918</td>\n",
       "      <td>2016.147899</td>\n",
       "      <td>26.495644</td>\n",
       "      <td>6.177215</td>\n",
       "      <td>15.662612</td>\n",
       "    </tr>\n",
       "    <tr>\n",
       "      <th>std</th>\n",
       "      <td>0.402677</td>\n",
       "      <td>3.453545e+06</td>\n",
       "      <td>1.264989e+06</td>\n",
       "      <td>1.204120e+06</td>\n",
       "      <td>1.074641e+05</td>\n",
       "      <td>9.862424e+05</td>\n",
       "      <td>7.461785e+05</td>\n",
       "      <td>2.439660e+05</td>\n",
       "      <td>17692.894652</td>\n",
       "      <td>0.500014</td>\n",
       "      <td>0.939938</td>\n",
       "      <td>15.583788</td>\n",
       "      <td>3.534130</td>\n",
       "      <td>8.776281</td>\n",
       "    </tr>\n",
       "    <tr>\n",
       "      <th>min</th>\n",
       "      <td>0.440000</td>\n",
       "      <td>8.456000e+01</td>\n",
       "      <td>0.000000e+00</td>\n",
       "      <td>0.000000e+00</td>\n",
       "      <td>0.000000e+00</td>\n",
       "      <td>0.000000e+00</td>\n",
       "      <td>0.000000e+00</td>\n",
       "      <td>0.000000e+00</td>\n",
       "      <td>0.000000</td>\n",
       "      <td>0.000000</td>\n",
       "      <td>2015.000000</td>\n",
       "      <td>0.000000</td>\n",
       "      <td>1.000000</td>\n",
       "      <td>1.000000</td>\n",
       "    </tr>\n",
       "    <tr>\n",
       "      <th>25%</th>\n",
       "      <td>1.100000</td>\n",
       "      <td>1.083858e+04</td>\n",
       "      <td>8.540700e+02</td>\n",
       "      <td>3.008780e+03</td>\n",
       "      <td>0.000000e+00</td>\n",
       "      <td>5.088640e+03</td>\n",
       "      <td>2.849420e+03</td>\n",
       "      <td>1.274700e+02</td>\n",
       "      <td>0.000000</td>\n",
       "      <td>0.000000</td>\n",
       "      <td>2015.000000</td>\n",
       "      <td>13.000000</td>\n",
       "      <td>3.000000</td>\n",
       "      <td>8.000000</td>\n",
       "    </tr>\n",
       "    <tr>\n",
       "      <th>50%</th>\n",
       "      <td>1.370000</td>\n",
       "      <td>1.073768e+05</td>\n",
       "      <td>8.645300e+03</td>\n",
       "      <td>2.906102e+04</td>\n",
       "      <td>1.849900e+02</td>\n",
       "      <td>3.974383e+04</td>\n",
       "      <td>2.636282e+04</td>\n",
       "      <td>2.647710e+03</td>\n",
       "      <td>0.000000</td>\n",
       "      <td>0.000000</td>\n",
       "      <td>2016.000000</td>\n",
       "      <td>26.000000</td>\n",
       "      <td>6.000000</td>\n",
       "      <td>16.000000</td>\n",
       "    </tr>\n",
       "    <tr>\n",
       "      <th>75%</th>\n",
       "      <td>1.660000</td>\n",
       "      <td>4.329623e+05</td>\n",
       "      <td>1.110202e+05</td>\n",
       "      <td>1.502069e+05</td>\n",
       "      <td>6.243420e+03</td>\n",
       "      <td>1.107834e+05</td>\n",
       "      <td>8.333767e+04</td>\n",
       "      <td>2.202925e+04</td>\n",
       "      <td>132.500000</td>\n",
       "      <td>1.000000</td>\n",
       "      <td>2017.000000</td>\n",
       "      <td>40.000000</td>\n",
       "      <td>9.000000</td>\n",
       "      <td>23.000000</td>\n",
       "    </tr>\n",
       "    <tr>\n",
       "      <th>max</th>\n",
       "      <td>3.250000</td>\n",
       "      <td>6.250565e+07</td>\n",
       "      <td>2.274362e+07</td>\n",
       "      <td>2.047057e+07</td>\n",
       "      <td>2.546439e+06</td>\n",
       "      <td>1.937313e+07</td>\n",
       "      <td>1.338459e+07</td>\n",
       "      <td>5.719097e+06</td>\n",
       "      <td>551693.650000</td>\n",
       "      <td>1.000000</td>\n",
       "      <td>2018.000000</td>\n",
       "      <td>53.000000</td>\n",
       "      <td>12.000000</td>\n",
       "      <td>31.000000</td>\n",
       "    </tr>\n",
       "  </tbody>\n",
       "</table>\n",
       "</div>"
      ],
      "text/plain": [
       "       AveragePrice  Total Volume          4046          4225          4770  \\\n",
       "count  18249.000000  1.824900e+04  1.824900e+04  1.824900e+04  1.824900e+04   \n",
       "mean       1.405978  8.506440e+05  2.930084e+05  2.951546e+05  2.283974e+04   \n",
       "std        0.402677  3.453545e+06  1.264989e+06  1.204120e+06  1.074641e+05   \n",
       "min        0.440000  8.456000e+01  0.000000e+00  0.000000e+00  0.000000e+00   \n",
       "25%        1.100000  1.083858e+04  8.540700e+02  3.008780e+03  0.000000e+00   \n",
       "50%        1.370000  1.073768e+05  8.645300e+03  2.906102e+04  1.849900e+02   \n",
       "75%        1.660000  4.329623e+05  1.110202e+05  1.502069e+05  6.243420e+03   \n",
       "max        3.250000  6.250565e+07  2.274362e+07  2.047057e+07  2.546439e+06   \n",
       "\n",
       "         Total Bags    Small Bags    Large Bags    XLarge Bags          type  \\\n",
       "count  1.824900e+04  1.824900e+04  1.824900e+04   18249.000000  18249.000000   \n",
       "mean   2.396392e+05  1.821947e+05  5.433809e+04    3106.426507      0.499918   \n",
       "std    9.862424e+05  7.461785e+05  2.439660e+05   17692.894652      0.500014   \n",
       "min    0.000000e+00  0.000000e+00  0.000000e+00       0.000000      0.000000   \n",
       "25%    5.088640e+03  2.849420e+03  1.274700e+02       0.000000      0.000000   \n",
       "50%    3.974383e+04  2.636282e+04  2.647710e+03       0.000000      0.000000   \n",
       "75%    1.107834e+05  8.333767e+04  2.202925e+04     132.500000      1.000000   \n",
       "max    1.937313e+07  1.338459e+07  5.719097e+06  551693.650000      1.000000   \n",
       "\n",
       "               year        region         Month           Day  \n",
       "count  18249.000000  18249.000000  18249.000000  18249.000000  \n",
       "mean    2016.147899     26.495644      6.177215     15.662612  \n",
       "std        0.939938     15.583788      3.534130      8.776281  \n",
       "min     2015.000000      0.000000      1.000000      1.000000  \n",
       "25%     2015.000000     13.000000      3.000000      8.000000  \n",
       "50%     2016.000000     26.000000      6.000000     16.000000  \n",
       "75%     2017.000000     40.000000      9.000000     23.000000  \n",
       "max     2018.000000     53.000000     12.000000     31.000000  "
      ]
     },
     "execution_count": 33,
     "metadata": {},
     "output_type": "execute_result"
    }
   ],
   "source": [
    "df.describe()"
   ]
  },
  {
   "cell_type": "markdown",
   "id": "06a0d6fa",
   "metadata": {},
   "source": [
    "# Correlation"
   ]
  },
  {
   "cell_type": "code",
   "execution_count": 34,
   "id": "9ed9118e",
   "metadata": {},
   "outputs": [
    {
     "data": {
      "text/html": [
       "<div>\n",
       "<style scoped>\n",
       "    .dataframe tbody tr th:only-of-type {\n",
       "        vertical-align: middle;\n",
       "    }\n",
       "\n",
       "    .dataframe tbody tr th {\n",
       "        vertical-align: top;\n",
       "    }\n",
       "\n",
       "    .dataframe thead th {\n",
       "        text-align: right;\n",
       "    }\n",
       "</style>\n",
       "<table border=\"1\" class=\"dataframe\">\n",
       "  <thead>\n",
       "    <tr style=\"text-align: right;\">\n",
       "      <th></th>\n",
       "      <th>AveragePrice</th>\n",
       "      <th>Total Volume</th>\n",
       "      <th>4046</th>\n",
       "      <th>4225</th>\n",
       "      <th>4770</th>\n",
       "      <th>Total Bags</th>\n",
       "      <th>Small Bags</th>\n",
       "      <th>Large Bags</th>\n",
       "      <th>XLarge Bags</th>\n",
       "      <th>type</th>\n",
       "      <th>year</th>\n",
       "      <th>region</th>\n",
       "      <th>Month</th>\n",
       "      <th>Day</th>\n",
       "    </tr>\n",
       "  </thead>\n",
       "  <tbody>\n",
       "    <tr>\n",
       "      <th>AveragePrice</th>\n",
       "      <td>1.000000</td>\n",
       "      <td>-0.192752</td>\n",
       "      <td>-0.208317</td>\n",
       "      <td>-0.172928</td>\n",
       "      <td>-0.179446</td>\n",
       "      <td>-0.177088</td>\n",
       "      <td>-0.174730</td>\n",
       "      <td>-0.172940</td>\n",
       "      <td>-0.117592</td>\n",
       "      <td>0.615845</td>\n",
       "      <td>0.093197</td>\n",
       "      <td>-0.011716</td>\n",
       "      <td>0.162409</td>\n",
       "      <td>0.027386</td>\n",
       "    </tr>\n",
       "    <tr>\n",
       "      <th>Total Volume</th>\n",
       "      <td>-0.192752</td>\n",
       "      <td>1.000000</td>\n",
       "      <td>0.977863</td>\n",
       "      <td>0.974181</td>\n",
       "      <td>0.872202</td>\n",
       "      <td>0.963047</td>\n",
       "      <td>0.967238</td>\n",
       "      <td>0.880640</td>\n",
       "      <td>0.747157</td>\n",
       "      <td>-0.232434</td>\n",
       "      <td>0.017193</td>\n",
       "      <td>0.174176</td>\n",
       "      <td>-0.024689</td>\n",
       "      <td>-0.009747</td>\n",
       "    </tr>\n",
       "    <tr>\n",
       "      <th>4046</th>\n",
       "      <td>-0.208317</td>\n",
       "      <td>0.977863</td>\n",
       "      <td>1.000000</td>\n",
       "      <td>0.926110</td>\n",
       "      <td>0.833389</td>\n",
       "      <td>0.920057</td>\n",
       "      <td>0.925280</td>\n",
       "      <td>0.838645</td>\n",
       "      <td>0.699377</td>\n",
       "      <td>-0.225819</td>\n",
       "      <td>0.003353</td>\n",
       "      <td>0.192073</td>\n",
       "      <td>-0.025803</td>\n",
       "      <td>-0.010159</td>\n",
       "    </tr>\n",
       "    <tr>\n",
       "      <th>4225</th>\n",
       "      <td>-0.172928</td>\n",
       "      <td>0.974181</td>\n",
       "      <td>0.926110</td>\n",
       "      <td>1.000000</td>\n",
       "      <td>0.887855</td>\n",
       "      <td>0.905787</td>\n",
       "      <td>0.916031</td>\n",
       "      <td>0.810015</td>\n",
       "      <td>0.688809</td>\n",
       "      <td>-0.232289</td>\n",
       "      <td>-0.009559</td>\n",
       "      <td>0.145726</td>\n",
       "      <td>-0.022108</td>\n",
       "      <td>-0.012393</td>\n",
       "    </tr>\n",
       "    <tr>\n",
       "      <th>4770</th>\n",
       "      <td>-0.179446</td>\n",
       "      <td>0.872202</td>\n",
       "      <td>0.833389</td>\n",
       "      <td>0.887855</td>\n",
       "      <td>1.000000</td>\n",
       "      <td>0.792314</td>\n",
       "      <td>0.802733</td>\n",
       "      <td>0.698471</td>\n",
       "      <td>0.679861</td>\n",
       "      <td>-0.210027</td>\n",
       "      <td>-0.036531</td>\n",
       "      <td>0.095252</td>\n",
       "      <td>-0.033424</td>\n",
       "      <td>-0.009009</td>\n",
       "    </tr>\n",
       "    <tr>\n",
       "      <th>Total Bags</th>\n",
       "      <td>-0.177088</td>\n",
       "      <td>0.963047</td>\n",
       "      <td>0.920057</td>\n",
       "      <td>0.905787</td>\n",
       "      <td>0.792314</td>\n",
       "      <td>1.000000</td>\n",
       "      <td>0.994335</td>\n",
       "      <td>0.943009</td>\n",
       "      <td>0.804233</td>\n",
       "      <td>-0.217788</td>\n",
       "      <td>0.071552</td>\n",
       "      <td>0.175256</td>\n",
       "      <td>-0.022724</td>\n",
       "      <td>-0.004988</td>\n",
       "    </tr>\n",
       "    <tr>\n",
       "      <th>Small Bags</th>\n",
       "      <td>-0.174730</td>\n",
       "      <td>0.967238</td>\n",
       "      <td>0.925280</td>\n",
       "      <td>0.916031</td>\n",
       "      <td>0.802733</td>\n",
       "      <td>0.994335</td>\n",
       "      <td>1.000000</td>\n",
       "      <td>0.902589</td>\n",
       "      <td>0.806845</td>\n",
       "      <td>-0.220535</td>\n",
       "      <td>0.063915</td>\n",
       "      <td>0.164702</td>\n",
       "      <td>-0.023126</td>\n",
       "      <td>-0.003870</td>\n",
       "    </tr>\n",
       "    <tr>\n",
       "      <th>Large Bags</th>\n",
       "      <td>-0.172940</td>\n",
       "      <td>0.880640</td>\n",
       "      <td>0.838645</td>\n",
       "      <td>0.810015</td>\n",
       "      <td>0.698471</td>\n",
       "      <td>0.943009</td>\n",
       "      <td>0.902589</td>\n",
       "      <td>1.000000</td>\n",
       "      <td>0.710858</td>\n",
       "      <td>-0.193177</td>\n",
       "      <td>0.087891</td>\n",
       "      <td>0.198768</td>\n",
       "      <td>-0.020187</td>\n",
       "      <td>-0.008352</td>\n",
       "    </tr>\n",
       "    <tr>\n",
       "      <th>XLarge Bags</th>\n",
       "      <td>-0.117592</td>\n",
       "      <td>0.747157</td>\n",
       "      <td>0.699377</td>\n",
       "      <td>0.688809</td>\n",
       "      <td>0.679861</td>\n",
       "      <td>0.804233</td>\n",
       "      <td>0.806845</td>\n",
       "      <td>0.710858</td>\n",
       "      <td>1.000000</td>\n",
       "      <td>-0.175483</td>\n",
       "      <td>0.081033</td>\n",
       "      <td>0.082281</td>\n",
       "      <td>-0.012969</td>\n",
       "      <td>0.000319</td>\n",
       "    </tr>\n",
       "    <tr>\n",
       "      <th>type</th>\n",
       "      <td>0.615845</td>\n",
       "      <td>-0.232434</td>\n",
       "      <td>-0.225819</td>\n",
       "      <td>-0.232289</td>\n",
       "      <td>-0.210027</td>\n",
       "      <td>-0.217788</td>\n",
       "      <td>-0.220535</td>\n",
       "      <td>-0.193177</td>\n",
       "      <td>-0.175483</td>\n",
       "      <td>1.000000</td>\n",
       "      <td>-0.000032</td>\n",
       "      <td>-0.000280</td>\n",
       "      <td>-0.000085</td>\n",
       "      <td>-0.000013</td>\n",
       "    </tr>\n",
       "    <tr>\n",
       "      <th>year</th>\n",
       "      <td>0.093197</td>\n",
       "      <td>0.017193</td>\n",
       "      <td>0.003353</td>\n",
       "      <td>-0.009559</td>\n",
       "      <td>-0.036531</td>\n",
       "      <td>0.071552</td>\n",
       "      <td>0.063915</td>\n",
       "      <td>0.087891</td>\n",
       "      <td>0.081033</td>\n",
       "      <td>-0.000032</td>\n",
       "      <td>1.000000</td>\n",
       "      <td>-0.000055</td>\n",
       "      <td>-0.177050</td>\n",
       "      <td>0.004475</td>\n",
       "    </tr>\n",
       "    <tr>\n",
       "      <th>region</th>\n",
       "      <td>-0.011716</td>\n",
       "      <td>0.174176</td>\n",
       "      <td>0.192073</td>\n",
       "      <td>0.145726</td>\n",
       "      <td>0.095252</td>\n",
       "      <td>0.175256</td>\n",
       "      <td>0.164702</td>\n",
       "      <td>0.198768</td>\n",
       "      <td>0.082281</td>\n",
       "      <td>-0.000280</td>\n",
       "      <td>-0.000055</td>\n",
       "      <td>1.000000</td>\n",
       "      <td>-0.000144</td>\n",
       "      <td>-0.000021</td>\n",
       "    </tr>\n",
       "    <tr>\n",
       "      <th>Month</th>\n",
       "      <td>0.162409</td>\n",
       "      <td>-0.024689</td>\n",
       "      <td>-0.025803</td>\n",
       "      <td>-0.022108</td>\n",
       "      <td>-0.033424</td>\n",
       "      <td>-0.022724</td>\n",
       "      <td>-0.023126</td>\n",
       "      <td>-0.020187</td>\n",
       "      <td>-0.012969</td>\n",
       "      <td>-0.000085</td>\n",
       "      <td>-0.177050</td>\n",
       "      <td>-0.000144</td>\n",
       "      <td>1.000000</td>\n",
       "      <td>0.010621</td>\n",
       "    </tr>\n",
       "    <tr>\n",
       "      <th>Day</th>\n",
       "      <td>0.027386</td>\n",
       "      <td>-0.009747</td>\n",
       "      <td>-0.010159</td>\n",
       "      <td>-0.012393</td>\n",
       "      <td>-0.009009</td>\n",
       "      <td>-0.004988</td>\n",
       "      <td>-0.003870</td>\n",
       "      <td>-0.008352</td>\n",
       "      <td>0.000319</td>\n",
       "      <td>-0.000013</td>\n",
       "      <td>0.004475</td>\n",
       "      <td>-0.000021</td>\n",
       "      <td>0.010621</td>\n",
       "      <td>1.000000</td>\n",
       "    </tr>\n",
       "  </tbody>\n",
       "</table>\n",
       "</div>"
      ],
      "text/plain": [
       "              AveragePrice  Total Volume      4046      4225      4770  \\\n",
       "AveragePrice      1.000000     -0.192752 -0.208317 -0.172928 -0.179446   \n",
       "Total Volume     -0.192752      1.000000  0.977863  0.974181  0.872202   \n",
       "4046             -0.208317      0.977863  1.000000  0.926110  0.833389   \n",
       "4225             -0.172928      0.974181  0.926110  1.000000  0.887855   \n",
       "4770             -0.179446      0.872202  0.833389  0.887855  1.000000   \n",
       "Total Bags       -0.177088      0.963047  0.920057  0.905787  0.792314   \n",
       "Small Bags       -0.174730      0.967238  0.925280  0.916031  0.802733   \n",
       "Large Bags       -0.172940      0.880640  0.838645  0.810015  0.698471   \n",
       "XLarge Bags      -0.117592      0.747157  0.699377  0.688809  0.679861   \n",
       "type              0.615845     -0.232434 -0.225819 -0.232289 -0.210027   \n",
       "year              0.093197      0.017193  0.003353 -0.009559 -0.036531   \n",
       "region           -0.011716      0.174176  0.192073  0.145726  0.095252   \n",
       "Month             0.162409     -0.024689 -0.025803 -0.022108 -0.033424   \n",
       "Day               0.027386     -0.009747 -0.010159 -0.012393 -0.009009   \n",
       "\n",
       "              Total Bags  Small Bags  Large Bags  XLarge Bags      type  \\\n",
       "AveragePrice   -0.177088   -0.174730   -0.172940    -0.117592  0.615845   \n",
       "Total Volume    0.963047    0.967238    0.880640     0.747157 -0.232434   \n",
       "4046            0.920057    0.925280    0.838645     0.699377 -0.225819   \n",
       "4225            0.905787    0.916031    0.810015     0.688809 -0.232289   \n",
       "4770            0.792314    0.802733    0.698471     0.679861 -0.210027   \n",
       "Total Bags      1.000000    0.994335    0.943009     0.804233 -0.217788   \n",
       "Small Bags      0.994335    1.000000    0.902589     0.806845 -0.220535   \n",
       "Large Bags      0.943009    0.902589    1.000000     0.710858 -0.193177   \n",
       "XLarge Bags     0.804233    0.806845    0.710858     1.000000 -0.175483   \n",
       "type           -0.217788   -0.220535   -0.193177    -0.175483  1.000000   \n",
       "year            0.071552    0.063915    0.087891     0.081033 -0.000032   \n",
       "region          0.175256    0.164702    0.198768     0.082281 -0.000280   \n",
       "Month          -0.022724   -0.023126   -0.020187    -0.012969 -0.000085   \n",
       "Day            -0.004988   -0.003870   -0.008352     0.000319 -0.000013   \n",
       "\n",
       "                  year    region     Month       Day  \n",
       "AveragePrice  0.093197 -0.011716  0.162409  0.027386  \n",
       "Total Volume  0.017193  0.174176 -0.024689 -0.009747  \n",
       "4046          0.003353  0.192073 -0.025803 -0.010159  \n",
       "4225         -0.009559  0.145726 -0.022108 -0.012393  \n",
       "4770         -0.036531  0.095252 -0.033424 -0.009009  \n",
       "Total Bags    0.071552  0.175256 -0.022724 -0.004988  \n",
       "Small Bags    0.063915  0.164702 -0.023126 -0.003870  \n",
       "Large Bags    0.087891  0.198768 -0.020187 -0.008352  \n",
       "XLarge Bags   0.081033  0.082281 -0.012969  0.000319  \n",
       "type         -0.000032 -0.000280 -0.000085 -0.000013  \n",
       "year          1.000000 -0.000055 -0.177050  0.004475  \n",
       "region       -0.000055  1.000000 -0.000144 -0.000021  \n",
       "Month        -0.177050 -0.000144  1.000000  0.010621  \n",
       "Day           0.004475 -0.000021  0.010621  1.000000  "
      ]
     },
     "execution_count": 34,
     "metadata": {},
     "output_type": "execute_result"
    }
   ],
   "source": [
    "df.corr()"
   ]
  },
  {
   "cell_type": "code",
   "execution_count": 35,
   "id": "55e9be70",
   "metadata": {},
   "outputs": [
    {
     "data": {
      "text/plain": [
       "<AxesSubplot:>"
      ]
     },
     "execution_count": 35,
     "metadata": {},
     "output_type": "execute_result"
    },
    {
     "data": {
      "image/png": "[encoded data removed]",
      "text/plain": [
       "<Figure size 1440x720 with 2 Axes>"
      ]
     },
     "metadata": {
      "needs_background": "light"
     },
     "output_type": "display_data"
    }
   ],
   "source": [
    "plt.figure(figsize=(20,10))\n",
    "sns.heatmap(df.corr(), annot=True)"
   ]
  },
  {
   "cell_type": "markdown",
   "id": "20520e4f",
   "metadata": {},
   "source": [
    "'Total Volume', 4046, 4225, 4770, 'Total Bags','Small Bags','Large Bags','XLarge Bags' columns are highly correlated to each other and are in good correlation with the region.\n",
    "\n",
    "Type of avocado is in good correlation with AveragePrice."
   ]
  },
  {
   "cell_type": "markdown",
   "id": "246aa77b",
   "metadata": {},
   "source": [
    "# Check For Multi Collinearity- VIF"
   ]
  },
  {
   "cell_type": "markdown",
   "id": "fa96d08f",
   "metadata": {},
   "source": [
    "Target- AveragePrice"
   ]
  },
  {
   "cell_type": "code",
   "execution_count": 667,
   "id": "ea198e70",
   "metadata": {},
   "outputs": [],
   "source": [
    "price_df= df"
   ]
  },
  {
   "cell_type": "code",
   "execution_count": 577,
   "id": "62348fcf",
   "metadata": {},
   "outputs": [],
   "source": [
    "from statsmodels.stats.outliers_influence import variance_inflation_factor"
   ]
  },
  {
   "cell_type": "code",
   "execution_count": 578,
   "id": "f101d7aa",
   "metadata": {},
   "outputs": [],
   "source": [
    "df1=price_df.drop('AveragePrice', axis=1)"
   ]
  },
  {
   "cell_type": "code",
   "execution_count": 579,
   "id": "22fb50e5",
   "metadata": {},
   "outputs": [],
   "source": [
    "def vif_fun():\n",
    "    vif=pd.DataFrame()\n",
    "    vif['vif_factor']= [variance_inflation_factor(df1.values,i) for i in range(df1.shape[1])]\n",
    "    vif['features']= df1.columns\n",
    "    return(vif)"
   ]
  },
  {
   "cell_type": "code",
   "execution_count": 580,
   "id": "3cd38870",
   "metadata": {},
   "outputs": [
    {
     "data": {
      "text/html": [
       "<div>\n",
       "<style scoped>\n",
       "    .dataframe tbody tr th:only-of-type {\n",
       "        vertical-align: middle;\n",
       "    }\n",
       "\n",
       "    .dataframe tbody tr th {\n",
       "        vertical-align: top;\n",
       "    }\n",
       "\n",
       "    .dataframe thead th {\n",
       "        text-align: right;\n",
       "    }\n",
       "</style>\n",
       "<table border=\"1\" class=\"dataframe\">\n",
       "  <thead>\n",
       "    <tr style=\"text-align: right;\">\n",
       "      <th></th>\n",
       "      <th>vif_factor</th>\n",
       "      <th>features</th>\n",
       "    </tr>\n",
       "  </thead>\n",
       "  <tbody>\n",
       "    <tr>\n",
       "      <th>0</th>\n",
       "      <td>5.212907e+09</td>\n",
       "      <td>Total Volume</td>\n",
       "    </tr>\n",
       "    <tr>\n",
       "      <th>1</th>\n",
       "      <td>6.947630e+08</td>\n",
       "      <td>4046</td>\n",
       "    </tr>\n",
       "    <tr>\n",
       "      <th>2</th>\n",
       "      <td>6.333557e+08</td>\n",
       "      <td>4225</td>\n",
       "    </tr>\n",
       "    <tr>\n",
       "      <th>3</th>\n",
       "      <td>4.973838e+06</td>\n",
       "      <td>4770</td>\n",
       "    </tr>\n",
       "    <tr>\n",
       "      <th>4</th>\n",
       "      <td>2.502000e+14</td>\n",
       "      <td>Total Bags</td>\n",
       "    </tr>\n",
       "    <tr>\n",
       "      <th>5</th>\n",
       "      <td>1.429714e+14</td>\n",
       "      <td>Small Bags</td>\n",
       "    </tr>\n",
       "    <tr>\n",
       "      <th>6</th>\n",
       "      <td>1.521486e+13</td>\n",
       "      <td>Large Bags</td>\n",
       "    </tr>\n",
       "    <tr>\n",
       "      <th>7</th>\n",
       "      <td>7.856874e+10</td>\n",
       "      <td>XLarge Bags</td>\n",
       "    </tr>\n",
       "    <tr>\n",
       "      <th>8</th>\n",
       "      <td>2.123126e+00</td>\n",
       "      <td>type</td>\n",
       "    </tr>\n",
       "    <tr>\n",
       "      <th>9</th>\n",
       "      <td>1.125114e+01</td>\n",
       "      <td>year</td>\n",
       "    </tr>\n",
       "    <tr>\n",
       "      <th>10</th>\n",
       "      <td>4.160506e+00</td>\n",
       "      <td>region</td>\n",
       "    </tr>\n",
       "    <tr>\n",
       "      <th>11</th>\n",
       "      <td>4.063486e+00</td>\n",
       "      <td>Month</td>\n",
       "    </tr>\n",
       "    <tr>\n",
       "      <th>12</th>\n",
       "      <td>4.188894e+00</td>\n",
       "      <td>Day</td>\n",
       "    </tr>\n",
       "  </tbody>\n",
       "</table>\n",
       "</div>"
      ],
      "text/plain": [
       "      vif_factor      features\n",
       "0   5.212907e+09  Total Volume\n",
       "1   6.947630e+08          4046\n",
       "2   6.333557e+08          4225\n",
       "3   4.973838e+06          4770\n",
       "4   2.502000e+14    Total Bags\n",
       "5   1.429714e+14    Small Bags\n",
       "6   1.521486e+13    Large Bags\n",
       "7   7.856874e+10   XLarge Bags\n",
       "8   2.123126e+00          type\n",
       "9   1.125114e+01          year\n",
       "10  4.160506e+00        region\n",
       "11  4.063486e+00         Month\n",
       "12  4.188894e+00           Day"
      ]
     },
     "execution_count": 580,
     "metadata": {},
     "output_type": "execute_result"
    }
   ],
   "source": [
    "vif_fun()"
   ]
  },
  {
   "cell_type": "markdown",
   "id": "cb9aef5d",
   "metadata": {},
   "source": [
    "We shall drop columns Large Bags, XLarge Bags and keep only Total Bags since they all contribute same to the target.\n",
    "\n",
    "We shall drop 4046, 4770 since they are highly correlated to each other. "
   ]
  },
  {
   "cell_type": "code",
   "execution_count": 581,
   "id": "a4a65ce9",
   "metadata": {},
   "outputs": [],
   "source": [
    "df1.drop(['Total Bags','Small Bags','Large Bags', 'XLarge Bags'],  axis=1, inplace=True)"
   ]
  },
  {
   "cell_type": "code",
   "execution_count": 582,
   "id": "a75342c9",
   "metadata": {},
   "outputs": [],
   "source": [
    "df1.drop(['Total Volume', 4046, 4225, 4770],  axis=1,inplace=True)"
   ]
  },
  {
   "cell_type": "markdown",
   "id": "f9967a98",
   "metadata": {},
   "source": [
    "These columns have a large collinearity with each other and it may affect the model to a very large extent, so dropped the columns"
   ]
  },
  {
   "cell_type": "markdown",
   "id": "e49f84a0",
   "metadata": {},
   "source": [
    "Target- Region"
   ]
  },
  {
   "cell_type": "code",
   "execution_count": 668,
   "id": "0c47135b",
   "metadata": {},
   "outputs": [],
   "source": [
    "df2= df.drop('region', axis=1 )"
   ]
  },
  {
   "cell_type": "code",
   "execution_count": 669,
   "id": "42367649",
   "metadata": {},
   "outputs": [],
   "source": [
    "def vif_fun():\n",
    "    vif=pd.DataFrame()\n",
    "    vif['vif_factor']= [variance_inflation_factor(df2.values,i) for i in range(df2.shape[1])]\n",
    "    vif['features']= df2.columns\n",
    "    return(vif)"
   ]
  },
  {
   "cell_type": "code",
   "execution_count": 670,
   "id": "e403de7b",
   "metadata": {},
   "outputs": [
    {
     "data": {
      "text/html": [
       "<div>\n",
       "<style scoped>\n",
       "    .dataframe tbody tr th:only-of-type {\n",
       "        vertical-align: middle;\n",
       "    }\n",
       "\n",
       "    .dataframe tbody tr th {\n",
       "        vertical-align: top;\n",
       "    }\n",
       "\n",
       "    .dataframe thead th {\n",
       "        text-align: right;\n",
       "    }\n",
       "</style>\n",
       "<table border=\"1\" class=\"dataframe\">\n",
       "  <thead>\n",
       "    <tr style=\"text-align: right;\">\n",
       "      <th></th>\n",
       "      <th>vif_factor</th>\n",
       "      <th>features</th>\n",
       "    </tr>\n",
       "  </thead>\n",
       "  <tbody>\n",
       "    <tr>\n",
       "      <th>0</th>\n",
       "      <td>2.290614e+01</td>\n",
       "      <td>AveragePrice</td>\n",
       "    </tr>\n",
       "    <tr>\n",
       "      <th>1</th>\n",
       "      <td>5.212539e+09</td>\n",
       "      <td>Total Volume</td>\n",
       "    </tr>\n",
       "    <tr>\n",
       "      <th>2</th>\n",
       "      <td>6.947141e+08</td>\n",
       "      <td>4046</td>\n",
       "    </tr>\n",
       "    <tr>\n",
       "      <th>3</th>\n",
       "      <td>6.333111e+08</td>\n",
       "      <td>4225</td>\n",
       "    </tr>\n",
       "    <tr>\n",
       "      <th>4</th>\n",
       "      <td>4.973475e+06</td>\n",
       "      <td>4770</td>\n",
       "    </tr>\n",
       "    <tr>\n",
       "      <th>5</th>\n",
       "      <td>2.502000e+14</td>\n",
       "      <td>Total Bags</td>\n",
       "    </tr>\n",
       "    <tr>\n",
       "      <th>6</th>\n",
       "      <td>1.429714e+14</td>\n",
       "      <td>Small Bags</td>\n",
       "    </tr>\n",
       "    <tr>\n",
       "      <th>7</th>\n",
       "      <td>1.521486e+13</td>\n",
       "      <td>Large Bags</td>\n",
       "    </tr>\n",
       "    <tr>\n",
       "      <th>8</th>\n",
       "      <td>7.856737e+10</td>\n",
       "      <td>XLarge Bags</td>\n",
       "    </tr>\n",
       "    <tr>\n",
       "      <th>9</th>\n",
       "      <td>3.399857e+00</td>\n",
       "      <td>type</td>\n",
       "    </tr>\n",
       "    <tr>\n",
       "      <th>10</th>\n",
       "      <td>1.996739e+01</td>\n",
       "      <td>year</td>\n",
       "    </tr>\n",
       "    <tr>\n",
       "      <th>11</th>\n",
       "      <td>4.240297e+00</td>\n",
       "      <td>Month</td>\n",
       "    </tr>\n",
       "    <tr>\n",
       "      <th>12</th>\n",
       "      <td>4.193368e+00</td>\n",
       "      <td>Day</td>\n",
       "    </tr>\n",
       "  </tbody>\n",
       "</table>\n",
       "</div>"
      ],
      "text/plain": [
       "      vif_factor      features\n",
       "0   2.290614e+01  AveragePrice\n",
       "1   5.212539e+09  Total Volume\n",
       "2   6.947141e+08          4046\n",
       "3   6.333111e+08          4225\n",
       "4   4.973475e+06          4770\n",
       "5   2.502000e+14    Total Bags\n",
       "6   1.429714e+14    Small Bags\n",
       "7   1.521486e+13    Large Bags\n",
       "8   7.856737e+10   XLarge Bags\n",
       "9   3.399857e+00          type\n",
       "10  1.996739e+01          year\n",
       "11  4.240297e+00         Month\n",
       "12  4.193368e+00           Day"
      ]
     },
     "execution_count": 670,
     "metadata": {},
     "output_type": "execute_result"
    }
   ],
   "source": [
    "vif_fun()"
   ]
  },
  {
   "cell_type": "markdown",
   "id": "014d5f62",
   "metadata": {},
   "source": [
    "We shall drop columns Large Bags, XLarge Bags and keep only Total Bags since they all contribute same to the target.\n",
    "\n",
    "We shall drop 4225, 4770 since they are highly correlated to each other."
   ]
  },
  {
   "cell_type": "code",
   "execution_count": 534,
   "id": "2f632326",
   "metadata": {},
   "outputs": [],
   "source": [
    "df2.drop(['Small Bags','Large Bags', 'XLarge Bags'],  axis=1)"
   ]
  },
  {
   "cell_type": "code",
   "execution_count": 535,
   "id": "f6a49f4c",
   "metadata": {},
   "outputs": [],
   "source": [
    "df2.drop([4046,4225,4770],  axis=1)"
   ]
  },
  {
   "cell_type": "code",
   "execution_count": 671,
   "id": "d04acebc",
   "metadata": {},
   "outputs": [
    {
     "data": {
      "text/html": [
       "<div>\n",
       "<style scoped>\n",
       "    .dataframe tbody tr th:only-of-type {\n",
       "        vertical-align: middle;\n",
       "    }\n",
       "\n",
       "    .dataframe tbody tr th {\n",
       "        vertical-align: top;\n",
       "    }\n",
       "\n",
       "    .dataframe thead th {\n",
       "        text-align: right;\n",
       "    }\n",
       "</style>\n",
       "<table border=\"1\" class=\"dataframe\">\n",
       "  <thead>\n",
       "    <tr style=\"text-align: right;\">\n",
       "      <th></th>\n",
       "      <th>AveragePrice</th>\n",
       "      <th>Total Volume</th>\n",
       "      <th>4046</th>\n",
       "      <th>4225</th>\n",
       "      <th>4770</th>\n",
       "      <th>Total Bags</th>\n",
       "      <th>Small Bags</th>\n",
       "      <th>Large Bags</th>\n",
       "      <th>XLarge Bags</th>\n",
       "      <th>type</th>\n",
       "      <th>year</th>\n",
       "      <th>Month</th>\n",
       "      <th>Day</th>\n",
       "    </tr>\n",
       "  </thead>\n",
       "  <tbody>\n",
       "    <tr>\n",
       "      <th>0</th>\n",
       "      <td>1.33</td>\n",
       "      <td>64236.62</td>\n",
       "      <td>1036.74</td>\n",
       "      <td>54454.85</td>\n",
       "      <td>48.16</td>\n",
       "      <td>8696.87</td>\n",
       "      <td>8603.62</td>\n",
       "      <td>93.25</td>\n",
       "      <td>0.0</td>\n",
       "      <td>0</td>\n",
       "      <td>2015</td>\n",
       "      <td>12</td>\n",
       "      <td>27</td>\n",
       "    </tr>\n",
       "    <tr>\n",
       "      <th>1</th>\n",
       "      <td>1.35</td>\n",
       "      <td>54876.98</td>\n",
       "      <td>674.28</td>\n",
       "      <td>44638.81</td>\n",
       "      <td>58.33</td>\n",
       "      <td>9505.56</td>\n",
       "      <td>9408.07</td>\n",
       "      <td>97.49</td>\n",
       "      <td>0.0</td>\n",
       "      <td>0</td>\n",
       "      <td>2015</td>\n",
       "      <td>12</td>\n",
       "      <td>20</td>\n",
       "    </tr>\n",
       "    <tr>\n",
       "      <th>2</th>\n",
       "      <td>0.93</td>\n",
       "      <td>118220.22</td>\n",
       "      <td>794.70</td>\n",
       "      <td>109149.67</td>\n",
       "      <td>130.50</td>\n",
       "      <td>8145.35</td>\n",
       "      <td>8042.21</td>\n",
       "      <td>103.14</td>\n",
       "      <td>0.0</td>\n",
       "      <td>0</td>\n",
       "      <td>2015</td>\n",
       "      <td>12</td>\n",
       "      <td>13</td>\n",
       "    </tr>\n",
       "    <tr>\n",
       "      <th>3</th>\n",
       "      <td>1.08</td>\n",
       "      <td>78992.15</td>\n",
       "      <td>1132.00</td>\n",
       "      <td>71976.41</td>\n",
       "      <td>72.58</td>\n",
       "      <td>5811.16</td>\n",
       "      <td>5677.40</td>\n",
       "      <td>133.76</td>\n",
       "      <td>0.0</td>\n",
       "      <td>0</td>\n",
       "      <td>2015</td>\n",
       "      <td>12</td>\n",
       "      <td>6</td>\n",
       "    </tr>\n",
       "    <tr>\n",
       "      <th>4</th>\n",
       "      <td>1.28</td>\n",
       "      <td>51039.60</td>\n",
       "      <td>941.48</td>\n",
       "      <td>43838.39</td>\n",
       "      <td>75.78</td>\n",
       "      <td>6183.95</td>\n",
       "      <td>5986.26</td>\n",
       "      <td>197.69</td>\n",
       "      <td>0.0</td>\n",
       "      <td>0</td>\n",
       "      <td>2015</td>\n",
       "      <td>11</td>\n",
       "      <td>29</td>\n",
       "    </tr>\n",
       "    <tr>\n",
       "      <th>...</th>\n",
       "      <td>...</td>\n",
       "      <td>...</td>\n",
       "      <td>...</td>\n",
       "      <td>...</td>\n",
       "      <td>...</td>\n",
       "      <td>...</td>\n",
       "      <td>...</td>\n",
       "      <td>...</td>\n",
       "      <td>...</td>\n",
       "      <td>...</td>\n",
       "      <td>...</td>\n",
       "      <td>...</td>\n",
       "      <td>...</td>\n",
       "    </tr>\n",
       "    <tr>\n",
       "      <th>18244</th>\n",
       "      <td>1.63</td>\n",
       "      <td>17074.83</td>\n",
       "      <td>2046.96</td>\n",
       "      <td>1529.20</td>\n",
       "      <td>0.00</td>\n",
       "      <td>13498.67</td>\n",
       "      <td>13066.82</td>\n",
       "      <td>431.85</td>\n",
       "      <td>0.0</td>\n",
       "      <td>1</td>\n",
       "      <td>2018</td>\n",
       "      <td>2</td>\n",
       "      <td>4</td>\n",
       "    </tr>\n",
       "    <tr>\n",
       "      <th>18245</th>\n",
       "      <td>1.71</td>\n",
       "      <td>13888.04</td>\n",
       "      <td>1191.70</td>\n",
       "      <td>3431.50</td>\n",
       "      <td>0.00</td>\n",
       "      <td>9264.84</td>\n",
       "      <td>8940.04</td>\n",
       "      <td>324.80</td>\n",
       "      <td>0.0</td>\n",
       "      <td>1</td>\n",
       "      <td>2018</td>\n",
       "      <td>1</td>\n",
       "      <td>28</td>\n",
       "    </tr>\n",
       "    <tr>\n",
       "      <th>18246</th>\n",
       "      <td>1.87</td>\n",
       "      <td>13766.76</td>\n",
       "      <td>1191.92</td>\n",
       "      <td>2452.79</td>\n",
       "      <td>727.94</td>\n",
       "      <td>9394.11</td>\n",
       "      <td>9351.80</td>\n",
       "      <td>42.31</td>\n",
       "      <td>0.0</td>\n",
       "      <td>1</td>\n",
       "      <td>2018</td>\n",
       "      <td>1</td>\n",
       "      <td>21</td>\n",
       "    </tr>\n",
       "    <tr>\n",
       "      <th>18247</th>\n",
       "      <td>1.93</td>\n",
       "      <td>16205.22</td>\n",
       "      <td>1527.63</td>\n",
       "      <td>2981.04</td>\n",
       "      <td>727.01</td>\n",
       "      <td>10969.54</td>\n",
       "      <td>10919.54</td>\n",
       "      <td>50.00</td>\n",
       "      <td>0.0</td>\n",
       "      <td>1</td>\n",
       "      <td>2018</td>\n",
       "      <td>1</td>\n",
       "      <td>14</td>\n",
       "    </tr>\n",
       "    <tr>\n",
       "      <th>18248</th>\n",
       "      <td>1.62</td>\n",
       "      <td>17489.58</td>\n",
       "      <td>2894.77</td>\n",
       "      <td>2356.13</td>\n",
       "      <td>224.53</td>\n",
       "      <td>12014.15</td>\n",
       "      <td>11988.14</td>\n",
       "      <td>26.01</td>\n",
       "      <td>0.0</td>\n",
       "      <td>1</td>\n",
       "      <td>2018</td>\n",
       "      <td>1</td>\n",
       "      <td>7</td>\n",
       "    </tr>\n",
       "  </tbody>\n",
       "</table>\n",
       "<p>18249 rows × 13 columns</p>\n",
       "</div>"
      ],
      "text/plain": [
       "       AveragePrice  Total Volume     4046       4225    4770  Total Bags  \\\n",
       "0              1.33      64236.62  1036.74   54454.85   48.16     8696.87   \n",
       "1              1.35      54876.98   674.28   44638.81   58.33     9505.56   \n",
       "2              0.93     118220.22   794.70  109149.67  130.50     8145.35   \n",
       "3              1.08      78992.15  1132.00   71976.41   72.58     5811.16   \n",
       "4              1.28      51039.60   941.48   43838.39   75.78     6183.95   \n",
       "...             ...           ...      ...        ...     ...         ...   \n",
       "18244          1.63      17074.83  2046.96    1529.20    0.00    13498.67   \n",
       "18245          1.71      13888.04  1191.70    3431.50    0.00     9264.84   \n",
       "18246          1.87      13766.76  1191.92    2452.79  727.94     9394.11   \n",
       "18247          1.93      16205.22  1527.63    2981.04  727.01    10969.54   \n",
       "18248          1.62      17489.58  2894.77    2356.13  224.53    12014.15   \n",
       "\n",
       "       Small Bags  Large Bags  XLarge Bags  type  year  Month  Day  \n",
       "0         8603.62       93.25          0.0     0  2015     12   27  \n",
       "1         9408.07       97.49          0.0     0  2015     12   20  \n",
       "2         8042.21      103.14          0.0     0  2015     12   13  \n",
       "3         5677.40      133.76          0.0     0  2015     12    6  \n",
       "4         5986.26      197.69          0.0     0  2015     11   29  \n",
       "...           ...         ...          ...   ...   ...    ...  ...  \n",
       "18244    13066.82      431.85          0.0     1  2018      2    4  \n",
       "18245     8940.04      324.80          0.0     1  2018      1   28  \n",
       "18246     9351.80       42.31          0.0     1  2018      1   21  \n",
       "18247    10919.54       50.00          0.0     1  2018      1   14  \n",
       "18248    11988.14       26.01          0.0     1  2018      1    7  \n",
       "\n",
       "[18249 rows x 13 columns]"
      ]
     },
     "execution_count": 671,
     "metadata": {},
     "output_type": "execute_result"
    }
   ],
   "source": [
    "df2"
   ]
  },
  {
   "cell_type": "markdown",
   "id": "d501c3c6",
   "metadata": {},
   "source": [
    "# Remove Skewness"
   ]
  },
  {
   "cell_type": "markdown",
   "id": "c169f155",
   "metadata": {},
   "source": [
    "Target1- AveragePrice"
   ]
  },
  {
   "cell_type": "code",
   "execution_count": 587,
   "id": "48e6d570",
   "metadata": {},
   "outputs": [
    {
     "data": {
      "text/plain": [
       "year      0.215339\n",
       "Month     0.106617\n",
       "Day       0.014310\n",
       "type      0.000329\n",
       "region    0.000030\n",
       "dtype: float64"
      ]
     },
     "execution_count": 587,
     "metadata": {},
     "output_type": "execute_result"
    }
   ],
   "source": [
    "df1.skew().sort_values(ascending=False)"
   ]
  },
  {
   "cell_type": "markdown",
   "id": "920bf27c",
   "metadata": {},
   "source": [
    "Columns- Total Bags, Small Bags, Total Volume, 4225 has high skewness and are handled with Power Transform Method"
   ]
  },
  {
   "cell_type": "code",
   "execution_count": 588,
   "id": "14580e8f",
   "metadata": {},
   "outputs": [],
   "source": [
    "from sklearn.preprocessing import power_transform\n",
    "df1_new= power_transform(df1)"
   ]
  },
  {
   "cell_type": "code",
   "execution_count": 589,
   "id": "939b805c",
   "metadata": {},
   "outputs": [
    {
     "data": {
      "text/plain": [
       "array([[-0.99983562, -1.22187884, -2.01155231,  1.49434741,  1.22928497],\n",
       "       [-0.99983562, -1.22187884, -2.01155231,  1.49434741,  0.54100493],\n",
       "       [-0.99983562, -1.22187884, -2.01155231,  1.49434741, -0.21556953],\n",
       "       ...,\n",
       "       [ 1.00016441,  1.96856389,  1.54383806, -1.64204669,  0.64284151],\n",
       "       [ 1.00016441,  1.96856389,  1.54383806, -1.64204669, -0.10195902],\n",
       "       [ 1.00016441,  1.96856389,  1.54383806, -1.64204669, -0.95485351]])"
      ]
     },
     "execution_count": 589,
     "metadata": {},
     "output_type": "execute_result"
    }
   ],
   "source": [
    "from sklearn.preprocessing import StandardScaler\n",
    "sc=StandardScaler()\n",
    "df1_new= sc.fit_transform(df1_new)\n",
    "df1_new"
   ]
  },
  {
   "cell_type": "code",
   "execution_count": 590,
   "id": "3fb5eb94",
   "metadata": {},
   "outputs": [
    {
     "data": {
      "text/html": [
       "<div>\n",
       "<style scoped>\n",
       "    .dataframe tbody tr th:only-of-type {\n",
       "        vertical-align: middle;\n",
       "    }\n",
       "\n",
       "    .dataframe tbody tr th {\n",
       "        vertical-align: top;\n",
       "    }\n",
       "\n",
       "    .dataframe thead th {\n",
       "        text-align: right;\n",
       "    }\n",
       "</style>\n",
       "<table border=\"1\" class=\"dataframe\">\n",
       "  <thead>\n",
       "    <tr style=\"text-align: right;\">\n",
       "      <th></th>\n",
       "      <th>type</th>\n",
       "      <th>year</th>\n",
       "      <th>region</th>\n",
       "      <th>Month</th>\n",
       "      <th>Day</th>\n",
       "    </tr>\n",
       "  </thead>\n",
       "  <tbody>\n",
       "    <tr>\n",
       "      <th>0</th>\n",
       "      <td>-0.999836</td>\n",
       "      <td>-1.221879</td>\n",
       "      <td>-2.011552</td>\n",
       "      <td>1.494347</td>\n",
       "      <td>1.229285</td>\n",
       "    </tr>\n",
       "    <tr>\n",
       "      <th>1</th>\n",
       "      <td>-0.999836</td>\n",
       "      <td>-1.221879</td>\n",
       "      <td>-2.011552</td>\n",
       "      <td>1.494347</td>\n",
       "      <td>0.541005</td>\n",
       "    </tr>\n",
       "    <tr>\n",
       "      <th>2</th>\n",
       "      <td>-0.999836</td>\n",
       "      <td>-1.221879</td>\n",
       "      <td>-2.011552</td>\n",
       "      <td>1.494347</td>\n",
       "      <td>-0.215570</td>\n",
       "    </tr>\n",
       "    <tr>\n",
       "      <th>3</th>\n",
       "      <td>-0.999836</td>\n",
       "      <td>-1.221879</td>\n",
       "      <td>-2.011552</td>\n",
       "      <td>1.494347</td>\n",
       "      <td>-1.091311</td>\n",
       "    </tr>\n",
       "    <tr>\n",
       "      <th>4</th>\n",
       "      <td>-0.999836</td>\n",
       "      <td>-1.221879</td>\n",
       "      <td>-2.011552</td>\n",
       "      <td>1.278438</td>\n",
       "      <td>1.416727</td>\n",
       "    </tr>\n",
       "    <tr>\n",
       "      <th>...</th>\n",
       "      <td>...</td>\n",
       "      <td>...</td>\n",
       "      <td>...</td>\n",
       "      <td>...</td>\n",
       "      <td>...</td>\n",
       "    </tr>\n",
       "    <tr>\n",
       "      <th>18244</th>\n",
       "      <td>1.000164</td>\n",
       "      <td>1.968564</td>\n",
       "      <td>1.543838</td>\n",
       "      <td>-1.220706</td>\n",
       "      <td>-1.382073</td>\n",
       "    </tr>\n",
       "    <tr>\n",
       "      <th>18245</th>\n",
       "      <td>1.000164</td>\n",
       "      <td>1.968564</td>\n",
       "      <td>1.543838</td>\n",
       "      <td>-1.642047</td>\n",
       "      <td>1.323455</td>\n",
       "    </tr>\n",
       "    <tr>\n",
       "      <th>18246</th>\n",
       "      <td>1.000164</td>\n",
       "      <td>1.968564</td>\n",
       "      <td>1.543838</td>\n",
       "      <td>-1.642047</td>\n",
       "      <td>0.642842</td>\n",
       "    </tr>\n",
       "    <tr>\n",
       "      <th>18247</th>\n",
       "      <td>1.000164</td>\n",
       "      <td>1.968564</td>\n",
       "      <td>1.543838</td>\n",
       "      <td>-1.642047</td>\n",
       "      <td>-0.101959</td>\n",
       "    </tr>\n",
       "    <tr>\n",
       "      <th>18248</th>\n",
       "      <td>1.000164</td>\n",
       "      <td>1.968564</td>\n",
       "      <td>1.543838</td>\n",
       "      <td>-1.642047</td>\n",
       "      <td>-0.954854</td>\n",
       "    </tr>\n",
       "  </tbody>\n",
       "</table>\n",
       "<p>18249 rows × 5 columns</p>\n",
       "</div>"
      ],
      "text/plain": [
       "           type      year    region     Month       Day\n",
       "0     -0.999836 -1.221879 -2.011552  1.494347  1.229285\n",
       "1     -0.999836 -1.221879 -2.011552  1.494347  0.541005\n",
       "2     -0.999836 -1.221879 -2.011552  1.494347 -0.215570\n",
       "3     -0.999836 -1.221879 -2.011552  1.494347 -1.091311\n",
       "4     -0.999836 -1.221879 -2.011552  1.278438  1.416727\n",
       "...         ...       ...       ...       ...       ...\n",
       "18244  1.000164  1.968564  1.543838 -1.220706 -1.382073\n",
       "18245  1.000164  1.968564  1.543838 -1.642047  1.323455\n",
       "18246  1.000164  1.968564  1.543838 -1.642047  0.642842\n",
       "18247  1.000164  1.968564  1.543838 -1.642047 -0.101959\n",
       "18248  1.000164  1.968564  1.543838 -1.642047 -0.954854\n",
       "\n",
       "[18249 rows x 5 columns]"
      ]
     },
     "execution_count": 590,
     "metadata": {},
     "output_type": "execute_result"
    }
   ],
   "source": [
    "df1=pd.DataFrame(df1_new, columns= df1.columns)\n",
    "df1"
   ]
  },
  {
   "cell_type": "code",
   "execution_count": 591,
   "id": "141ba199",
   "metadata": {},
   "outputs": [
    {
     "data": {
      "text/plain": [
       "year      0.213156\n",
       "type      0.000329\n",
       "Month    -0.146584\n",
       "Day      -0.208462\n",
       "region   -0.261443\n",
       "dtype: float64"
      ]
     },
     "execution_count": 591,
     "metadata": {},
     "output_type": "execute_result"
    }
   ],
   "source": [
    "df1.skew().sort_values(ascending=False)"
   ]
  },
  {
   "cell_type": "code",
   "execution_count": 592,
   "id": "6dd8d9d7",
   "metadata": {},
   "outputs": [],
   "source": [
    "df1['AveragePrice']= df['AveragePrice']"
   ]
  },
  {
   "cell_type": "markdown",
   "id": "4ec6687b",
   "metadata": {},
   "source": [
    "Target2-Region"
   ]
  },
  {
   "cell_type": "code",
   "execution_count": 672,
   "id": "1371887b",
   "metadata": {},
   "outputs": [
    {
     "data": {
      "text/plain": [
       "XLarge Bags     13.139751\n",
       "4770            10.159396\n",
       "Large Bags       9.796455\n",
       "Total Bags       9.756072\n",
       "Small Bags       9.540660\n",
       "Total Volume     9.007687\n",
       "4225             8.942466\n",
       "4046             8.648220\n",
       "AveragePrice     0.580303\n",
       "year             0.215339\n",
       "Month            0.106617\n",
       "Day              0.014310\n",
       "type             0.000329\n",
       "dtype: float64"
      ]
     },
     "execution_count": 672,
     "metadata": {},
     "output_type": "execute_result"
    }
   ],
   "source": [
    "df2.skew().sort_values(ascending=False)"
   ]
  },
  {
   "cell_type": "markdown",
   "id": "4ad8cf96",
   "metadata": {},
   "source": [
    "Columns- Total Bags, XLarge Bags, Small Bags, Total Volume, 4026 has high skewness and are handled with Power Transform Method"
   ]
  },
  {
   "cell_type": "code",
   "execution_count": 673,
   "id": "cda0e261",
   "metadata": {},
   "outputs": [],
   "source": [
    "from sklearn.preprocessing import power_transform\n",
    "df2_new= power_transform(df2)"
   ]
  },
  {
   "cell_type": "code",
   "execution_count": 674,
   "id": "94504807",
   "metadata": {},
   "outputs": [
    {
     "data": {
      "text/plain": [
       "array([[-0.08624822, -0.08660524, -0.65861896, ..., -1.22187884,\n",
       "         1.49434741,  1.22928497],\n",
       "       [-0.03402196, -0.15574567, -0.77686953, ..., -1.22187884,\n",
       "         1.49434741,  0.54100493],\n",
       "       [-1.27393796,  0.17932662, -0.73194656, ..., -1.22187884,\n",
       "         1.49434741, -0.21556953],\n",
       "       ...,\n",
       "       [ 1.14779044, -0.77150535, -0.61983119, ...,  1.96856389,\n",
       "        -1.64204669,  0.64284151],\n",
       "       [ 1.2658763 , -0.69807719, -0.55028196, ...,  1.96856389,\n",
       "        -1.64204669, -0.10195902],\n",
       "       [ 0.61828746, -0.66380937, -0.36790819, ...,  1.96856389,\n",
       "        -1.64204669, -0.95485351]])"
      ]
     },
     "execution_count": 674,
     "metadata": {},
     "output_type": "execute_result"
    }
   ],
   "source": [
    "from sklearn.preprocessing import StandardScaler\n",
    "sc=StandardScaler()\n",
    "df2_new= sc.fit_transform(df2_new)\n",
    "df2_new"
   ]
  },
  {
   "cell_type": "code",
   "execution_count": 675,
   "id": "ab391801",
   "metadata": {},
   "outputs": [
    {
     "data": {
      "text/html": [
       "<div>\n",
       "<style scoped>\n",
       "    .dataframe tbody tr th:only-of-type {\n",
       "        vertical-align: middle;\n",
       "    }\n",
       "\n",
       "    .dataframe tbody tr th {\n",
       "        vertical-align: top;\n",
       "    }\n",
       "\n",
       "    .dataframe thead th {\n",
       "        text-align: right;\n",
       "    }\n",
       "</style>\n",
       "<table border=\"1\" class=\"dataframe\">\n",
       "  <thead>\n",
       "    <tr style=\"text-align: right;\">\n",
       "      <th></th>\n",
       "      <th>AveragePrice</th>\n",
       "      <th>Total Volume</th>\n",
       "      <th>4046</th>\n",
       "      <th>4225</th>\n",
       "      <th>4770</th>\n",
       "      <th>Total Bags</th>\n",
       "      <th>Small Bags</th>\n",
       "      <th>Large Bags</th>\n",
       "      <th>XLarge Bags</th>\n",
       "      <th>type</th>\n",
       "      <th>year</th>\n",
       "      <th>Month</th>\n",
       "      <th>Day</th>\n",
       "    </tr>\n",
       "  </thead>\n",
       "  <tbody>\n",
       "    <tr>\n",
       "      <th>0</th>\n",
       "      <td>-0.086248</td>\n",
       "      <td>-0.086605</td>\n",
       "      <td>-0.658619</td>\n",
       "      <td>0.307313</td>\n",
       "      <td>-0.247250</td>\n",
       "      <td>-0.524004</td>\n",
       "      <td>-0.340627</td>\n",
       "      <td>-0.773351</td>\n",
       "      <td>-0.699849</td>\n",
       "      <td>-0.999836</td>\n",
       "      <td>-1.221879</td>\n",
       "      <td>1.494347</td>\n",
       "      <td>1.229285</td>\n",
       "    </tr>\n",
       "    <tr>\n",
       "      <th>1</th>\n",
       "      <td>-0.034022</td>\n",
       "      <td>-0.155746</td>\n",
       "      <td>-0.776870</td>\n",
       "      <td>0.231647</td>\n",
       "      <td>-0.201041</td>\n",
       "      <td>-0.485890</td>\n",
       "      <td>-0.306425</td>\n",
       "      <td>-0.763435</td>\n",
       "      <td>-0.699849</td>\n",
       "      <td>-0.999836</td>\n",
       "      <td>-1.221879</td>\n",
       "      <td>1.494347</td>\n",
       "      <td>0.541005</td>\n",
       "    </tr>\n",
       "    <tr>\n",
       "      <th>2</th>\n",
       "      <td>-1.273938</td>\n",
       "      <td>0.179327</td>\n",
       "      <td>-0.731947</td>\n",
       "      <td>0.579503</td>\n",
       "      <td>-0.007072</td>\n",
       "      <td>-0.552018</td>\n",
       "      <td>-0.366303</td>\n",
       "      <td>-0.750820</td>\n",
       "      <td>-0.699849</td>\n",
       "      <td>-0.999836</td>\n",
       "      <td>-1.221879</td>\n",
       "      <td>1.494347</td>\n",
       "      <td>-0.215570</td>\n",
       "    </tr>\n",
       "    <tr>\n",
       "      <th>3</th>\n",
       "      <td>-0.793421</td>\n",
       "      <td>0.003876</td>\n",
       "      <td>-0.634200</td>\n",
       "      <td>0.415100</td>\n",
       "      <td>-0.148322</td>\n",
       "      <td>-0.695449</td>\n",
       "      <td>-0.496853</td>\n",
       "      <td>-0.691865</td>\n",
       "      <td>-0.699849</td>\n",
       "      <td>-0.999836</td>\n",
       "      <td>-1.221879</td>\n",
       "      <td>1.494347</td>\n",
       "      <td>-1.091311</td>\n",
       "    </tr>\n",
       "    <tr>\n",
       "      <th>4</th>\n",
       "      <td>-0.219440</td>\n",
       "      <td>-0.187640</td>\n",
       "      <td>-0.685293</td>\n",
       "      <td>0.224806</td>\n",
       "      <td>-0.137918</td>\n",
       "      <td>-0.669157</td>\n",
       "      <td>-0.477201</td>\n",
       "      <td>-0.600975</td>\n",
       "      <td>-0.699849</td>\n",
       "      <td>-0.999836</td>\n",
       "      <td>-1.221879</td>\n",
       "      <td>1.278438</td>\n",
       "      <td>1.416727</td>\n",
       "    </tr>\n",
       "    <tr>\n",
       "      <th>...</th>\n",
       "      <td>...</td>\n",
       "      <td>...</td>\n",
       "      <td>...</td>\n",
       "      <td>...</td>\n",
       "      <td>...</td>\n",
       "      <td>...</td>\n",
       "      <td>...</td>\n",
       "      <td>...</td>\n",
       "      <td>...</td>\n",
       "      <td>...</td>\n",
       "      <td>...</td>\n",
       "      <td>...</td>\n",
       "      <td>...</td>\n",
       "    </tr>\n",
       "    <tr>\n",
       "      <th>18244</th>\n",
       "      <td>0.640729</td>\n",
       "      <td>-0.674587</td>\n",
       "      <td>-0.467366</td>\n",
       "      <td>-0.919470</td>\n",
       "      <td>-1.238310</td>\n",
       "      <td>-0.334466</td>\n",
       "      <td>-0.178839</td>\n",
       "      <td>-0.410859</td>\n",
       "      <td>-0.699849</td>\n",
       "      <td>1.000164</td>\n",
       "      <td>1.968564</td>\n",
       "      <td>-1.220706</td>\n",
       "      <td>-1.382073</td>\n",
       "    </tr>\n",
       "    <tr>\n",
       "      <th>18245</th>\n",
       "      <td>0.816307</td>\n",
       "      <td>-0.767550</td>\n",
       "      <td>-0.619883</td>\n",
       "      <td>-0.665372</td>\n",
       "      <td>-1.238310</td>\n",
       "      <td>-0.496897</td>\n",
       "      <td>-0.325977</td>\n",
       "      <td>-0.481465</td>\n",
       "      <td>-0.699849</td>\n",
       "      <td>1.000164</td>\n",
       "      <td>1.968564</td>\n",
       "      <td>-1.642047</td>\n",
       "      <td>1.323455</td>\n",
       "    </tr>\n",
       "    <tr>\n",
       "      <th>18246</th>\n",
       "      <td>1.147790</td>\n",
       "      <td>-0.771505</td>\n",
       "      <td>-0.619831</td>\n",
       "      <td>-0.772496</td>\n",
       "      <td>0.401546</td>\n",
       "      <td>-0.490952</td>\n",
       "      <td>-0.308728</td>\n",
       "      <td>-0.943486</td>\n",
       "      <td>-0.699849</td>\n",
       "      <td>1.000164</td>\n",
       "      <td>1.968564</td>\n",
       "      <td>-1.642047</td>\n",
       "      <td>0.642842</td>\n",
       "    </tr>\n",
       "    <tr>\n",
       "      <th>18247</th>\n",
       "      <td>1.265876</td>\n",
       "      <td>-0.698077</td>\n",
       "      <td>-0.550282</td>\n",
       "      <td>-0.710543</td>\n",
       "      <td>0.401246</td>\n",
       "      <td>-0.424252</td>\n",
       "      <td>-0.248932</td>\n",
       "      <td>-0.908510</td>\n",
       "      <td>-0.699849</td>\n",
       "      <td>1.000164</td>\n",
       "      <td>1.968564</td>\n",
       "      <td>-1.642047</td>\n",
       "      <td>-0.101959</td>\n",
       "    </tr>\n",
       "    <tr>\n",
       "      <th>18248</th>\n",
       "      <td>0.618287</td>\n",
       "      <td>-0.663809</td>\n",
       "      <td>-0.367908</td>\n",
       "      <td>-0.785173</td>\n",
       "      <td>0.122919</td>\n",
       "      <td>-0.384961</td>\n",
       "      <td>-0.212590</td>\n",
       "      <td>-1.042250</td>\n",
       "      <td>-0.699849</td>\n",
       "      <td>1.000164</td>\n",
       "      <td>1.968564</td>\n",
       "      <td>-1.642047</td>\n",
       "      <td>-0.954854</td>\n",
       "    </tr>\n",
       "  </tbody>\n",
       "</table>\n",
       "<p>18249 rows × 13 columns</p>\n",
       "</div>"
      ],
      "text/plain": [
       "       AveragePrice  Total Volume      4046      4225      4770  Total Bags  \\\n",
       "0         -0.086248     -0.086605 -0.658619  0.307313 -0.247250   -0.524004   \n",
       "1         -0.034022     -0.155746 -0.776870  0.231647 -0.201041   -0.485890   \n",
       "2         -1.273938      0.179327 -0.731947  0.579503 -0.007072   -0.552018   \n",
       "3         -0.793421      0.003876 -0.634200  0.415100 -0.148322   -0.695449   \n",
       "4         -0.219440     -0.187640 -0.685293  0.224806 -0.137918   -0.669157   \n",
       "...             ...           ...       ...       ...       ...         ...   \n",
       "18244      0.640729     -0.674587 -0.467366 -0.919470 -1.238310   -0.334466   \n",
       "18245      0.816307     -0.767550 -0.619883 -0.665372 -1.238310   -0.496897   \n",
       "18246      1.147790     -0.771505 -0.619831 -0.772496  0.401546   -0.490952   \n",
       "18247      1.265876     -0.698077 -0.550282 -0.710543  0.401246   -0.424252   \n",
       "18248      0.618287     -0.663809 -0.367908 -0.785173  0.122919   -0.384961   \n",
       "\n",
       "       Small Bags  Large Bags  XLarge Bags      type      year     Month  \\\n",
       "0       -0.340627   -0.773351    -0.699849 -0.999836 -1.221879  1.494347   \n",
       "1       -0.306425   -0.763435    -0.699849 -0.999836 -1.221879  1.494347   \n",
       "2       -0.366303   -0.750820    -0.699849 -0.999836 -1.221879  1.494347   \n",
       "3       -0.496853   -0.691865    -0.699849 -0.999836 -1.221879  1.494347   \n",
       "4       -0.477201   -0.600975    -0.699849 -0.999836 -1.221879  1.278438   \n",
       "...           ...         ...          ...       ...       ...       ...   \n",
       "18244   -0.178839   -0.410859    -0.699849  1.000164  1.968564 -1.220706   \n",
       "18245   -0.325977   -0.481465    -0.699849  1.000164  1.968564 -1.642047   \n",
       "18246   -0.308728   -0.943486    -0.699849  1.000164  1.968564 -1.642047   \n",
       "18247   -0.248932   -0.908510    -0.699849  1.000164  1.968564 -1.642047   \n",
       "18248   -0.212590   -1.042250    -0.699849  1.000164  1.968564 -1.642047   \n",
       "\n",
       "            Day  \n",
       "0      1.229285  \n",
       "1      0.541005  \n",
       "2     -0.215570  \n",
       "3     -1.091311  \n",
       "4      1.416727  \n",
       "...         ...  \n",
       "18244 -1.382073  \n",
       "18245  1.323455  \n",
       "18246  0.642842  \n",
       "18247 -0.101959  \n",
       "18248 -0.954854  \n",
       "\n",
       "[18249 rows x 13 columns]"
      ]
     },
     "execution_count": 675,
     "metadata": {},
     "output_type": "execute_result"
    }
   ],
   "source": [
    "df2=pd.DataFrame(df2_new, columns= df2.columns)\n",
    "df2"
   ]
  },
  {
   "cell_type": "code",
   "execution_count": 676,
   "id": "34123dfe",
   "metadata": {},
   "outputs": [
    {
     "data": {
      "text/plain": [
       "XLarge Bags     0.793520\n",
       "year            0.213156\n",
       "4770            0.032184\n",
       "Total Volume    0.011171\n",
       "Small Bags      0.007058\n",
       "AveragePrice    0.005596\n",
       "type            0.000329\n",
       "Total Bags     -0.001626\n",
       "4225           -0.017740\n",
       "4046           -0.022679\n",
       "Large Bags     -0.073809\n",
       "Month          -0.146584\n",
       "Day            -0.208462\n",
       "dtype: float64"
      ]
     },
     "execution_count": 676,
     "metadata": {},
     "output_type": "execute_result"
    }
   ],
   "source": [
    "df2.skew().sort_values(ascending=False)"
   ]
  },
  {
   "cell_type": "code",
   "execution_count": 677,
   "id": "d7e7af5c",
   "metadata": {},
   "outputs": [],
   "source": [
    "df2['region']= df['region']"
   ]
  },
  {
   "cell_type": "markdown",
   "id": "41e6cf8c",
   "metadata": {},
   "source": [
    "Skewness is removed from the dataset. So we shall proceed with Outliers removal"
   ]
  },
  {
   "cell_type": "markdown",
   "id": "09552205",
   "metadata": {},
   "source": [
    "# CHeck Outliers"
   ]
  },
  {
   "cell_type": "markdown",
   "id": "2f3c5802",
   "metadata": {},
   "source": [
    "Target1- AveragePrice"
   ]
  },
  {
   "cell_type": "code",
   "execution_count": 593,
   "id": "8a68a485",
   "metadata": {},
   "outputs": [
    {
     "data": {
      "image/png": "[encoded data removed]",
      "text/plain": [
       "<Figure size 1440x720 with 1 Axes>"
      ]
     },
     "metadata": {
      "needs_background": "light"
     },
     "output_type": "display_data"
    }
   ],
   "source": [
    "df1.boxplot(figsize=(20,10))\n",
    "plt.subplots_adjust(bottom=0.25)\n",
    "plt.show()"
   ]
  },
  {
   "cell_type": "markdown",
   "id": "7fac0326",
   "metadata": {},
   "source": [
    "Columns TotalBags,  Average price seems to have outliers in it."
   ]
  },
  {
   "cell_type": "code",
   "execution_count": 594,
   "id": "7a90c984",
   "metadata": {},
   "outputs": [
    {
     "data": {
      "text/plain": [
       "array([[0.99983562, 1.22187884, 2.01155231, 1.49434741, 1.22928497,\n",
       "        0.18868864],\n",
       "       [0.99983562, 1.22187884, 2.01155231, 1.49434741, 0.54100493,\n",
       "        0.13901962],\n",
       "       [0.99983562, 1.22187884, 2.01155231, 1.49434741, 0.21556953,\n",
       "        1.18206895],\n",
       "       ...,\n",
       "       [1.00016441, 1.96856389, 1.54383806, 1.64204669, 0.64284151,\n",
       "        1.15237477],\n",
       "       [1.00016441, 1.96856389, 1.54383806, 1.64204669, 0.10195902,\n",
       "        1.30138182],\n",
       "       [1.00016441, 1.96856389, 1.54383806, 1.64204669, 0.95485351,\n",
       "        0.53151208]])"
      ]
     },
     "execution_count": 594,
     "metadata": {},
     "output_type": "execute_result"
    }
   ],
   "source": [
    "from scipy.stats import zscore\n",
    "z=np.abs(zscore(df1))\n",
    "z"
   ]
  },
  {
   "cell_type": "code",
   "execution_count": 595,
   "id": "f0742676",
   "metadata": {},
   "outputs": [
    {
     "name": "stdout",
     "output_type": "stream",
     "text": [
      "(array([11320, 11321, 11323, 11324, 11325, 11326, 11327, 11328, 11329,\n",
      "       11330, 11331, 11332, 12821, 12823, 13033, 13035, 13037, 13038,\n",
      "       13395, 13657, 13661, 14019, 14020, 14073, 14074, 14119, 14120,\n",
      "       14121, 14122, 14123, 14124, 14125, 14126, 14128, 14129, 14177,\n",
      "       14385, 14699, 14701, 14702, 14807, 14911, 14912, 14913, 14914,\n",
      "       14915, 14916, 14917, 14918, 14919, 15124, 15125, 15127, 15128,\n",
      "       15129, 15130, 15510, 15511, 15667, 15668, 15671, 15673, 15674,\n",
      "       15814, 15871, 16024, 16050, 16055, 16395, 16399, 16421, 16660,\n",
      "       16661, 16662, 16663, 16664, 16665, 16666, 16667, 16714, 16715,\n",
      "       16717, 16718, 16719, 16720, 16721, 16734, 16737, 16738, 16985,\n",
      "       16986, 16994, 16995, 16996, 16997, 16998, 16999, 17000, 17007,\n",
      "       17008, 17009, 17010, 17015, 17017, 17031, 17032, 17033, 17034,\n",
      "       17035, 17036, 17037, 17038, 17039, 17040, 17047, 17244, 17245,\n",
      "       17246, 17247, 17248, 17249, 17250, 17251, 17255, 17300, 17301,\n",
      "       17302, 17303, 17304, 17402, 17428], dtype=int64), array([5, 5, 5, 5, 5, 5, 5, 5, 5, 5, 5, 5, 5, 5, 5, 5, 5, 5, 5, 5, 5, 5,\n",
      "       5, 5, 5, 5, 5, 5, 5, 5, 5, 5, 5, 5, 5, 5, 5, 5, 5, 5, 5, 5, 5, 5,\n",
      "       5, 5, 5, 5, 5, 5, 5, 5, 5, 5, 5, 5, 5, 5, 5, 5, 5, 5, 5, 5, 5, 5,\n",
      "       5, 5, 5, 5, 5, 5, 5, 5, 5, 5, 5, 5, 5, 5, 5, 5, 5, 5, 5, 5, 5, 5,\n",
      "       5, 5, 5, 5, 5, 5, 5, 5, 5, 5, 5, 5, 5, 5, 5, 5, 5, 5, 5, 5, 5, 5,\n",
      "       5, 5, 5, 5, 5, 5, 5, 5, 5, 5, 5, 5, 5, 5, 5, 5, 5, 5, 5, 5, 5],\n",
      "      dtype=int64))\n"
     ]
    }
   ],
   "source": [
    "# threshold for zscore is 3........., zscore greater than 3 is outliers\n",
    "threshold =3\n",
    "print(np.where(z>3))"
   ]
  },
  {
   "cell_type": "code",
   "execution_count": 596,
   "id": "6f061814",
   "metadata": {},
   "outputs": [],
   "source": [
    "df1_new= df1[(z<3).all(axis=1)]"
   ]
  },
  {
   "cell_type": "code",
   "execution_count": 597,
   "id": "48c75f96",
   "metadata": {},
   "outputs": [
    {
     "data": {
      "text/plain": [
       "(18118, 6)"
      ]
     },
     "execution_count": 597,
     "metadata": {},
     "output_type": "execute_result"
    }
   ],
   "source": [
    "df1_new.shape"
   ]
  },
  {
   "cell_type": "code",
   "execution_count": 598,
   "id": "9aa38bd2",
   "metadata": {},
   "outputs": [
    {
     "data": {
      "text/plain": [
       "(18249, 14)"
      ]
     },
     "execution_count": 598,
     "metadata": {},
     "output_type": "execute_result"
    }
   ],
   "source": [
    "df.shape"
   ]
  },
  {
   "cell_type": "code",
   "execution_count": 599,
   "id": "8a21670b",
   "metadata": {},
   "outputs": [
    {
     "data": {
      "text/plain": [
       "0.7178475532905912"
      ]
     },
     "execution_count": 599,
     "metadata": {},
     "output_type": "execute_result"
    }
   ],
   "source": [
    "loss_percent1= (18249-18118)/18249*100\n",
    "loss_percent1"
   ]
  },
  {
   "cell_type": "markdown",
   "id": "5ca5c7b3",
   "metadata": {},
   "source": [
    "df2"
   ]
  },
  {
   "cell_type": "code",
   "execution_count": 678,
   "id": "f51f1caf",
   "metadata": {},
   "outputs": [
    {
     "data": {
      "image/png": "[encoded data removed]",
      "text/plain": [
       "<Figure size 1440x720 with 1 Axes>"
      ]
     },
     "metadata": {
      "needs_background": "light"
     },
     "output_type": "display_data"
    }
   ],
   "source": [
    "df2.boxplot(figsize=(20,10))\n",
    "plt.subplots_adjust(bottom=0.25)\n",
    "plt.show()"
   ]
  },
  {
   "cell_type": "markdown",
   "id": "6cfdf95d",
   "metadata": {},
   "source": [
    "Total Bags and average Price has outliers in it."
   ]
  },
  {
   "cell_type": "markdown",
   "id": "7a1f3f88",
   "metadata": {},
   "source": [
    "Target2- Region"
   ]
  },
  {
   "cell_type": "code",
   "execution_count": 679,
   "id": "3139d1f7",
   "metadata": {},
   "outputs": [
    {
     "data": {
      "text/plain": [
       "array([[0.08624822, 0.08660524, 0.65861896, ..., 1.49434741, 1.22928497,\n",
       "        1.7002522 ],\n",
       "       [0.03402196, 0.15574567, 0.77686953, ..., 1.49434741, 0.54100493,\n",
       "        1.7002522 ],\n",
       "       [1.27393796, 0.17932662, 0.73194656, ..., 1.49434741, 0.21556953,\n",
       "        1.7002522 ],\n",
       "       ...,\n",
       "       [1.14779044, 0.77150535, 0.61983119, ..., 1.64204669, 0.64284151,\n",
       "        1.70081131],\n",
       "       [1.2658763 , 0.69807719, 0.55028196, ..., 1.64204669, 0.10195902,\n",
       "        1.70081131],\n",
       "       [0.61828746, 0.66380937, 0.36790819, ..., 1.64204669, 0.95485351,\n",
       "        1.70081131]])"
      ]
     },
     "execution_count": 679,
     "metadata": {},
     "output_type": "execute_result"
    }
   ],
   "source": [
    "from scipy.stats import zscore\n",
    "z=np.abs(zscore(df2))\n",
    "z"
   ]
  },
  {
   "cell_type": "code",
   "execution_count": 680,
   "id": "12a2971e",
   "metadata": {},
   "outputs": [
    {
     "name": "stdout",
     "output_type": "stream",
     "text": [
      "(array([ 1716,  2699,  5462,  5475,  5476,  5477,  5478,  5479,  5480,\n",
      "        5481,  5482,  5483,  5484,  5485,  5486,  5487,  5488,  5489,\n",
      "        5490,  5491,  5492,  5493,  5494,  5495,  5496,  5497,  5506,\n",
      "        5506,  7412,  8319,  8322,  8344,  8344,  8345,  8345,  8346,\n",
      "        8346,  8347,  8347,  8348,  8348,  8349,  8349,  8350,  8351,\n",
      "        8352,  8352,  8353,  8353,  8354,  8354,  8355,  8356,  8357,\n",
      "        8358,  8359,  8360,  8361,  8362,  8363,  8364,  8365,  8365,\n",
      "        8366,  8366,  8366,  8367,  8367,  8368,  8369,  8370,  8371,\n",
      "        9090,  9090,  9091,  9091,  9092,  9092,  9093,  9093,  9094,\n",
      "        9094,  9095,  9096,  9096,  9097,  9097,  9097,  9097,  9098,\n",
      "        9098,  9099,  9099,  9100,  9101,  9212,  9894, 10381, 11024,\n",
      "       11320, 11321, 11322, 11325, 11326, 11332, 11333, 11336, 11338,\n",
      "       11340, 11342, 11347, 11348, 11349, 11350, 11354, 11387, 11388,\n",
      "       11594, 11595, 11596, 11597, 11614, 11662, 12132, 14124, 14125,\n",
      "       14404, 15261, 15262, 15473, 16055, 16720, 17428], dtype=int64), array([0, 3, 6, 6, 6, 6, 6, 6, 6, 6, 6, 6, 6, 6, 6, 6, 6, 6, 6, 6, 6, 6,\n",
      "       6, 6, 6, 6, 3, 6, 0, 6, 6, 5, 6, 5, 6, 5, 6, 5, 6, 5, 6, 5, 6, 6,\n",
      "       6, 5, 6, 5, 6, 5, 6, 6, 6, 6, 6, 6, 6, 6, 6, 6, 6, 5, 6, 3, 5, 6,\n",
      "       5, 6, 6, 6, 6, 6, 5, 6, 5, 6, 5, 6, 5, 6, 5, 6, 6, 5, 6, 3, 5, 6,\n",
      "       7, 5, 6, 5, 6, 6, 6, 5, 5, 1, 5, 5, 5, 5, 5, 5, 5, 5, 5, 5, 5, 5,\n",
      "       5, 5, 5, 5, 5, 5, 5, 5, 5, 5, 5, 5, 5, 5, 0, 0, 5, 0, 0, 0, 0, 0,\n",
      "       0], dtype=int64))\n"
     ]
    }
   ],
   "source": [
    "# threshold for zscore is 3........., zscore greater than 3 is outliers\n",
    "threshold =3\n",
    "print(np.where(z>3))"
   ]
  },
  {
   "cell_type": "code",
   "execution_count": 684,
   "id": "d407179a",
   "metadata": {},
   "outputs": [],
   "source": [
    "df2_new= df2[(z<3).all(axis=1)]"
   ]
  },
  {
   "cell_type": "code",
   "execution_count": 685,
   "id": "7071ea34",
   "metadata": {},
   "outputs": [
    {
     "data": {
      "text/plain": [
       "(18141, 14)"
      ]
     },
     "execution_count": 685,
     "metadata": {},
     "output_type": "execute_result"
    }
   ],
   "source": [
    "df2_new.shape"
   ]
  },
  {
   "cell_type": "markdown",
   "id": "0f6de450",
   "metadata": {},
   "source": [
    "Percent Loss"
   ]
  },
  {
   "cell_type": "code",
   "execution_count": 686,
   "id": "8d33fc90",
   "metadata": {},
   "outputs": [
    {
     "data": {
      "text/plain": [
       "0.5918132500410981"
      ]
     },
     "execution_count": 686,
     "metadata": {},
     "output_type": "execute_result"
    }
   ],
   "source": [
    "loss_percent= (18249-18141)/18249*100\n",
    "loss_percent"
   ]
  },
  {
   "cell_type": "markdown",
   "id": "6f33250f",
   "metadata": {},
   "source": [
    " Only 0.6% of the data is lost. So we shall try to train the Model."
   ]
  },
  {
   "cell_type": "markdown",
   "id": "8eccbb5e",
   "metadata": {},
   "source": [
    "# Target- AveragePrice"
   ]
  },
  {
   "cell_type": "code",
   "execution_count": 687,
   "id": "149f5048",
   "metadata": {},
   "outputs": [],
   "source": [
    "x= df1_new.iloc[:,0:-1]\n",
    "y=df1_new.iloc[:,-1]\n"
   ]
  },
  {
   "cell_type": "code",
   "execution_count": 629,
   "id": "7907b08c",
   "metadata": {},
   "outputs": [
    {
     "data": {
      "text/plain": [
       "0        1.33\n",
       "1        1.35\n",
       "2        0.93\n",
       "3        1.08\n",
       "4        1.28\n",
       "         ... \n",
       "18244    1.63\n",
       "18245    1.71\n",
       "18246    1.87\n",
       "18247    1.93\n",
       "18248    1.62\n",
       "Name: AveragePrice, Length: 18118, dtype: float64"
      ]
     },
     "execution_count": 629,
     "metadata": {},
     "output_type": "execute_result"
    }
   ],
   "source": [
    "y"
   ]
  },
  {
   "cell_type": "markdown",
   "id": "32590363",
   "metadata": {},
   "source": [
    "Since the Target variable is continous we shall use Regression Models."
   ]
  },
  {
   "cell_type": "markdown",
   "id": "58ff6a41",
   "metadata": {},
   "source": [
    "# Training The Model"
   ]
  },
  {
   "cell_type": "code",
   "execution_count": 630,
   "id": "fb6cc840",
   "metadata": {},
   "outputs": [],
   "source": [
    "from sklearn.linear_model import LinearRegression, Lasso, Ridge\n",
    "from sklearn.tree import DecisionTreeClassifier, DecisionTreeRegressor\n",
    "from sklearn.ensemble import RandomForestClassifier, RandomForestRegressor\n",
    "from sklearn.svm import SVC, SVR\n",
    "from sklearn.neighbors import KNeighborsClassifier,KNeighborsRegressor\n",
    "from sklearn.metrics import accuracy_score, confusion_matrix, classification_report\n",
    "from sklearn.metrics import r2_score, mean_squared_error, mean_absolute_error\n",
    "from sklearn.model_selection import train_test_split\n",
    "from sklearn.naive_bayes import MultinomialNB"
   ]
  },
  {
   "cell_type": "markdown",
   "id": "8fbc7d6f",
   "metadata": {},
   "source": [
    "# Check the best Random State"
   ]
  },
  {
   "cell_type": "markdown",
   "id": "2baf5046",
   "metadata": {},
   "source": [
    "# LinearRegression"
   ]
  },
  {
   "cell_type": "code",
   "execution_count": 604,
   "id": "dde2fe8a",
   "metadata": {},
   "outputs": [
    {
     "name": "stdout",
     "output_type": "stream",
     "text": [
      "Best Accuracy_score is 0.6985161842186903 on Random_state 84\n"
     ]
    }
   ],
   "source": [
    "maxr2=0\n",
    "maxRS=0\n",
    "\n",
    "for i in range(1,100):\n",
    "    xtrain,xtest,ytrain,ytest= train_test_split(x,y,test_size=20,random_state=i)\n",
    "    lr=LinearRegression()\n",
    "    lr.fit(xtrain,ytrain)\n",
    "    predlr= lr.predict(xtest)\n",
    "    r2= r2_score(ytest,predlr)\n",
    "    if r2>maxr2:\n",
    "        maxr2=r2\n",
    "        maxRS=i\n",
    "print(\"Best Accuracy_score is\", maxr2, 'on Random_state',maxRS)"
   ]
  },
  {
   "cell_type": "markdown",
   "id": "a0b7591a",
   "metadata": {},
   "source": [
    "# To Find the Best Cross Validation Score "
   ]
  },
  {
   "cell_type": "code",
   "execution_count": 609,
   "id": "367c3fd4",
   "metadata": {},
   "outputs": [],
   "source": [
    "pred_tr= lr.predict(xtrain)\n",
    "pred_ts= lr.predict(xtest)"
   ]
  },
  {
   "cell_type": "code",
   "execution_count": 610,
   "id": "6c83c67a",
   "metadata": {},
   "outputs": [],
   "source": [
    "train_accuracy= r2_score(ytrain,pred_tr)\n",
    "test_accuracy= r2_score(ytest,pred_ts)"
   ]
  },
  {
   "cell_type": "code",
   "execution_count": 611,
   "id": "77bde3de",
   "metadata": {},
   "outputs": [
    {
     "name": "stdout",
     "output_type": "stream",
     "text": [
      "At cross fold 2 the cv score is -0.9417289410869395 and accuracy score for training is 0.4273873759796214 and the accuracy for testing is 0.5565698440795079\n",
      "\n",
      "\n",
      "At cross fold 3 the cv score is -0.05939113384582447 and accuracy score for training is 0.4273873759796214 and the accuracy for testing is 0.5565698440795079\n",
      "\n",
      "\n",
      "At cross fold 4 the cv score is -0.06959699184731269 and accuracy score for training is 0.4273873759796214 and the accuracy for testing is 0.5565698440795079\n",
      "\n",
      "\n",
      "At cross fold 5 the cv score is 0.051482310176254306 and accuracy score for training is 0.4273873759796214 and the accuracy for testing is 0.5565698440795079\n",
      "\n",
      "\n",
      "At cross fold 6 the cv score is -0.09130638833301404 and accuracy score for training is 0.4273873759796214 and the accuracy for testing is 0.5565698440795079\n",
      "\n",
      "\n",
      "At cross fold 7 the cv score is 0.006856698800596536 and accuracy score for training is 0.4273873759796214 and the accuracy for testing is 0.5565698440795079\n",
      "\n",
      "\n",
      "At cross fold 8 the cv score is -0.03547902222608561 and accuracy score for training is 0.4273873759796214 and the accuracy for testing is 0.5565698440795079\n",
      "\n",
      "\n",
      "At cross fold 9 the cv score is -0.006527901308157169 and accuracy score for training is 0.4273873759796214 and the accuracy for testing is 0.5565698440795079\n",
      "\n",
      "\n"
     ]
    }
   ],
   "source": [
    "from sklearn.model_selection import cross_val_score\n",
    "for j in range(2,10):\n",
    "    cv_score= cross_val_score(lr,x,y,cv=j)\n",
    "    cv_mean=cv_score.mean()\n",
    "    print(f\"At cross fold {j} the cv score is {cv_mean} and accuracy score for training is {train_accuracy} and the accuracy for testing is {test_accuracy}\")\n",
    "    print(\"\\n\")"
   ]
  },
  {
   "cell_type": "markdown",
   "id": "8f208fb8",
   "metadata": {},
   "source": [
    " r2 score is good with random State-84, cv-5. So we shall test the score with other models"
   ]
  },
  {
   "cell_type": "code",
   "execution_count": 631,
   "id": "0b258a65",
   "metadata": {},
   "outputs": [],
   "source": [
    "xtrain,xtest,ytrain,ytest=train_test_split(x,y,test_size=20, random_state=84)"
   ]
  },
  {
   "cell_type": "markdown",
   "id": "f7128a5f",
   "metadata": {},
   "source": [
    "# LinearRegression"
   ]
  },
  {
   "cell_type": "code",
   "execution_count": 632,
   "id": "c9de4481",
   "metadata": {},
   "outputs": [
    {
     "name": "stdout",
     "output_type": "stream",
     "text": [
      "R2= 0.6985161842186903\n",
      "MSE= 0.026417820841653044\n",
      "MBE= 0.13149994225740308\n"
     ]
    }
   ],
   "source": [
    "lr=LinearRegression()\n",
    "lr.fit(xtrain,ytrain)\n",
    "predlr= lr.predict(xtest)\n",
    "print('R2=', r2_score(ytest,predlr))\n",
    "print('MSE=', mean_squared_error(ytest,predlr))\n",
    "print('MBE=', mean_absolute_error(ytest,predlr))"
   ]
  },
  {
   "cell_type": "code",
   "execution_count": 633,
   "id": "4006f393",
   "metadata": {},
   "outputs": [
    {
     "name": "stdout",
     "output_type": "stream",
     "text": [
      "Cross Validation Score of LinearRegression is: 0.051482310176254306\n"
     ]
    }
   ],
   "source": [
    "cr_lr=cross_val_score(lr,x,y, cv=5)\n",
    "print('Cross Validation Score of LinearRegression is:', cr_lr.mean())"
   ]
  },
  {
   "cell_type": "markdown",
   "id": "0712e7f0",
   "metadata": {},
   "source": [
    "##### Decision Tree Regressor"
   ]
  },
  {
   "cell_type": "code",
   "execution_count": 615,
   "id": "b0a6c1fb",
   "metadata": {},
   "outputs": [
    {
     "name": "stdout",
     "output_type": "stream",
     "text": [
      "Score: 1.0\n",
      "mean_squared_error 0.061105\n",
      "mean_absolute_error: 0.1795\n",
      "r2_score: 0.5166995893073592\n"
     ]
    }
   ],
   "source": [
    "dtc=DecisionTreeRegressor()\n",
    "dtc.fit(xtrain,ytrain)\n",
    "preddtc= dtc.predict(xtest)\n",
    "print('Score:',dtc.score(xtrain,ytrain))\n",
    "print('mean_squared_error', mean_squared_error(ytest,preddtc))\n",
    "print('mean_absolute_error:', mean_absolute_error(preddtc,ytest))\n",
    "print('r2_score:', r2_score(preddtc,ytest))"
   ]
  },
  {
   "cell_type": "code",
   "execution_count": 616,
   "id": "5aba2a33",
   "metadata": {},
   "outputs": [
    {
     "name": "stdout",
     "output_type": "stream",
     "text": [
      "Cross Validation Score of DecisionTreeRegressor is: -0.07171628528704203\n"
     ]
    }
   ],
   "source": [
    "cr_dtc=cross_val_score(dtc,x,y, cv=5)\n",
    "print('Cross Validation Score of DecisionTreeRegressor is:', cr_dtc.mean())"
   ]
  },
  {
   "cell_type": "markdown",
   "id": "28d78c01",
   "metadata": {},
   "source": [
    "# RandomForestRegressor"
   ]
  },
  {
   "cell_type": "code",
   "execution_count": 617,
   "id": "4607f039",
   "metadata": {},
   "outputs": [
    {
     "name": "stdout",
     "output_type": "stream",
     "text": [
      "mean_squared_error 0.03032811349999993\n",
      "mean_absolute_error: 0.14743499999999982\n",
      "Rf Score 0.9797912231806749\n",
      "r2_score: 0.7347826623049469\n"
     ]
    }
   ],
   "source": [
    "rf=RandomForestRegressor()\n",
    "rf.fit(xtrain,ytrain)\n",
    "predrf= rf.predict(xtest)\n",
    "print('mean_squared_error', mean_squared_error(ytest,predrf))\n",
    "print('mean_absolute_error:', mean_absolute_error(predrf,ytest))\n",
    "print('Rf Score', rf.score(xtrain,ytrain))\n",
    "print('r2_score:', r2_score(predrf,ytest))"
   ]
  },
  {
   "cell_type": "code",
   "execution_count": 618,
   "id": "13ba2d01",
   "metadata": {},
   "outputs": [
    {
     "name": "stdout",
     "output_type": "stream",
     "text": [
      "Cross Validation Score of RandomForestRegressor is: 0.11798179132738995\n"
     ]
    }
   ],
   "source": [
    "cr_rf=cross_val_score(rf,x,y, cv=9)\n",
    "print('Cross Validation Score of RandomForestRegressor is:', cr_rf.mean())"
   ]
  },
  {
   "cell_type": "markdown",
   "id": "ed79c0ab",
   "metadata": {},
   "source": [
    "# KNN"
   ]
  },
  {
   "cell_type": "code",
   "execution_count": 619,
   "id": "ded28261",
   "metadata": {},
   "outputs": [
    {
     "name": "stdout",
     "output_type": "stream",
     "text": [
      "mean_squared_error 0.02980179999999999\n",
      "mean_absolute_error: 0.1443\n",
      "Rf Score 0.6349195833538809\n",
      "r2_score: 0.7160808297636784\n"
     ]
    }
   ],
   "source": [
    "knn=KNeighborsRegressor()\n",
    "knn.fit(xtrain,ytrain)\n",
    "predknn= knn.predict(xtest)\n",
    "print('mean_squared_error', mean_squared_error(ytest,predknn))\n",
    "print('mean_absolute_error:', mean_absolute_error(predknn,ytest))\n",
    "print('Rf Score', knn.score(xtrain,ytrain))\n",
    "print('r2_score:', r2_score(predknn,ytest))"
   ]
  },
  {
   "cell_type": "code",
   "execution_count": 620,
   "id": "a361a836",
   "metadata": {},
   "outputs": [
    {
     "name": "stdout",
     "output_type": "stream",
     "text": [
      "Cross Validation Score of RandomForestRegressor is: -0.18056192180362812\n"
     ]
    }
   ],
   "source": [
    "cr_rf=cross_val_score(knn,x,y, cv=9)\n",
    "print('Cross Validation Score of RandomForestRegressor is:', cr_rf.mean())"
   ]
  },
  {
   "cell_type": "markdown",
   "id": "7b2fc7c7",
   "metadata": {},
   "source": [
    "Among all the models, Linear regression shows r2 score of 70%, CV score is very less. So we may check with Regularization Techniques, Since Linear Regression has no HyperParameter Tuning."
   ]
  },
  {
   "cell_type": "code",
   "execution_count": 634,
   "id": "a9d3dd47",
   "metadata": {},
   "outputs": [
    {
     "name": "stdout",
     "output_type": "stream",
     "text": [
      "R2= 0.6986528068754125\n",
      "MSE= 0.0264058491447351\n",
      "MBE= 0.1315110382766201\n"
     ]
    }
   ],
   "source": [
    "ls=Lasso(alpha= 0.0001)\n",
    "ls.fit(xtrain,ytrain)\n",
    "predls= ls.predict(xtest)\n",
    "print('R2=', r2_score(ytest,predls))\n",
    "print('MSE=', mean_squared_error(ytest,predls))\n",
    "print('MBE=', mean_absolute_error(ytest,predls))"
   ]
  },
  {
   "cell_type": "code",
   "execution_count": 635,
   "id": "7ca0be3a",
   "metadata": {},
   "outputs": [
    {
     "name": "stdout",
     "output_type": "stream",
     "text": [
      "R2= 0.6986528068754125\n",
      "MSE= 0.0264058491447351\n",
      "MBE= 0.1315110382766201\n"
     ]
    }
   ],
   "source": [
    "rd=Ridge(alpha= 0.0001)         \n",
    "ls.fit(xtrain,ytrain)\n",
    "predls= ls.predict(xtest)\n",
    "print('R2=', r2_score(ytest,predls))\n",
    "print('MSE=', mean_squared_error(ytest,predls))\n",
    "print('MBE=', mean_absolute_error(ytest,predls))"
   ]
  },
  {
   "cell_type": "markdown",
   "id": "e783579d",
   "metadata": {},
   "source": [
    "# HyperParameter Tuning With GridSearchCV"
   ]
  },
  {
   "cell_type": "code",
   "execution_count": 468,
   "id": "9617c0db",
   "metadata": {},
   "outputs": [],
   "source": [
    "from sklearn.model_selection import GridSearchCV"
   ]
  },
  {
   "cell_type": "code",
   "execution_count": 636,
   "id": "3b4b8e2b",
   "metadata": {},
   "outputs": [
    {
     "data": {
      "text/plain": [
       "Lasso()"
      ]
     },
     "execution_count": 636,
     "metadata": {},
     "output_type": "execute_result"
    }
   ],
   "source": [
    "Lasso()"
   ]
  },
  {
   "cell_type": "code",
   "execution_count": 637,
   "id": "f31ecd60",
   "metadata": {},
   "outputs": [],
   "source": [
    "parameters={'alpha': [0.0001,0.001,0.01,0.1,1],\n",
    "            'fit_intercept':['True', 'False'],\n",
    "            'max_iter':[500,1000,2000,5000],\n",
    "            'selection':['cyclic', 'random']}"
   ]
  },
  {
   "cell_type": "code",
   "execution_count": 638,
   "id": "e8df3035",
   "metadata": {},
   "outputs": [
    {
     "data": {
      "text/plain": [
       "{'alpha': 0.0001,\n",
       " 'fit_intercept': 'False',\n",
       " 'max_iter': 500,\n",
       " 'selection': 'random'}"
      ]
     },
     "execution_count": 638,
     "metadata": {},
     "output_type": "execute_result"
    }
   ],
   "source": [
    "GCV=GridSearchCV(Lasso(), parameters, cv=5, scoring='r2')\n",
    "GCV.fit(xtrain,ytrain)\n",
    "GCV.best_params_"
   ]
  },
  {
   "cell_type": "code",
   "execution_count": 639,
   "id": "3a386825",
   "metadata": {},
   "outputs": [
    {
     "data": {
      "text/plain": [
       "Lasso(alpha=0.0001, fit_intercept='False', max_iter=500, selection='random')"
      ]
     },
     "execution_count": 639,
     "metadata": {},
     "output_type": "execute_result"
    }
   ],
   "source": [
    "GCV.best_estimator_"
   ]
  },
  {
   "cell_type": "code",
   "execution_count": 641,
   "id": "1f53883b",
   "metadata": {},
   "outputs": [
    {
     "data": {
      "text/plain": [
       "0.698652497921334"
      ]
     },
     "execution_count": 641,
     "metadata": {},
     "output_type": "execute_result"
    }
   ],
   "source": [
    "GCV_pred=GCV.best_estimator_.predict(xtest)\n",
    "r2_score(ytest,GCV_pred)"
   ]
  },
  {
   "cell_type": "code",
   "execution_count": 646,
   "id": "e3eea9f2",
   "metadata": {},
   "outputs": [
    {
     "name": "stdout",
     "output_type": "stream",
     "text": [
      "R2= 0.698652562342927\n",
      "MSE= 0.026405870572138678\n",
      "MBE= 0.1315110379156057\n"
     ]
    }
   ],
   "source": [
    "ls=Lasso(alpha= 0.0001,\n",
    "         fit_intercept= 'False',\n",
    "         max_iter= 500,\n",
    "         selection= 'random')\n",
    "ls.fit(xtrain,ytrain)\n",
    "predls= ls.predict(xtest)\n",
    "print('R2=', r2_score(ytest,predls))\n",
    "print('MSE=', mean_squared_error(ytest,predls))\n",
    "print('MBE=', mean_absolute_error(ytest,predls))"
   ]
  },
  {
   "cell_type": "markdown",
   "id": "6743b156",
   "metadata": {},
   "source": [
    "After tuning the Hyper parameters, Lasso gives the accuracy of 70% which indicates the accuracy provided by Regression is true without overfitting."
   ]
  },
  {
   "cell_type": "markdown",
   "id": "8ec72682",
   "metadata": {},
   "source": [
    "# Save The Model"
   ]
  },
  {
   "cell_type": "code",
   "execution_count": 647,
   "id": "409f1cd2",
   "metadata": {},
   "outputs": [],
   "source": [
    "import pickle\n",
    "filename= 'Avocado.pkl'\n",
    "pickle.dump(ls,open(filename, 'wb'))"
   ]
  },
  {
   "cell_type": "markdown",
   "id": "f0e18849",
   "metadata": {},
   "source": [
    "# Compare Original results with the Predicted Results"
   ]
  },
  {
   "cell_type": "code",
   "execution_count": 648,
   "id": "241c4a17",
   "metadata": {},
   "outputs": [
    {
     "data": {
      "text/html": [
       "<div>\n",
       "<style scoped>\n",
       "    .dataframe tbody tr th:only-of-type {\n",
       "        vertical-align: middle;\n",
       "    }\n",
       "\n",
       "    .dataframe tbody tr th {\n",
       "        vertical-align: top;\n",
       "    }\n",
       "\n",
       "    .dataframe thead th {\n",
       "        text-align: right;\n",
       "    }\n",
       "</style>\n",
       "<table border=\"1\" class=\"dataframe\">\n",
       "  <thead>\n",
       "    <tr style=\"text-align: right;\">\n",
       "      <th></th>\n",
       "      <th>original</th>\n",
       "      <th>Predicted</th>\n",
       "    </tr>\n",
       "  </thead>\n",
       "  <tbody>\n",
       "    <tr>\n",
       "      <th>0</th>\n",
       "      <td>1.03</td>\n",
       "      <td>1.186141</td>\n",
       "    </tr>\n",
       "    <tr>\n",
       "      <th>1</th>\n",
       "      <td>1.46</td>\n",
       "      <td>1.529055</td>\n",
       "    </tr>\n",
       "    <tr>\n",
       "      <th>2</th>\n",
       "      <td>1.53</td>\n",
       "      <td>1.690142</td>\n",
       "    </tr>\n",
       "    <tr>\n",
       "      <th>3</th>\n",
       "      <td>0.94</td>\n",
       "      <td>1.154292</td>\n",
       "    </tr>\n",
       "    <tr>\n",
       "      <th>4</th>\n",
       "      <td>1.88</td>\n",
       "      <td>1.628665</td>\n",
       "    </tr>\n",
       "    <tr>\n",
       "      <th>5</th>\n",
       "      <td>1.51</td>\n",
       "      <td>1.500471</td>\n",
       "    </tr>\n",
       "    <tr>\n",
       "      <th>6</th>\n",
       "      <td>0.94</td>\n",
       "      <td>1.332833</td>\n",
       "    </tr>\n",
       "    <tr>\n",
       "      <th>7</th>\n",
       "      <td>1.60</td>\n",
       "      <td>1.656630</td>\n",
       "    </tr>\n",
       "    <tr>\n",
       "      <th>8</th>\n",
       "      <td>1.36</td>\n",
       "      <td>1.312639</td>\n",
       "    </tr>\n",
       "    <tr>\n",
       "      <th>9</th>\n",
       "      <td>1.21</td>\n",
       "      <td>1.111855</td>\n",
       "    </tr>\n",
       "    <tr>\n",
       "      <th>10</th>\n",
       "      <td>1.01</td>\n",
       "      <td>1.052242</td>\n",
       "    </tr>\n",
       "    <tr>\n",
       "      <th>11</th>\n",
       "      <td>1.17</td>\n",
       "      <td>1.229626</td>\n",
       "    </tr>\n",
       "    <tr>\n",
       "      <th>12</th>\n",
       "      <td>1.60</td>\n",
       "      <td>1.690954</td>\n",
       "    </tr>\n",
       "    <tr>\n",
       "      <th>13</th>\n",
       "      <td>1.78</td>\n",
       "      <td>1.614975</td>\n",
       "    </tr>\n",
       "    <tr>\n",
       "      <th>14</th>\n",
       "      <td>1.38</td>\n",
       "      <td>1.532571</td>\n",
       "    </tr>\n",
       "    <tr>\n",
       "      <th>15</th>\n",
       "      <td>1.29</td>\n",
       "      <td>1.258735</td>\n",
       "    </tr>\n",
       "    <tr>\n",
       "      <th>16</th>\n",
       "      <td>1.91</td>\n",
       "      <td>1.647870</td>\n",
       "    </tr>\n",
       "    <tr>\n",
       "      <th>17</th>\n",
       "      <td>1.29</td>\n",
       "      <td>1.249791</td>\n",
       "    </tr>\n",
       "    <tr>\n",
       "      <th>18</th>\n",
       "      <td>1.82</td>\n",
       "      <td>1.606575</td>\n",
       "    </tr>\n",
       "    <tr>\n",
       "      <th>19</th>\n",
       "      <td>1.45</td>\n",
       "      <td>1.332690</td>\n",
       "    </tr>\n",
       "  </tbody>\n",
       "</table>\n",
       "</div>"
      ],
      "text/plain": [
       "    original  Predicted\n",
       "0       1.03   1.186141\n",
       "1       1.46   1.529055\n",
       "2       1.53   1.690142\n",
       "3       0.94   1.154292\n",
       "4       1.88   1.628665\n",
       "5       1.51   1.500471\n",
       "6       0.94   1.332833\n",
       "7       1.60   1.656630\n",
       "8       1.36   1.312639\n",
       "9       1.21   1.111855\n",
       "10      1.01   1.052242\n",
       "11      1.17   1.229626\n",
       "12      1.60   1.690954\n",
       "13      1.78   1.614975\n",
       "14      1.38   1.532571\n",
       "15      1.29   1.258735\n",
       "16      1.91   1.647870\n",
       "17      1.29   1.249791\n",
       "18      1.82   1.606575\n",
       "19      1.45   1.332690"
      ]
     },
     "execution_count": 648,
     "metadata": {},
     "output_type": "execute_result"
    }
   ],
   "source": [
    "x=np.array(ytest)\n",
    "predicted= np.array(ls.predict(xtest))\n",
    "df_con= pd.DataFrame({'original': x, 'Predicted': predicted}, index= range(len(x)))\n",
    "df_con"
   ]
  },
  {
   "cell_type": "markdown",
   "id": "e5fe5414",
   "metadata": {},
   "source": [
    "The predicted values are equal to the original values, So the model works good with the dataset."
   ]
  },
  {
   "cell_type": "markdown",
   "id": "b345c4aa",
   "metadata": {},
   "source": [
    "# Target- Region"
   ]
  },
  {
   "cell_type": "code",
   "execution_count": 688,
   "id": "d51afb72",
   "metadata": {},
   "outputs": [
    {
     "data": {
      "text/html": [
       "<div>\n",
       "<style scoped>\n",
       "    .dataframe tbody tr th:only-of-type {\n",
       "        vertical-align: middle;\n",
       "    }\n",
       "\n",
       "    .dataframe tbody tr th {\n",
       "        vertical-align: top;\n",
       "    }\n",
       "\n",
       "    .dataframe thead th {\n",
       "        text-align: right;\n",
       "    }\n",
       "</style>\n",
       "<table border=\"1\" class=\"dataframe\">\n",
       "  <thead>\n",
       "    <tr style=\"text-align: right;\">\n",
       "      <th></th>\n",
       "      <th>AveragePrice</th>\n",
       "      <th>Total Volume</th>\n",
       "      <th>4046</th>\n",
       "      <th>4225</th>\n",
       "      <th>4770</th>\n",
       "      <th>Total Bags</th>\n",
       "      <th>Small Bags</th>\n",
       "      <th>Large Bags</th>\n",
       "      <th>XLarge Bags</th>\n",
       "      <th>type</th>\n",
       "      <th>year</th>\n",
       "      <th>Month</th>\n",
       "      <th>Day</th>\n",
       "      <th>region</th>\n",
       "    </tr>\n",
       "  </thead>\n",
       "  <tbody>\n",
       "    <tr>\n",
       "      <th>0</th>\n",
       "      <td>-0.086248</td>\n",
       "      <td>-0.086605</td>\n",
       "      <td>-0.658619</td>\n",
       "      <td>0.307313</td>\n",
       "      <td>-0.247250</td>\n",
       "      <td>-0.524004</td>\n",
       "      <td>-0.340627</td>\n",
       "      <td>-0.773351</td>\n",
       "      <td>-0.699849</td>\n",
       "      <td>-0.999836</td>\n",
       "      <td>-1.221879</td>\n",
       "      <td>1.494347</td>\n",
       "      <td>1.229285</td>\n",
       "      <td>0</td>\n",
       "    </tr>\n",
       "    <tr>\n",
       "      <th>1</th>\n",
       "      <td>-0.034022</td>\n",
       "      <td>-0.155746</td>\n",
       "      <td>-0.776870</td>\n",
       "      <td>0.231647</td>\n",
       "      <td>-0.201041</td>\n",
       "      <td>-0.485890</td>\n",
       "      <td>-0.306425</td>\n",
       "      <td>-0.763435</td>\n",
       "      <td>-0.699849</td>\n",
       "      <td>-0.999836</td>\n",
       "      <td>-1.221879</td>\n",
       "      <td>1.494347</td>\n",
       "      <td>0.541005</td>\n",
       "      <td>0</td>\n",
       "    </tr>\n",
       "    <tr>\n",
       "      <th>2</th>\n",
       "      <td>-1.273938</td>\n",
       "      <td>0.179327</td>\n",
       "      <td>-0.731947</td>\n",
       "      <td>0.579503</td>\n",
       "      <td>-0.007072</td>\n",
       "      <td>-0.552018</td>\n",
       "      <td>-0.366303</td>\n",
       "      <td>-0.750820</td>\n",
       "      <td>-0.699849</td>\n",
       "      <td>-0.999836</td>\n",
       "      <td>-1.221879</td>\n",
       "      <td>1.494347</td>\n",
       "      <td>-0.215570</td>\n",
       "      <td>0</td>\n",
       "    </tr>\n",
       "    <tr>\n",
       "      <th>3</th>\n",
       "      <td>-0.793421</td>\n",
       "      <td>0.003876</td>\n",
       "      <td>-0.634200</td>\n",
       "      <td>0.415100</td>\n",
       "      <td>-0.148322</td>\n",
       "      <td>-0.695449</td>\n",
       "      <td>-0.496853</td>\n",
       "      <td>-0.691865</td>\n",
       "      <td>-0.699849</td>\n",
       "      <td>-0.999836</td>\n",
       "      <td>-1.221879</td>\n",
       "      <td>1.494347</td>\n",
       "      <td>-1.091311</td>\n",
       "      <td>0</td>\n",
       "    </tr>\n",
       "    <tr>\n",
       "      <th>4</th>\n",
       "      <td>-0.219440</td>\n",
       "      <td>-0.187640</td>\n",
       "      <td>-0.685293</td>\n",
       "      <td>0.224806</td>\n",
       "      <td>-0.137918</td>\n",
       "      <td>-0.669157</td>\n",
       "      <td>-0.477201</td>\n",
       "      <td>-0.600975</td>\n",
       "      <td>-0.699849</td>\n",
       "      <td>-0.999836</td>\n",
       "      <td>-1.221879</td>\n",
       "      <td>1.278438</td>\n",
       "      <td>1.416727</td>\n",
       "      <td>0</td>\n",
       "    </tr>\n",
       "    <tr>\n",
       "      <th>...</th>\n",
       "      <td>...</td>\n",
       "      <td>...</td>\n",
       "      <td>...</td>\n",
       "      <td>...</td>\n",
       "      <td>...</td>\n",
       "      <td>...</td>\n",
       "      <td>...</td>\n",
       "      <td>...</td>\n",
       "      <td>...</td>\n",
       "      <td>...</td>\n",
       "      <td>...</td>\n",
       "      <td>...</td>\n",
       "      <td>...</td>\n",
       "      <td>...</td>\n",
       "    </tr>\n",
       "    <tr>\n",
       "      <th>18244</th>\n",
       "      <td>0.640729</td>\n",
       "      <td>-0.674587</td>\n",
       "      <td>-0.467366</td>\n",
       "      <td>-0.919470</td>\n",
       "      <td>-1.238310</td>\n",
       "      <td>-0.334466</td>\n",
       "      <td>-0.178839</td>\n",
       "      <td>-0.410859</td>\n",
       "      <td>-0.699849</td>\n",
       "      <td>1.000164</td>\n",
       "      <td>1.968564</td>\n",
       "      <td>-1.220706</td>\n",
       "      <td>-1.382073</td>\n",
       "      <td>53</td>\n",
       "    </tr>\n",
       "    <tr>\n",
       "      <th>18245</th>\n",
       "      <td>0.816307</td>\n",
       "      <td>-0.767550</td>\n",
       "      <td>-0.619883</td>\n",
       "      <td>-0.665372</td>\n",
       "      <td>-1.238310</td>\n",
       "      <td>-0.496897</td>\n",
       "      <td>-0.325977</td>\n",
       "      <td>-0.481465</td>\n",
       "      <td>-0.699849</td>\n",
       "      <td>1.000164</td>\n",
       "      <td>1.968564</td>\n",
       "      <td>-1.642047</td>\n",
       "      <td>1.323455</td>\n",
       "      <td>53</td>\n",
       "    </tr>\n",
       "    <tr>\n",
       "      <th>18246</th>\n",
       "      <td>1.147790</td>\n",
       "      <td>-0.771505</td>\n",
       "      <td>-0.619831</td>\n",
       "      <td>-0.772496</td>\n",
       "      <td>0.401546</td>\n",
       "      <td>-0.490952</td>\n",
       "      <td>-0.308728</td>\n",
       "      <td>-0.943486</td>\n",
       "      <td>-0.699849</td>\n",
       "      <td>1.000164</td>\n",
       "      <td>1.968564</td>\n",
       "      <td>-1.642047</td>\n",
       "      <td>0.642842</td>\n",
       "      <td>53</td>\n",
       "    </tr>\n",
       "    <tr>\n",
       "      <th>18247</th>\n",
       "      <td>1.265876</td>\n",
       "      <td>-0.698077</td>\n",
       "      <td>-0.550282</td>\n",
       "      <td>-0.710543</td>\n",
       "      <td>0.401246</td>\n",
       "      <td>-0.424252</td>\n",
       "      <td>-0.248932</td>\n",
       "      <td>-0.908510</td>\n",
       "      <td>-0.699849</td>\n",
       "      <td>1.000164</td>\n",
       "      <td>1.968564</td>\n",
       "      <td>-1.642047</td>\n",
       "      <td>-0.101959</td>\n",
       "      <td>53</td>\n",
       "    </tr>\n",
       "    <tr>\n",
       "      <th>18248</th>\n",
       "      <td>0.618287</td>\n",
       "      <td>-0.663809</td>\n",
       "      <td>-0.367908</td>\n",
       "      <td>-0.785173</td>\n",
       "      <td>0.122919</td>\n",
       "      <td>-0.384961</td>\n",
       "      <td>-0.212590</td>\n",
       "      <td>-1.042250</td>\n",
       "      <td>-0.699849</td>\n",
       "      <td>1.000164</td>\n",
       "      <td>1.968564</td>\n",
       "      <td>-1.642047</td>\n",
       "      <td>-0.954854</td>\n",
       "      <td>53</td>\n",
       "    </tr>\n",
       "  </tbody>\n",
       "</table>\n",
       "<p>18141 rows × 14 columns</p>\n",
       "</div>"
      ],
      "text/plain": [
       "       AveragePrice  Total Volume      4046      4225      4770  Total Bags  \\\n",
       "0         -0.086248     -0.086605 -0.658619  0.307313 -0.247250   -0.524004   \n",
       "1         -0.034022     -0.155746 -0.776870  0.231647 -0.201041   -0.485890   \n",
       "2         -1.273938      0.179327 -0.731947  0.579503 -0.007072   -0.552018   \n",
       "3         -0.793421      0.003876 -0.634200  0.415100 -0.148322   -0.695449   \n",
       "4         -0.219440     -0.187640 -0.685293  0.224806 -0.137918   -0.669157   \n",
       "...             ...           ...       ...       ...       ...         ...   \n",
       "18244      0.640729     -0.674587 -0.467366 -0.919470 -1.238310   -0.334466   \n",
       "18245      0.816307     -0.767550 -0.619883 -0.665372 -1.238310   -0.496897   \n",
       "18246      1.147790     -0.771505 -0.619831 -0.772496  0.401546   -0.490952   \n",
       "18247      1.265876     -0.698077 -0.550282 -0.710543  0.401246   -0.424252   \n",
       "18248      0.618287     -0.663809 -0.367908 -0.785173  0.122919   -0.384961   \n",
       "\n",
       "       Small Bags  Large Bags  XLarge Bags      type      year     Month  \\\n",
       "0       -0.340627   -0.773351    -0.699849 -0.999836 -1.221879  1.494347   \n",
       "1       -0.306425   -0.763435    -0.699849 -0.999836 -1.221879  1.494347   \n",
       "2       -0.366303   -0.750820    -0.699849 -0.999836 -1.221879  1.494347   \n",
       "3       -0.496853   -0.691865    -0.699849 -0.999836 -1.221879  1.494347   \n",
       "4       -0.477201   -0.600975    -0.699849 -0.999836 -1.221879  1.278438   \n",
       "...           ...         ...          ...       ...       ...       ...   \n",
       "18244   -0.178839   -0.410859    -0.699849  1.000164  1.968564 -1.220706   \n",
       "18245   -0.325977   -0.481465    -0.699849  1.000164  1.968564 -1.642047   \n",
       "18246   -0.308728   -0.943486    -0.699849  1.000164  1.968564 -1.642047   \n",
       "18247   -0.248932   -0.908510    -0.699849  1.000164  1.968564 -1.642047   \n",
       "18248   -0.212590   -1.042250    -0.699849  1.000164  1.968564 -1.642047   \n",
       "\n",
       "            Day  region  \n",
       "0      1.229285       0  \n",
       "1      0.541005       0  \n",
       "2     -0.215570       0  \n",
       "3     -1.091311       0  \n",
       "4      1.416727       0  \n",
       "...         ...     ...  \n",
       "18244 -1.382073      53  \n",
       "18245  1.323455      53  \n",
       "18246  0.642842      53  \n",
       "18247 -0.101959      53  \n",
       "18248 -0.954854      53  \n",
       "\n",
       "[18141 rows x 14 columns]"
      ]
     },
     "execution_count": 688,
     "metadata": {},
     "output_type": "execute_result"
    }
   ],
   "source": [
    "df2_new"
   ]
  },
  {
   "cell_type": "code",
   "execution_count": 689,
   "id": "2f444a78",
   "metadata": {},
   "outputs": [],
   "source": [
    "x= df2_new.iloc[:,0:-1]\n",
    "y=df2_new.iloc[:,-1]\n"
   ]
  },
  {
   "cell_type": "code",
   "execution_count": 690,
   "id": "55212bab",
   "metadata": {},
   "outputs": [
    {
     "data": {
      "text/plain": [
       "0         0\n",
       "1         0\n",
       "2         0\n",
       "3         0\n",
       "4         0\n",
       "         ..\n",
       "18244    53\n",
       "18245    53\n",
       "18246    53\n",
       "18247    53\n",
       "18248    53\n",
       "Name: region, Length: 18141, dtype: int32"
      ]
     },
     "execution_count": 690,
     "metadata": {},
     "output_type": "execute_result"
    }
   ],
   "source": [
    "y"
   ]
  },
  {
   "cell_type": "markdown",
   "id": "4260fae9",
   "metadata": {},
   "source": [
    "# Check the best Random State"
   ]
  },
  {
   "cell_type": "code",
   "execution_count": 692,
   "id": "12c8c941",
   "metadata": {},
   "outputs": [
    {
     "name": "stdout",
     "output_type": "stream",
     "text": [
      "Best Accuracy_score is 1.0 on Random_state 4\n"
     ]
    }
   ],
   "source": [
    "maxAcc=0\n",
    "maxRS=0\n",
    "\n",
    "for i in range(1,100):\n",
    "    xtrain,xtest,ytrain,ytest= train_test_split(x,y,test_size=20,random_state=i)\n",
    "    dtc=DecisionTreeClassifier()\n",
    "    dtc.fit(xtrain,ytrain)\n",
    "    preddtc= dtc.predict(xtest)\n",
    "    acc= accuracy_score(ytest,preddtc)\n",
    "    if acc>maxAcc:\n",
    "        maxAcc=acc\n",
    "        maxRS=i\n",
    "print(\"Best Accuracy_score is\", maxAcc, 'on Random_state',maxRS)"
   ]
  },
  {
   "cell_type": "markdown",
   "id": "d582cdc2",
   "metadata": {},
   "source": [
    "CV Score "
   ]
  },
  {
   "cell_type": "code",
   "execution_count": 693,
   "id": "f1138ac6",
   "metadata": {},
   "outputs": [],
   "source": [
    "pred_tr= dtc.predict(xtrain)\n",
    "pred_ts= dtc.predict(xtest)"
   ]
  },
  {
   "cell_type": "code",
   "execution_count": 694,
   "id": "fb20a05b",
   "metadata": {},
   "outputs": [],
   "source": [
    "train_accuracy= accuracy_score(ytrain,pred_tr)\n",
    "test_accuracy= accuracy_score(ytest,pred_ts)"
   ]
  },
  {
   "cell_type": "code",
   "execution_count": 695,
   "id": "5ec44dd2",
   "metadata": {},
   "outputs": [
    {
     "name": "stdout",
     "output_type": "stream",
     "text": [
      "At cross fold 2 the cv score is 0.04883828992328923 and accuracy score for training is 1.0 and the accuracy for testing is 0.8\n",
      "\n",
      "\n",
      "At cross fold 3 the cv score is 0.4241772779890855 and accuracy score for training is 1.0 and the accuracy for testing is 0.8\n",
      "\n",
      "\n",
      "At cross fold 4 the cv score is 0.47533023816329584 and accuracy score for training is 1.0 and the accuracy for testing is 0.8\n",
      "\n",
      "\n",
      "At cross fold 5 the cv score is 0.5511858868121948 and accuracy score for training is 1.0 and the accuracy for testing is 0.8\n",
      "\n",
      "\n",
      "At cross fold 6 the cv score is 0.5400376216204863 and accuracy score for training is 1.0 and the accuracy for testing is 0.8\n",
      "\n",
      "\n",
      "At cross fold 7 the cv score is 0.6046425116925567 and accuracy score for training is 1.0 and the accuracy for testing is 0.8\n",
      "\n",
      "\n",
      "At cross fold 8 the cv score is 0.6177104508829623 and accuracy score for training is 1.0 and the accuracy for testing is 0.8\n",
      "\n",
      "\n",
      "At cross fold 9 the cv score is 0.6233283442960862 and accuracy score for training is 1.0 and the accuracy for testing is 0.8\n",
      "\n",
      "\n"
     ]
    }
   ],
   "source": [
    "from sklearn.model_selection import cross_val_score\n",
    "for j in range(2,10):\n",
    "    cv_score= cross_val_score(dtc,x,y,cv=j)\n",
    "    cv_mean=cv_score.mean()\n",
    "    print(f\"At cross fold {j} the cv score is {cv_mean} and accuracy score for training is {train_accuracy} and the accuracy for testing is {test_accuracy}\")\n",
    "    print(\"\\n\")"
   ]
  },
  {
   "cell_type": "code",
   "execution_count": 696,
   "id": "cea7bb4c",
   "metadata": {},
   "outputs": [],
   "source": [
    "xtrain,xtest,ytrain,ytest= train_test_split(x,y,test_size=20,random_state=4)"
   ]
  },
  {
   "cell_type": "markdown",
   "id": "e2634cac",
   "metadata": {},
   "source": [
    "# DecisionTreeClassifier"
   ]
  },
  {
   "cell_type": "code",
   "execution_count": 697,
   "id": "83f45567",
   "metadata": {},
   "outputs": [
    {
     "name": "stdout",
     "output_type": "stream",
     "text": [
      "acc= 0.95\n",
      "[[1 0 0 0 0 0 0 0 0 0 0 0 0 0 0 0 0 0 0]\n",
      " [0 1 0 0 0 0 0 0 0 0 0 0 0 0 0 0 0 0 0]\n",
      " [0 0 1 0 0 0 0 0 0 0 0 0 0 0 0 0 0 0 0]\n",
      " [0 0 0 2 0 0 0 0 0 0 0 0 0 0 0 0 0 0 0]\n",
      " [0 0 0 0 1 0 0 0 0 0 0 0 0 0 0 0 0 0 0]\n",
      " [0 0 0 0 0 2 0 0 0 0 0 0 0 0 0 0 0 0 0]\n",
      " [0 0 0 0 0 0 1 0 0 0 0 0 0 0 0 0 0 0 0]\n",
      " [0 0 0 0 0 0 0 1 0 0 0 0 0 0 0 0 0 0 0]\n",
      " [0 0 0 0 0 0 0 0 1 0 0 0 0 0 0 0 0 0 0]\n",
      " [0 0 0 0 0 0 0 0 0 1 0 0 0 0 0 0 0 0 0]\n",
      " [0 0 0 0 0 0 0 0 0 0 1 0 0 0 0 0 0 0 0]\n",
      " [0 0 0 0 0 0 0 0 0 0 0 1 0 0 0 0 0 0 0]\n",
      " [0 0 0 0 0 0 0 0 0 0 0 0 0 0 0 0 1 0 0]\n",
      " [0 0 0 0 0 0 0 0 0 0 0 0 0 1 0 0 0 0 0]\n",
      " [0 0 0 0 0 0 0 0 0 0 0 0 0 0 1 0 0 0 0]\n",
      " [0 0 0 0 0 0 0 0 0 0 0 0 0 0 0 1 0 0 0]\n",
      " [0 0 0 0 0 0 0 0 0 0 0 0 0 0 0 0 0 0 0]\n",
      " [0 0 0 0 0 0 0 0 0 0 0 0 0 0 0 0 0 1 0]\n",
      " [0 0 0 0 0 0 0 0 0 0 0 0 0 0 0 0 0 0 1]]\n",
      "              precision    recall  f1-score   support\n",
      "\n",
      "           3       1.00      1.00      1.00         1\n",
      "           6       1.00      1.00      1.00         1\n",
      "           7       1.00      1.00      1.00         1\n",
      "          12       1.00      1.00      1.00         2\n",
      "          14       1.00      1.00      1.00         1\n",
      "          16       1.00      1.00      1.00         2\n",
      "          17       1.00      1.00      1.00         1\n",
      "          18       1.00      1.00      1.00         1\n",
      "          20       1.00      1.00      1.00         1\n",
      "          21       1.00      1.00      1.00         1\n",
      "          23       1.00      1.00      1.00         1\n",
      "          38       1.00      1.00      1.00         1\n",
      "          39       0.00      0.00      0.00         1\n",
      "          40       1.00      1.00      1.00         1\n",
      "          41       1.00      1.00      1.00         1\n",
      "          46       1.00      1.00      1.00         1\n",
      "          47       0.00      0.00      0.00         0\n",
      "          48       1.00      1.00      1.00         1\n",
      "          52       1.00      1.00      1.00         1\n",
      "\n",
      "    accuracy                           0.95        20\n",
      "   macro avg       0.89      0.89      0.89        20\n",
      "weighted avg       0.95      0.95      0.95        20\n",
      "\n"
     ]
    }
   ],
   "source": [
    "dtc=DecisionTreeClassifier()\n",
    "dtc.fit(xtrain,ytrain)\n",
    "preddtc= dtc.predict(xtest)\n",
    "print('acc=', accuracy_score(ytest,preddtc))\n",
    "print(confusion_matrix(ytest,preddtc))\n",
    "print(classification_report(ytest,preddtc))"
   ]
  },
  {
   "cell_type": "code",
   "execution_count": 698,
   "id": "f6bb6d11",
   "metadata": {},
   "outputs": [
    {
     "name": "stdout",
     "output_type": "stream",
     "text": [
      "Cross Validation Score of DecisionTreeClassifier is: 0.6168223826153933\n"
     ]
    }
   ],
   "source": [
    "cr_dtc=cross_val_score(dtc,x,y, cv=9)\n",
    "print('Cross Validation Score of DecisionTreeClassifier is:', cr_dtc.mean())"
   ]
  },
  {
   "cell_type": "markdown",
   "id": "a501cd70",
   "metadata": {},
   "source": [
    "# RandomForestClassifier"
   ]
  },
  {
   "cell_type": "code",
   "execution_count": 699,
   "id": "348be893",
   "metadata": {},
   "outputs": [
    {
     "name": "stdout",
     "output_type": "stream",
     "text": [
      "acc= 0.95\n",
      "[[0 0 0 0 0 0 0 0 0 0 1 0 0 0 0 0 0 0]\n",
      " [0 1 0 0 0 0 0 0 0 0 0 0 0 0 0 0 0 0]\n",
      " [0 0 1 0 0 0 0 0 0 0 0 0 0 0 0 0 0 0]\n",
      " [0 0 0 2 0 0 0 0 0 0 0 0 0 0 0 0 0 0]\n",
      " [0 0 0 0 1 0 0 0 0 0 0 0 0 0 0 0 0 0]\n",
      " [0 0 0 0 0 2 0 0 0 0 0 0 0 0 0 0 0 0]\n",
      " [0 0 0 0 0 0 1 0 0 0 0 0 0 0 0 0 0 0]\n",
      " [0 0 0 0 0 0 0 1 0 0 0 0 0 0 0 0 0 0]\n",
      " [0 0 0 0 0 0 0 0 1 0 0 0 0 0 0 0 0 0]\n",
      " [0 0 0 0 0 0 0 0 0 1 0 0 0 0 0 0 0 0]\n",
      " [0 0 0 0 0 0 0 0 0 0 1 0 0 0 0 0 0 0]\n",
      " [0 0 0 0 0 0 0 0 0 0 0 1 0 0 0 0 0 0]\n",
      " [0 0 0 0 0 0 0 0 0 0 0 0 1 0 0 0 0 0]\n",
      " [0 0 0 0 0 0 0 0 0 0 0 0 0 1 0 0 0 0]\n",
      " [0 0 0 0 0 0 0 0 0 0 0 0 0 0 1 0 0 0]\n",
      " [0 0 0 0 0 0 0 0 0 0 0 0 0 0 0 1 0 0]\n",
      " [0 0 0 0 0 0 0 0 0 0 0 0 0 0 0 0 1 0]\n",
      " [0 0 0 0 0 0 0 0 0 0 0 0 0 0 0 0 0 1]]\n",
      "              precision    recall  f1-score   support\n",
      "\n",
      "           3       0.00      0.00      0.00         1\n",
      "           6       1.00      1.00      1.00         1\n",
      "           7       1.00      1.00      1.00         1\n",
      "          12       1.00      1.00      1.00         2\n",
      "          14       1.00      1.00      1.00         1\n",
      "          16       1.00      1.00      1.00         2\n",
      "          17       1.00      1.00      1.00         1\n",
      "          18       1.00      1.00      1.00         1\n",
      "          20       1.00      1.00      1.00         1\n",
      "          21       1.00      1.00      1.00         1\n",
      "          23       0.50      1.00      0.67         1\n",
      "          38       1.00      1.00      1.00         1\n",
      "          39       1.00      1.00      1.00         1\n",
      "          40       1.00      1.00      1.00         1\n",
      "          41       1.00      1.00      1.00         1\n",
      "          46       1.00      1.00      1.00         1\n",
      "          48       1.00      1.00      1.00         1\n",
      "          52       1.00      1.00      1.00         1\n",
      "\n",
      "    accuracy                           0.95        20\n",
      "   macro avg       0.92      0.94      0.93        20\n",
      "weighted avg       0.93      0.95      0.93        20\n",
      "\n"
     ]
    }
   ],
   "source": [
    "rf=RandomForestClassifier()\n",
    "rf.fit(xtrain,ytrain)\n",
    "predrf= rf.predict(xtest)\n",
    "print('acc=', accuracy_score(ytest,predrf))\n",
    "print(confusion_matrix(ytest,predrf))\n",
    "print(classification_report(ytest,predrf))"
   ]
  },
  {
   "cell_type": "code",
   "execution_count": 700,
   "id": "469364b4",
   "metadata": {},
   "outputs": [
    {
     "name": "stdout",
     "output_type": "stream",
     "text": [
      "Cross Validation Score of RandomForestClassifier is: 0.7679718031868571\n"
     ]
    }
   ],
   "source": [
    "cr_rf=cross_val_score(rf,x,y, cv=9)\n",
    "print('Cross Validation Score of RandomForestClassifier is:', cr_rf.mean())"
   ]
  },
  {
   "cell_type": "markdown",
   "id": "8f90212a",
   "metadata": {},
   "source": [
    "# KNeighborsClassifier"
   ]
  },
  {
   "cell_type": "code",
   "execution_count": 701,
   "id": "3c2ed104",
   "metadata": {},
   "outputs": [
    {
     "name": "stdout",
     "output_type": "stream",
     "text": [
      "acc= 0.8\n",
      "[[0 0 0 0 0 0 0 0 0 0 0 0 0 0 1 0 0 0 0 0]\n",
      " [0 1 0 0 0 0 0 0 0 0 0 0 0 0 0 0 0 0 0 0]\n",
      " [0 0 0 0 0 0 0 0 0 0 0 0 1 0 0 0 0 0 0 0]\n",
      " [0 0 0 2 0 0 0 0 0 0 0 0 0 0 0 0 0 0 0 0]\n",
      " [0 0 0 0 1 0 0 0 0 0 0 0 0 0 0 0 0 0 0 0]\n",
      " [0 0 0 0 0 1 0 0 0 0 0 0 1 0 0 0 0 0 0 0]\n",
      " [0 0 0 0 0 0 1 0 0 0 0 0 0 0 0 0 0 0 0 0]\n",
      " [0 0 0 0 0 0 0 1 0 0 0 0 0 0 0 0 0 0 0 0]\n",
      " [0 0 0 0 0 0 0 0 1 0 0 0 0 0 0 0 0 0 0 0]\n",
      " [0 0 0 0 0 0 0 0 0 1 0 0 0 0 0 0 0 0 0 0]\n",
      " [0 0 0 0 0 0 0 0 0 0 1 0 0 0 0 0 0 0 0 0]\n",
      " [0 0 0 0 0 0 0 0 0 0 0 0 0 0 0 0 0 0 0 0]\n",
      " [0 0 0 0 0 0 0 0 0 0 0 0 0 0 0 0 0 0 0 0]\n",
      " [0 0 0 0 0 0 0 0 0 0 0 0 0 1 0 0 0 0 0 0]\n",
      " [0 0 0 0 0 0 0 0 0 0 0 0 0 0 1 0 0 0 0 0]\n",
      " [0 0 0 0 0 0 0 0 0 0 0 0 0 0 0 1 0 0 0 0]\n",
      " [0 0 0 0 0 0 0 0 0 0 0 0 0 0 0 0 1 0 0 0]\n",
      " [0 0 0 0 0 0 0 0 0 0 0 0 0 0 0 0 0 1 0 0]\n",
      " [0 0 0 0 0 0 0 0 0 0 0 1 0 0 0 0 0 0 0 0]\n",
      " [0 0 0 0 0 0 0 0 0 0 0 0 0 0 0 0 0 0 0 1]]\n",
      "              precision    recall  f1-score   support\n",
      "\n",
      "           3       0.00      0.00      0.00         1\n",
      "           6       1.00      1.00      1.00         1\n",
      "           7       0.00      0.00      0.00         1\n",
      "          12       1.00      1.00      1.00         2\n",
      "          14       1.00      1.00      1.00         1\n",
      "          16       1.00      0.50      0.67         2\n",
      "          17       1.00      1.00      1.00         1\n",
      "          18       1.00      1.00      1.00         1\n",
      "          20       1.00      1.00      1.00         1\n",
      "          21       1.00      1.00      1.00         1\n",
      "          23       1.00      1.00      1.00         1\n",
      "          27       0.00      0.00      0.00         0\n",
      "          37       0.00      0.00      0.00         0\n",
      "          38       1.00      1.00      1.00         1\n",
      "          39       0.50      1.00      0.67         1\n",
      "          40       1.00      1.00      1.00         1\n",
      "          41       1.00      1.00      1.00         1\n",
      "          46       1.00      1.00      1.00         1\n",
      "          48       0.00      0.00      0.00         1\n",
      "          52       1.00      1.00      1.00         1\n",
      "\n",
      "    accuracy                           0.80        20\n",
      "   macro avg       0.72      0.72      0.72        20\n",
      "weighted avg       0.82      0.80      0.80        20\n",
      "\n"
     ]
    }
   ],
   "source": [
    "knn=KNeighborsClassifier()\n",
    "knn.fit(xtrain,ytrain)\n",
    "predknn= knn.predict(xtest)\n",
    "print('acc=', accuracy_score(ytest,predknn))\n",
    "print(confusion_matrix(ytest,predknn))\n",
    "print(classification_report(ytest,predknn))"
   ]
  },
  {
   "cell_type": "code",
   "execution_count": 702,
   "id": "23bebd67",
   "metadata": {},
   "outputs": [
    {
     "name": "stdout",
     "output_type": "stream",
     "text": [
      "Cross Validation Score ofKneighborsClassifier is: 0.4951128496155378\n"
     ]
    }
   ],
   "source": [
    "cr_knn=cross_val_score(knn,x,y, cv=9)\n",
    "print('Cross Validation Score ofKneighborsClassifier is:', cr_knn.mean())"
   ]
  },
  {
   "cell_type": "markdown",
   "id": "33a96d95",
   "metadata": {},
   "source": [
    "# SVC"
   ]
  },
  {
   "cell_type": "code",
   "execution_count": 703,
   "id": "4eb137db",
   "metadata": {},
   "outputs": [
    {
     "name": "stdout",
     "output_type": "stream",
     "text": [
      "acc= 0.8\n",
      "[[0 0 0 0 0 0 0 0 0 0 1 0 0 0 0 0 0 0 0 0]\n",
      " [0 1 0 0 0 0 0 0 0 0 0 0 0 0 0 0 0 0 0 0]\n",
      " [0 0 1 0 0 0 0 0 0 0 0 0 0 0 0 0 0 0 0 0]\n",
      " [0 0 0 2 0 0 0 0 0 0 0 0 0 0 0 0 0 0 0 0]\n",
      " [0 0 0 0 1 0 0 0 0 0 0 0 0 0 0 0 0 0 0 0]\n",
      " [0 0 1 0 0 1 0 0 0 0 0 0 0 0 0 0 0 0 0 0]\n",
      " [0 0 0 0 0 0 1 0 0 0 0 0 0 0 0 0 0 0 0 0]\n",
      " [0 0 0 0 0 0 0 1 0 0 0 0 0 0 0 0 0 0 0 0]\n",
      " [0 0 0 0 0 0 0 0 1 0 0 0 0 0 0 0 0 0 0 0]\n",
      " [0 0 0 0 0 0 0 0 0 1 0 0 0 0 0 0 0 0 0 0]\n",
      " [0 0 0 0 0 0 0 0 0 0 1 0 0 0 0 0 0 0 0 0]\n",
      " [0 0 0 0 0 0 0 0 0 0 0 0 0 0 0 0 0 0 0 0]\n",
      " [0 0 0 0 0 0 0 0 0 0 0 0 0 0 0 0 1 0 0 0]\n",
      " [0 0 0 0 0 0 0 0 0 0 0 0 0 1 0 0 0 0 0 0]\n",
      " [0 0 0 0 0 0 0 0 0 0 0 0 0 0 1 0 0 0 0 0]\n",
      " [0 0 0 0 0 0 0 0 0 0 0 0 0 0 0 1 0 0 0 0]\n",
      " [0 0 0 0 0 0 0 0 0 0 0 0 0 0 0 0 0 0 0 0]\n",
      " [0 0 0 0 0 0 0 0 0 0 0 0 0 0 0 0 0 1 0 0]\n",
      " [0 0 0 0 0 0 0 0 0 0 0 1 0 0 0 0 0 0 0 0]\n",
      " [0 0 0 0 0 0 0 0 0 0 0 0 0 0 0 0 0 0 0 1]]\n",
      "              precision    recall  f1-score   support\n",
      "\n",
      "           3       0.00      0.00      0.00         1\n",
      "           6       1.00      1.00      1.00         1\n",
      "           7       0.50      1.00      0.67         1\n",
      "          12       1.00      1.00      1.00         2\n",
      "          14       1.00      1.00      1.00         1\n",
      "          16       1.00      0.50      0.67         2\n",
      "          17       1.00      1.00      1.00         1\n",
      "          18       1.00      1.00      1.00         1\n",
      "          20       1.00      1.00      1.00         1\n",
      "          21       1.00      1.00      1.00         1\n",
      "          23       0.50      1.00      0.67         1\n",
      "          27       0.00      0.00      0.00         0\n",
      "          38       0.00      0.00      0.00         1\n",
      "          39       1.00      1.00      1.00         1\n",
      "          40       1.00      1.00      1.00         1\n",
      "          41       1.00      1.00      1.00         1\n",
      "          44       0.00      0.00      0.00         0\n",
      "          46       1.00      1.00      1.00         1\n",
      "          48       0.00      0.00      0.00         1\n",
      "          52       1.00      1.00      1.00         1\n",
      "\n",
      "    accuracy                           0.80        20\n",
      "   macro avg       0.70      0.72      0.70        20\n",
      "weighted avg       0.80      0.80      0.78        20\n",
      "\n"
     ]
    }
   ],
   "source": [
    "svc=SVC()\n",
    "svc.fit(xtrain,ytrain)\n",
    "predsvc= svc.predict(xtest)\n",
    "print('acc=', accuracy_score(ytest,predsvc))\n",
    "print(confusion_matrix(ytest,predsvc))\n",
    "print(classification_report(ytest,predsvc))"
   ]
  },
  {
   "cell_type": "code",
   "execution_count": 704,
   "id": "9eccf40f",
   "metadata": {},
   "outputs": [
    {
     "name": "stdout",
     "output_type": "stream",
     "text": [
      "Cross Validation Score of SVC is: 0.6819242585371619\n"
     ]
    }
   ],
   "source": [
    "cr_svc=cross_val_score(svc,x,y, cv=9)\n",
    "print('Cross Validation Score of SVC is:', cr_svc.mean())"
   ]
  },
  {
   "cell_type": "markdown",
   "id": "2f1ab6f2",
   "metadata": {},
   "source": [
    "Among all the models, SVC provides the accuracy which is less different from CV score. So we shall fine tune the model to improve it further without being overfitted."
   ]
  },
  {
   "cell_type": "markdown",
   "id": "c09deabf",
   "metadata": {},
   "source": [
    "# Hyper Parameter Tuning with GridSearchCV"
   ]
  },
  {
   "cell_type": "code",
   "execution_count": 705,
   "id": "76b44b4a",
   "metadata": {},
   "outputs": [
    {
     "data": {
      "text/plain": [
       "SVC()"
      ]
     },
     "execution_count": 705,
     "metadata": {},
     "output_type": "execute_result"
    }
   ],
   "source": [
    "SVC()"
   ]
  },
  {
   "cell_type": "code",
   "execution_count": 710,
   "id": "712681f2",
   "metadata": {},
   "outputs": [],
   "source": [
    "parameters={'cache_size': [100,200,300,400]}\n",
    "           "
   ]
  },
  {
   "cell_type": "code",
   "execution_count": 711,
   "id": "cd406351",
   "metadata": {},
   "outputs": [
    {
     "data": {
      "text/plain": [
       "{'cache_size': 100}"
      ]
     },
     "execution_count": 711,
     "metadata": {},
     "output_type": "execute_result"
    }
   ],
   "source": [
    "GCV=GridSearchCV(SVC(), parameters, cv=9, scoring='accuracy')\n",
    "GCV.fit(xtrain,ytrain)\n",
    "GCV.best_params_"
   ]
  },
  {
   "cell_type": "code",
   "execution_count": null,
   "id": "b7956728",
   "metadata": {},
   "outputs": [],
   "source": [
    "parameters={'kernel': ['linear', 'poly', 'rbf'],\n",
    "            'gamma': ['scale', 'auto']}"
   ]
  },
  {
   "cell_type": "code",
   "execution_count": 707,
   "id": "ffc293b1",
   "metadata": {
    "scrolled": false
   },
   "outputs": [
    {
     "data": {
      "text/plain": [
       "{'gamma': 'scale', 'kernel': 'rbf'}"
      ]
     },
     "execution_count": 707,
     "metadata": {},
     "output_type": "execute_result"
    }
   ],
   "source": [
    "GCV=GridSearchCV(SVC(), parameters, cv=9, scoring='accuracy')\n",
    "GCV.fit(xtrain,ytrain)\n",
    "GCV.best_params_"
   ]
  },
  {
   "cell_type": "code",
   "execution_count": 712,
   "id": "fb4b21a1",
   "metadata": {},
   "outputs": [
    {
     "data": {
      "text/plain": [
       "SVC(cache_size=100)"
      ]
     },
     "execution_count": 712,
     "metadata": {},
     "output_type": "execute_result"
    }
   ],
   "source": [
    "GCV.best_estimator_"
   ]
  },
  {
   "cell_type": "code",
   "execution_count": 713,
   "id": "b2157a9e",
   "metadata": {},
   "outputs": [
    {
     "data": {
      "text/plain": [
       "0.8"
      ]
     },
     "execution_count": 713,
     "metadata": {},
     "output_type": "execute_result"
    }
   ],
   "source": [
    "GCV_pred=GCV.best_estimator_.predict(xtest)\n",
    "accuracy_score(ytest,GCV_pred)"
   ]
  },
  {
   "cell_type": "code",
   "execution_count": 715,
   "id": "9b67f775",
   "metadata": {},
   "outputs": [
    {
     "name": "stdout",
     "output_type": "stream",
     "text": [
      "acc= 0.8\n",
      "[[0 0 0 0 0 0 0 0 0 0 1 0 0 0 0 0 0 0 0 0]\n",
      " [0 1 0 0 0 0 0 0 0 0 0 0 0 0 0 0 0 0 0 0]\n",
      " [0 0 1 0 0 0 0 0 0 0 0 0 0 0 0 0 0 0 0 0]\n",
      " [0 0 0 2 0 0 0 0 0 0 0 0 0 0 0 0 0 0 0 0]\n",
      " [0 0 0 0 1 0 0 0 0 0 0 0 0 0 0 0 0 0 0 0]\n",
      " [0 0 1 0 0 1 0 0 0 0 0 0 0 0 0 0 0 0 0 0]\n",
      " [0 0 0 0 0 0 1 0 0 0 0 0 0 0 0 0 0 0 0 0]\n",
      " [0 0 0 0 0 0 0 1 0 0 0 0 0 0 0 0 0 0 0 0]\n",
      " [0 0 0 0 0 0 0 0 1 0 0 0 0 0 0 0 0 0 0 0]\n",
      " [0 0 0 0 0 0 0 0 0 1 0 0 0 0 0 0 0 0 0 0]\n",
      " [0 0 0 0 0 0 0 0 0 0 1 0 0 0 0 0 0 0 0 0]\n",
      " [0 0 0 0 0 0 0 0 0 0 0 0 0 0 0 0 0 0 0 0]\n",
      " [0 0 0 0 0 0 0 0 0 0 0 0 0 0 0 0 1 0 0 0]\n",
      " [0 0 0 0 0 0 0 0 0 0 0 0 0 1 0 0 0 0 0 0]\n",
      " [0 0 0 0 0 0 0 0 0 0 0 0 0 0 1 0 0 0 0 0]\n",
      " [0 0 0 0 0 0 0 0 0 0 0 0 0 0 0 1 0 0 0 0]\n",
      " [0 0 0 0 0 0 0 0 0 0 0 0 0 0 0 0 0 0 0 0]\n",
      " [0 0 0 0 0 0 0 0 0 0 0 0 0 0 0 0 0 1 0 0]\n",
      " [0 0 0 0 0 0 0 0 0 0 0 1 0 0 0 0 0 0 0 0]\n",
      " [0 0 0 0 0 0 0 0 0 0 0 0 0 0 0 0 0 0 0 1]]\n",
      "              precision    recall  f1-score   support\n",
      "\n",
      "           3       0.00      0.00      0.00         1\n",
      "           6       1.00      1.00      1.00         1\n",
      "           7       0.50      1.00      0.67         1\n",
      "          12       1.00      1.00      1.00         2\n",
      "          14       1.00      1.00      1.00         1\n",
      "          16       1.00      0.50      0.67         2\n",
      "          17       1.00      1.00      1.00         1\n",
      "          18       1.00      1.00      1.00         1\n",
      "          20       1.00      1.00      1.00         1\n",
      "          21       1.00      1.00      1.00         1\n",
      "          23       0.50      1.00      0.67         1\n",
      "          27       0.00      0.00      0.00         0\n",
      "          38       0.00      0.00      0.00         1\n",
      "          39       1.00      1.00      1.00         1\n",
      "          40       1.00      1.00      1.00         1\n",
      "          41       1.00      1.00      1.00         1\n",
      "          44       0.00      0.00      0.00         0\n",
      "          46       1.00      1.00      1.00         1\n",
      "          48       0.00      0.00      0.00         1\n",
      "          52       1.00      1.00      1.00         1\n",
      "\n",
      "    accuracy                           0.80        20\n",
      "   macro avg       0.70      0.72      0.70        20\n",
      "weighted avg       0.80      0.80      0.78        20\n",
      "\n"
     ]
    }
   ],
   "source": [
    "svc=SVC(kernel= 'rbf',\n",
    "        cache_size=100,\n",
    "        gamma = 'scale')\n",
    "svc.fit(xtrain,ytrain)\n",
    "predsvc= svc.predict(xtest)\n",
    "print('acc=', accuracy_score(ytest,predsvc))\n",
    "print(confusion_matrix(ytest,predsvc))\n",
    "print(classification_report(ytest,predsvc))"
   ]
  },
  {
   "cell_type": "markdown",
   "id": "327d2e3d",
   "metadata": {},
   "source": [
    "# Save The Model"
   ]
  },
  {
   "cell_type": "code",
   "execution_count": 716,
   "id": "ef4b1a11",
   "metadata": {},
   "outputs": [],
   "source": [
    "import pickle\n",
    "filename= 'Avocado_region.pkl'\n",
    "pickle.dump(svc,open(filename, 'wb'))"
   ]
  },
  {
   "cell_type": "markdown",
   "id": "475529c5",
   "metadata": {},
   "source": [
    "# Compare Original results with the Predicted Results"
   ]
  },
  {
   "cell_type": "code",
   "execution_count": 717,
   "id": "9396613d",
   "metadata": {},
   "outputs": [
    {
     "data": {
      "text/html": [
       "<div>\n",
       "<style scoped>\n",
       "    .dataframe tbody tr th:only-of-type {\n",
       "        vertical-align: middle;\n",
       "    }\n",
       "\n",
       "    .dataframe tbody tr th {\n",
       "        vertical-align: top;\n",
       "    }\n",
       "\n",
       "    .dataframe thead th {\n",
       "        text-align: right;\n",
       "    }\n",
       "</style>\n",
       "<table border=\"1\" class=\"dataframe\">\n",
       "  <thead>\n",
       "    <tr style=\"text-align: right;\">\n",
       "      <th></th>\n",
       "      <th>original</th>\n",
       "      <th>Predicted</th>\n",
       "    </tr>\n",
       "  </thead>\n",
       "  <tbody>\n",
       "    <tr>\n",
       "      <th>0</th>\n",
       "      <td>3</td>\n",
       "      <td>23</td>\n",
       "    </tr>\n",
       "    <tr>\n",
       "      <th>1</th>\n",
       "      <td>21</td>\n",
       "      <td>21</td>\n",
       "    </tr>\n",
       "    <tr>\n",
       "      <th>2</th>\n",
       "      <td>41</td>\n",
       "      <td>41</td>\n",
       "    </tr>\n",
       "    <tr>\n",
       "      <th>3</th>\n",
       "      <td>23</td>\n",
       "      <td>23</td>\n",
       "    </tr>\n",
       "    <tr>\n",
       "      <th>4</th>\n",
       "      <td>40</td>\n",
       "      <td>40</td>\n",
       "    </tr>\n",
       "    <tr>\n",
       "      <th>5</th>\n",
       "      <td>7</td>\n",
       "      <td>7</td>\n",
       "    </tr>\n",
       "    <tr>\n",
       "      <th>6</th>\n",
       "      <td>38</td>\n",
       "      <td>44</td>\n",
       "    </tr>\n",
       "    <tr>\n",
       "      <th>7</th>\n",
       "      <td>20</td>\n",
       "      <td>20</td>\n",
       "    </tr>\n",
       "    <tr>\n",
       "      <th>8</th>\n",
       "      <td>46</td>\n",
       "      <td>46</td>\n",
       "    </tr>\n",
       "    <tr>\n",
       "      <th>9</th>\n",
       "      <td>52</td>\n",
       "      <td>52</td>\n",
       "    </tr>\n",
       "    <tr>\n",
       "      <th>10</th>\n",
       "      <td>18</td>\n",
       "      <td>18</td>\n",
       "    </tr>\n",
       "    <tr>\n",
       "      <th>11</th>\n",
       "      <td>12</td>\n",
       "      <td>12</td>\n",
       "    </tr>\n",
       "    <tr>\n",
       "      <th>12</th>\n",
       "      <td>12</td>\n",
       "      <td>12</td>\n",
       "    </tr>\n",
       "    <tr>\n",
       "      <th>13</th>\n",
       "      <td>6</td>\n",
       "      <td>6</td>\n",
       "    </tr>\n",
       "    <tr>\n",
       "      <th>14</th>\n",
       "      <td>16</td>\n",
       "      <td>7</td>\n",
       "    </tr>\n",
       "    <tr>\n",
       "      <th>15</th>\n",
       "      <td>39</td>\n",
       "      <td>39</td>\n",
       "    </tr>\n",
       "    <tr>\n",
       "      <th>16</th>\n",
       "      <td>17</td>\n",
       "      <td>17</td>\n",
       "    </tr>\n",
       "    <tr>\n",
       "      <th>17</th>\n",
       "      <td>16</td>\n",
       "      <td>16</td>\n",
       "    </tr>\n",
       "    <tr>\n",
       "      <th>18</th>\n",
       "      <td>14</td>\n",
       "      <td>14</td>\n",
       "    </tr>\n",
       "    <tr>\n",
       "      <th>19</th>\n",
       "      <td>48</td>\n",
       "      <td>27</td>\n",
       "    </tr>\n",
       "  </tbody>\n",
       "</table>\n",
       "</div>"
      ],
      "text/plain": [
       "    original  Predicted\n",
       "0          3         23\n",
       "1         21         21\n",
       "2         41         41\n",
       "3         23         23\n",
       "4         40         40\n",
       "5          7          7\n",
       "6         38         44\n",
       "7         20         20\n",
       "8         46         46\n",
       "9         52         52\n",
       "10        18         18\n",
       "11        12         12\n",
       "12        12         12\n",
       "13         6          6\n",
       "14        16          7\n",
       "15        39         39\n",
       "16        17         17\n",
       "17        16         16\n",
       "18        14         14\n",
       "19        48         27"
      ]
     },
     "execution_count": 717,
     "metadata": {},
     "output_type": "execute_result"
    }
   ],
   "source": [
    "x=np.array(ytest)\n",
    "predicted= np.array(svc.predict(xtest))\n",
    "df_con= pd.DataFrame({'original': x, 'Predicted': predicted}, index= range(len(x)))\n",
    "df_con"
   ]
  },
  {
   "cell_type": "markdown",
   "id": "936f6bb1",
   "metadata": {},
   "source": [
    "The predicted values are nearly close to the original values. the accuracy is about 85%. So the model works well with the dataset"
   ]
  },
  {
   "cell_type": "markdown",
   "id": "3dec9452",
   "metadata": {},
   "source": [
    "AveragePrice - The prediction rate is nearly equal to 80%\n",
    "\n",
    "Region- The prediction rate is equal to 85%. \n",
    "\n",
    "The model performs well both in Regression model and Classification model with the dataset."
   ]
  },
  {
   "cell_type": "code",
   "execution_count": null,
   "id": "cc4c2cb1",
   "metadata": {},
   "outputs": [],
   "source": []
  }
 ],
 "metadata": {
  "kernelspec": {
   "display_name": "Python 3",
   "language": "python",
   "name": "python3"
  },
  "language_info": {
   "codemirror_mode": {
    "name": "ipython",
    "version": 3
   },
   "file_extension": ".py",
   "mimetype": "text/x-python",
   "name": "python",
   "nbconvert_exporter": "python",
   "pygments_lexer": "ipython3",
   "version": "3.8.8"
  }
 },
 "nbformat": 4,
 "nbformat_minor": 5
}
